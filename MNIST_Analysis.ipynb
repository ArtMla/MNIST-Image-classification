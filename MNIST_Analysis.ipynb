{
  "cells": [
    {
      "cell_type": "markdown",
      "metadata": {
        "id": "view-in-github",
        "colab_type": "text"
      },
      "source": [
        "<a href=\"https://colab.research.google.com/github/ArtMla/MNIST-Image-classification/blob/main/MNIST_Analysis.ipynb\" target=\"_parent\"><img src=\"https://colab.research.google.com/assets/colab-badge.svg\" alt=\"Open In Colab\"/></a>"
      ]
    },
    {
      "cell_type": "markdown",
      "source": [
        "# Step 1: Data Loading and Exploration\n",
        "In this phase, we load the MNIST dataset and visualize sample images to understand the structure and shape of the data. MNIST consists of 28x28 grayscale images of handwritten digits ranging from 0 to 9.\n",
        "\n"
      ],
      "metadata": {
        "id": "RKaFUM3NhmxA"
      },
      "id": "RKaFUM3NhmxA"
    },
    {
      "cell_type": "code",
      "source": [
        "import numpy as np\n",
        "import matplotlib.pyplot as plt\n",
        "import tensorflow as tf\n",
        "from tensorflow.keras.datasets import mnist\n",
        "from tensorflow.keras.utils import to_categorical\n",
        "from tensorflow.keras.models import Sequential\n",
        "from tensorflow.keras.layers import Dense\n",
        "from tensorflow.keras.optimizers import Adam"
      ],
      "metadata": {
        "id": "7KKLiEhckp62"
      },
      "id": "7KKLiEhckp62",
      "execution_count": null,
      "outputs": []
    },
    {
      "cell_type": "code",
      "execution_count": null,
      "id": "634cd61e-27f1-47f1-8a1f-9516b1efb3b3",
      "metadata": {
        "colab": {
          "base_uri": "https://localhost:8080/"
        },
        "id": "634cd61e-27f1-47f1-8a1f-9516b1efb3b3",
        "outputId": "77301918-5911-449b-8e83-4493f10fcd5e"
      },
      "outputs": [
        {
          "output_type": "stream",
          "name": "stdout",
          "text": [
            "Downloading data from https://storage.googleapis.com/tensorflow/tf-keras-datasets/mnist.npz\n",
            "\u001b[1m11490434/11490434\u001b[0m \u001b[32m━━━━━━━━━━━━━━━━━━━━\u001b[0m\u001b[37m\u001b[0m \u001b[1m0s\u001b[0m 0us/step\n",
            "Training data shape: (60000, 28, 28)\n",
            "Training labels shape: (60000,)\n",
            "Test data shape: (10000, 28, 28)\n",
            "Test labels shape: (10000,)\n"
          ]
        }
      ],
      "source": [
        "# Load the dataset\n",
        "(x_train, y_train), (x_test, y_test) = mnist.load_data()\n",
        "\n",
        "# Print the shapes\n",
        "print(\"Training data shape:\", x_train.shape)\n",
        "print(\"Training labels shape:\", y_train.shape)\n",
        "print(\"Test data shape:\", x_test.shape)\n",
        "print(\"Test labels shape:\", y_test.shape)"
      ]
    },
    {
      "cell_type": "markdown",
      "source": [
        "## 1.1 Visualizing Sample Digits\n",
        "Below are the first 9 samples from the training dataset, showing the handwritten digits and their corresponding labels."
      ],
      "metadata": {
        "id": "h0YFBWC3h-Ir"
      },
      "id": "h0YFBWC3h-Ir"
    },
    {
      "cell_type": "code",
      "execution_count": null,
      "id": "f6976e9c-a0a6-4762-97e7-985577bbcaf7",
      "metadata": {
        "colab": {
          "base_uri": "https://localhost:8080/",
          "height": 1000
        },
        "id": "f6976e9c-a0a6-4762-97e7-985577bbcaf7",
        "outputId": "6737418c-0f2a-4145-e579-f6927ebd8514"
      },
      "outputs": [
        {
          "output_type": "display_data",
          "data": {
            "text/plain": [
              "<Figure size 1000x1000 with 9 Axes>"
            ],
            "image/png": "[encoded data removed]"
          },
          "metadata": {}
        }
      ],
      "source": [
        "# Show the first 9 digits\n",
        "plt.figure(figsize=(10, 10))\n",
        "for i in range(9):\n",
        "    plt.subplot(3, 3, i+1)\n",
        "    plt.imshow(x_train[i], cmap='gray')\n",
        "    plt.title(f\"Label: {y_train[i]}\")\n",
        "    plt.axis('off')\n",
        "\n",
        "plt.tight_layout()\n",
        "plt.show()"
      ]
    },
    {
      "cell_type": "markdown",
      "source": [
        "# Step 2: Pre-processing\n",
        "\n",
        "To prepare the MNIST data for training, we perform the following preprocessing steps:\n",
        "\n",
        "\n",
        "\n",
        "*   Normalization: Scales pixel values from [0, 255] to [0, 1] for faster\n",
        "convergence.\n",
        "*   Flattening: Converts each 28x28 image into a 784-dimensional vector for input into dense layers.\n",
        "*   One-hot Encoding: Transforms digit labels (0–9) into binary vectors suitable for multi-class classification.\n"
      ],
      "metadata": {
        "id": "P9-bD88WjFK1"
      },
      "id": "P9-bD88WjFK1"
    },
    {
      "cell_type": "code",
      "execution_count": null,
      "id": "9a55d74f-f44b-41dd-9f4c-4947e34f3975",
      "metadata": {
        "id": "9a55d74f-f44b-41dd-9f4c-4947e34f3975",
        "colab": {
          "base_uri": "https://localhost:8080/"
        },
        "outputId": "5638b98f-c83f-43bb-8bd8-d8e002fabb1d"
      },
      "outputs": [
        {
          "output_type": "stream",
          "name": "stdout",
          "text": [
            "Flattened training data shape: (60000, 784)\n",
            "Flattened test data shape: (10000, 784)\n"
          ]
        }
      ],
      "source": [
        "# Normalise the pixels to range [0, 1]\n",
        "x_train = x_train / 255.0\n",
        "x_test = x_test / 255.0\n",
        "\n",
        "# Flatten the 28x28 images into 784-dimension vectors\n",
        "x_train_flat = x_train.reshape(-1, 784)\n",
        "x_test_flat = x_test.reshape(-1, 784)\n",
        "\n",
        "# One-hot encode labels\n",
        "y_train_cat = to_categorical(y_train, 10)\n",
        "y_test_cat = to_categorical(y_test, 10)\n",
        "\n",
        "# Confirm the shape\n",
        "print(\"Flattened training data shape:\", x_train_flat.shape)\n",
        "print(\"Flattened test data shape:\", x_test_flat.shape)\n",
        "\n"
      ]
    },
    {
      "cell_type": "raw",
      "id": "5c80cd16-8209-4718-9071-38ace2a8829a",
      "metadata": {
        "id": "5c80cd16-8209-4718-9071-38ace2a8829a"
      },
      "source": [
        "# Step 3: Model Building\n",
        "In this phase, we define two neural network architectures using the same structure but different activation functions (ReLU and Tanh) in the hidden layers. The goal is to compare their performance in terms of accuracy, convergence, and generalization.\n",
        "\n",
        "## 3.1 Model A – Neural Network with ReLU Activation\n",
        "This model uses the ReLU (Rectified Linear Unit) activation function in all hidden layers. ReLU helps in faster convergence and avoids the vanishing gradient problem by allowing only positive values to pass through.\n",
        "\n",
        "Architecture:\n",
        "\n",
        "\n",
        "*   Input layer: 784 units (flattened image)\n",
        "*   Hidden Layer 1: 128 neurons, ReLU\n",
        "*   Hidden Layer 2: 64 neurons, ReLU\n",
        "*   Hidden Layer 3: 32 neurons, ReLU\n",
        "*   Output Layer: 10 neurons, Softmax"
      ]
    },
    {
      "cell_type": "code",
      "execution_count": null,
      "id": "e7178e56-f52f-4189-bcba-9d4c1b8273da",
      "metadata": {
        "id": "e7178e56-f52f-4189-bcba-9d4c1b8273da",
        "colab": {
          "base_uri": "https://localhost:8080/",
          "height": 320
        },
        "outputId": "9a6fa259-4b08-47d7-da18-4bef3c7cd49f"
      },
      "outputs": [
        {
          "output_type": "stream",
          "name": "stderr",
          "text": [
            "/usr/local/lib/python3.12/dist-packages/keras/src/layers/core/dense.py:93: UserWarning: Do not pass an `input_shape`/`input_dim` argument to a layer. When using Sequential models, prefer using an `Input(shape)` object as the first layer in the model instead.\n",
            "  super().__init__(activity_regularizer=activity_regularizer, **kwargs)\n"
          ]
        },
        {
          "output_type": "display_data",
          "data": {
            "text/plain": [
              "\u001b[1mModel: \"sequential\"\u001b[0m\n"
            ],
            "text/html": [
              "<pre style=\"white-space:pre;overflow-x:auto;line-height:normal;font-family:Menlo,'DejaVu Sans Mono',consolas,'Courier New',monospace\"><span style=\"font-weight: bold\">Model: \"sequential\"</span>\n",
              "</pre>\n"
            ]
          },
          "metadata": {}
        },
        {
          "output_type": "display_data",
          "data": {
            "text/plain": [
              "┏━━━━━━━━━━━━━━━━━━━━━━━━━━━━━━━━━┳━━━━━━━━━━━━━━━━━━━━━━━━┳━━━━━━━━━━━━━━━┓\n",
              "┃\u001b[1m \u001b[0m\u001b[1mLayer (type)                   \u001b[0m\u001b[1m \u001b[0m┃\u001b[1m \u001b[0m\u001b[1mOutput Shape          \u001b[0m\u001b[1m \u001b[0m┃\u001b[1m \u001b[0m\u001b[1m      Param #\u001b[0m\u001b[1m \u001b[0m┃\n",
              "┡━━━━━━━━━━━━━━━━━━━━━━━━━━━━━━━━━╇━━━━━━━━━━━━━━━━━━━━━━━━╇━━━━━━━━━━━━━━━┩\n",
              "│ dense (\u001b[38;5;33mDense\u001b[0m)                   │ (\u001b[38;5;45mNone\u001b[0m, \u001b[38;5;34m128\u001b[0m)            │       \u001b[38;5;34m100,480\u001b[0m │\n",
              "├─────────────────────────────────┼────────────────────────┼───────────────┤\n",
              "│ dense_1 (\u001b[38;5;33mDense\u001b[0m)                 │ (\u001b[38;5;45mNone\u001b[0m, \u001b[38;5;34m64\u001b[0m)             │         \u001b[38;5;34m8,256\u001b[0m │\n",
              "├─────────────────────────────────┼────────────────────────┼───────────────┤\n",
              "│ dense_2 (\u001b[38;5;33mDense\u001b[0m)                 │ (\u001b[38;5;45mNone\u001b[0m, \u001b[38;5;34m32\u001b[0m)             │         \u001b[38;5;34m2,080\u001b[0m │\n",
              "├─────────────────────────────────┼────────────────────────┼───────────────┤\n",
              "│ dense_3 (\u001b[38;5;33mDense\u001b[0m)                 │ (\u001b[38;5;45mNone\u001b[0m, \u001b[38;5;34m10\u001b[0m)             │           \u001b[38;5;34m330\u001b[0m │\n",
              "└─────────────────────────────────┴────────────────────────┴───────────────┘\n"
            ],
            "text/html": [
              "<pre style=\"white-space:pre;overflow-x:auto;line-height:normal;font-family:Menlo,'DejaVu Sans Mono',consolas,'Courier New',monospace\">┏━━━━━━━━━━━━━━━━━━━━━━━━━━━━━━━━━┳━━━━━━━━━━━━━━━━━━━━━━━━┳━━━━━━━━━━━━━━━┓\n",
              "┃<span style=\"font-weight: bold\"> Layer (type)                    </span>┃<span style=\"font-weight: bold\"> Output Shape           </span>┃<span style=\"font-weight: bold\">       Param # </span>┃\n",
              "┡━━━━━━━━━━━━━━━━━━━━━━━━━━━━━━━━━╇━━━━━━━━━━━━━━━━━━━━━━━━╇━━━━━━━━━━━━━━━┩\n",
              "│ dense (<span style=\"color: #0087ff; text-decoration-color: #0087ff\">Dense</span>)                   │ (<span style=\"color: #00d7ff; text-decoration-color: #00d7ff\">None</span>, <span style=\"color: #00af00; text-decoration-color: #00af00\">128</span>)            │       <span style=\"color: #00af00; text-decoration-color: #00af00\">100,480</span> │\n",
              "├─────────────────────────────────┼────────────────────────┼───────────────┤\n",
              "│ dense_1 (<span style=\"color: #0087ff; text-decoration-color: #0087ff\">Dense</span>)                 │ (<span style=\"color: #00d7ff; text-decoration-color: #00d7ff\">None</span>, <span style=\"color: #00af00; text-decoration-color: #00af00\">64</span>)             │         <span style=\"color: #00af00; text-decoration-color: #00af00\">8,256</span> │\n",
              "├─────────────────────────────────┼────────────────────────┼───────────────┤\n",
              "│ dense_2 (<span style=\"color: #0087ff; text-decoration-color: #0087ff\">Dense</span>)                 │ (<span style=\"color: #00d7ff; text-decoration-color: #00d7ff\">None</span>, <span style=\"color: #00af00; text-decoration-color: #00af00\">32</span>)             │         <span style=\"color: #00af00; text-decoration-color: #00af00\">2,080</span> │\n",
              "├─────────────────────────────────┼────────────────────────┼───────────────┤\n",
              "│ dense_3 (<span style=\"color: #0087ff; text-decoration-color: #0087ff\">Dense</span>)                 │ (<span style=\"color: #00d7ff; text-decoration-color: #00d7ff\">None</span>, <span style=\"color: #00af00; text-decoration-color: #00af00\">10</span>)             │           <span style=\"color: #00af00; text-decoration-color: #00af00\">330</span> │\n",
              "└─────────────────────────────────┴────────────────────────┴───────────────┘\n",
              "</pre>\n"
            ]
          },
          "metadata": {}
        },
        {
          "output_type": "display_data",
          "data": {
            "text/plain": [
              "\u001b[1m Total params: \u001b[0m\u001b[38;5;34m111,146\u001b[0m (434.16 KB)\n"
            ],
            "text/html": [
              "<pre style=\"white-space:pre;overflow-x:auto;line-height:normal;font-family:Menlo,'DejaVu Sans Mono',consolas,'Courier New',monospace\"><span style=\"font-weight: bold\"> Total params: </span><span style=\"color: #00af00; text-decoration-color: #00af00\">111,146</span> (434.16 KB)\n",
              "</pre>\n"
            ]
          },
          "metadata": {}
        },
        {
          "output_type": "display_data",
          "data": {
            "text/plain": [
              "\u001b[1m Trainable params: \u001b[0m\u001b[38;5;34m111,146\u001b[0m (434.16 KB)\n"
            ],
            "text/html": [
              "<pre style=\"white-space:pre;overflow-x:auto;line-height:normal;font-family:Menlo,'DejaVu Sans Mono',consolas,'Courier New',monospace\"><span style=\"font-weight: bold\"> Trainable params: </span><span style=\"color: #00af00; text-decoration-color: #00af00\">111,146</span> (434.16 KB)\n",
              "</pre>\n"
            ]
          },
          "metadata": {}
        },
        {
          "output_type": "display_data",
          "data": {
            "text/plain": [
              "\u001b[1m Non-trainable params: \u001b[0m\u001b[38;5;34m0\u001b[0m (0.00 B)\n"
            ],
            "text/html": [
              "<pre style=\"white-space:pre;overflow-x:auto;line-height:normal;font-family:Menlo,'DejaVu Sans Mono',consolas,'Courier New',monospace\"><span style=\"font-weight: bold\"> Non-trainable params: </span><span style=\"color: #00af00; text-decoration-color: #00af00\">0</span> (0.00 B)\n",
              "</pre>\n"
            ]
          },
          "metadata": {}
        }
      ],
      "source": [
        "# Build Model A with ReLU activation\n",
        "model_relu = Sequential([\n",
        "    Dense(128, activation='relu', input_shape=(784,)),\n",
        "    Dense(64, activation='relu'),\n",
        "    Dense(32, activation='relu'),\n",
        "    Dense(10, activation='softmax')  # Softmax for multi-class classification\n",
        "])\n",
        "\n",
        "# Compile the model\n",
        "model_relu.compile(optimizer=Adam(), loss='categorical_crossentropy', metrics=['accuracy'])\n",
        "\n",
        "# Print model summary\n",
        "model_relu.summary()"
      ]
    },
    {
      "cell_type": "markdown",
      "source": [
        "## 3.2 Model B – Neural Network with Tanh Activation\n",
        "This model uses the Tanh activation function in all hidden layers. Tanh outputs values between -1 and 1 and is zero-centered, which can sometimes result in better weight updates than ReLU for certain datasets. However, it is prone to vanishing gradients in deep networks.\n",
        "\n",
        "Architecture:\n",
        "\n",
        "\n",
        "\n",
        "* Input layer: 784 units (flattened image)\n",
        "*  Hidden Layer 1: 128 neurons, Tanh\n",
        "*  Hidden Layer 2: 64 neurons, Tanh\n",
        "\n",
        "\n",
        "\n",
        "\n"
      ],
      "metadata": {
        "id": "vJL-ttQD7Fpq"
      },
      "id": "vJL-ttQD7Fpq"
    },
    {
      "cell_type": "code",
      "source": [
        "# Build Model B with Tanh activation\n",
        "model_tanh = Sequential([\n",
        "    Dense(128, activation='tanh', input_shape=(784,)),\n",
        "    Dense(64, activation='tanh'),\n",
        "    Dense(32, activation='tanh'),\n",
        "    Dense(10, activation='softmax')\n",
        "])\n",
        "\n",
        "# Compile the model\n",
        "model_tanh.compile(optimizer=Adam(), loss='categorical_crossentropy', metrics=['accuracy'])\n",
        "\n",
        "# Print model summary\n",
        "model_tanh.summary()"
      ],
      "metadata": {
        "id": "gVmibBO17qgr",
        "outputId": "13785561-a7e8-42b9-bf92-784b8df58e04",
        "colab": {
          "base_uri": "https://localhost:8080/",
          "height": 265
        }
      },
      "id": "gVmibBO17qgr",
      "execution_count": null,
      "outputs": [
        {
          "output_type": "display_data",
          "data": {
            "text/plain": [
              "\u001b[1mModel: \"sequential_1\"\u001b[0m\n"
            ],
            "text/html": [
              "<pre style=\"white-space:pre;overflow-x:auto;line-height:normal;font-family:Menlo,'DejaVu Sans Mono',consolas,'Courier New',monospace\"><span style=\"font-weight: bold\">Model: \"sequential_1\"</span>\n",
              "</pre>\n"
            ]
          },
          "metadata": {}
        },
        {
          "output_type": "display_data",
          "data": {
            "text/plain": [
              "┏━━━━━━━━━━━━━━━━━━━━━━━━━━━━━━━━━┳━━━━━━━━━━━━━━━━━━━━━━━━┳━━━━━━━━━━━━━━━┓\n",
              "┃\u001b[1m \u001b[0m\u001b[1mLayer (type)                   \u001b[0m\u001b[1m \u001b[0m┃\u001b[1m \u001b[0m\u001b[1mOutput Shape          \u001b[0m\u001b[1m \u001b[0m┃\u001b[1m \u001b[0m\u001b[1m      Param #\u001b[0m\u001b[1m \u001b[0m┃\n",
              "┡━━━━━━━━━━━━━━━━━━━━━━━━━━━━━━━━━╇━━━━━━━━━━━━━━━━━━━━━━━━╇━━━━━━━━━━━━━━━┩\n",
              "│ dense_4 (\u001b[38;5;33mDense\u001b[0m)                 │ (\u001b[38;5;45mNone\u001b[0m, \u001b[38;5;34m128\u001b[0m)            │       \u001b[38;5;34m100,480\u001b[0m │\n",
              "├─────────────────────────────────┼────────────────────────┼───────────────┤\n",
              "│ dense_5 (\u001b[38;5;33mDense\u001b[0m)                 │ (\u001b[38;5;45mNone\u001b[0m, \u001b[38;5;34m64\u001b[0m)             │         \u001b[38;5;34m8,256\u001b[0m │\n",
              "├─────────────────────────────────┼────────────────────────┼───────────────┤\n",
              "│ dense_6 (\u001b[38;5;33mDense\u001b[0m)                 │ (\u001b[38;5;45mNone\u001b[0m, \u001b[38;5;34m32\u001b[0m)             │         \u001b[38;5;34m2,080\u001b[0m │\n",
              "├─────────────────────────────────┼────────────────────────┼───────────────┤\n",
              "│ dense_7 (\u001b[38;5;33mDense\u001b[0m)                 │ (\u001b[38;5;45mNone\u001b[0m, \u001b[38;5;34m10\u001b[0m)             │           \u001b[38;5;34m330\u001b[0m │\n",
              "└─────────────────────────────────┴────────────────────────┴───────────────┘\n"
            ],
            "text/html": [
              "<pre style=\"white-space:pre;overflow-x:auto;line-height:normal;font-family:Menlo,'DejaVu Sans Mono',consolas,'Courier New',monospace\">┏━━━━━━━━━━━━━━━━━━━━━━━━━━━━━━━━━┳━━━━━━━━━━━━━━━━━━━━━━━━┳━━━━━━━━━━━━━━━┓\n",
              "┃<span style=\"font-weight: bold\"> Layer (type)                    </span>┃<span style=\"font-weight: bold\"> Output Shape           </span>┃<span style=\"font-weight: bold\">       Param # </span>┃\n",
              "┡━━━━━━━━━━━━━━━━━━━━━━━━━━━━━━━━━╇━━━━━━━━━━━━━━━━━━━━━━━━╇━━━━━━━━━━━━━━━┩\n",
              "│ dense_4 (<span style=\"color: #0087ff; text-decoration-color: #0087ff\">Dense</span>)                 │ (<span style=\"color: #00d7ff; text-decoration-color: #00d7ff\">None</span>, <span style=\"color: #00af00; text-decoration-color: #00af00\">128</span>)            │       <span style=\"color: #00af00; text-decoration-color: #00af00\">100,480</span> │\n",
              "├─────────────────────────────────┼────────────────────────┼───────────────┤\n",
              "│ dense_5 (<span style=\"color: #0087ff; text-decoration-color: #0087ff\">Dense</span>)                 │ (<span style=\"color: #00d7ff; text-decoration-color: #00d7ff\">None</span>, <span style=\"color: #00af00; text-decoration-color: #00af00\">64</span>)             │         <span style=\"color: #00af00; text-decoration-color: #00af00\">8,256</span> │\n",
              "├─────────────────────────────────┼────────────────────────┼───────────────┤\n",
              "│ dense_6 (<span style=\"color: #0087ff; text-decoration-color: #0087ff\">Dense</span>)                 │ (<span style=\"color: #00d7ff; text-decoration-color: #00d7ff\">None</span>, <span style=\"color: #00af00; text-decoration-color: #00af00\">32</span>)             │         <span style=\"color: #00af00; text-decoration-color: #00af00\">2,080</span> │\n",
              "├─────────────────────────────────┼────────────────────────┼───────────────┤\n",
              "│ dense_7 (<span style=\"color: #0087ff; text-decoration-color: #0087ff\">Dense</span>)                 │ (<span style=\"color: #00d7ff; text-decoration-color: #00d7ff\">None</span>, <span style=\"color: #00af00; text-decoration-color: #00af00\">10</span>)             │           <span style=\"color: #00af00; text-decoration-color: #00af00\">330</span> │\n",
              "└─────────────────────────────────┴────────────────────────┴───────────────┘\n",
              "</pre>\n"
            ]
          },
          "metadata": {}
        },
        {
          "output_type": "display_data",
          "data": {
            "text/plain": [
              "\u001b[1m Total params: \u001b[0m\u001b[38;5;34m111,146\u001b[0m (434.16 KB)\n"
            ],
            "text/html": [
              "<pre style=\"white-space:pre;overflow-x:auto;line-height:normal;font-family:Menlo,'DejaVu Sans Mono',consolas,'Courier New',monospace\"><span style=\"font-weight: bold\"> Total params: </span><span style=\"color: #00af00; text-decoration-color: #00af00\">111,146</span> (434.16 KB)\n",
              "</pre>\n"
            ]
          },
          "metadata": {}
        },
        {
          "output_type": "display_data",
          "data": {
            "text/plain": [
              "\u001b[1m Trainable params: \u001b[0m\u001b[38;5;34m111,146\u001b[0m (434.16 KB)\n"
            ],
            "text/html": [
              "<pre style=\"white-space:pre;overflow-x:auto;line-height:normal;font-family:Menlo,'DejaVu Sans Mono',consolas,'Courier New',monospace\"><span style=\"font-weight: bold\"> Trainable params: </span><span style=\"color: #00af00; text-decoration-color: #00af00\">111,146</span> (434.16 KB)\n",
              "</pre>\n"
            ]
          },
          "metadata": {}
        },
        {
          "output_type": "display_data",
          "data": {
            "text/plain": [
              "\u001b[1m Non-trainable params: \u001b[0m\u001b[38;5;34m0\u001b[0m (0.00 B)\n"
            ],
            "text/html": [
              "<pre style=\"white-space:pre;overflow-x:auto;line-height:normal;font-family:Menlo,'DejaVu Sans Mono',consolas,'Courier New',monospace\"><span style=\"font-weight: bold\"> Non-trainable params: </span><span style=\"color: #00af00; text-decoration-color: #00af00\">0</span> (0.00 B)\n",
              "</pre>\n"
            ]
          },
          "metadata": {}
        }
      ]
    },
    {
      "cell_type": "markdown",
      "source": [
        "# Step 4: Model Training\n",
        "In this phase, we train both models using the same training configuration to ensure a fair comparison. We use 20% of the training data as a validation set to monitor model performance during training.\n",
        "\n",
        "## 4.1 Training Model A – ReLU\n",
        "Model A is trained for 20 epochs with a batch size of 128 using the Adam optimizer. We track training and validation accuracy and loss to identify signs of overfitting or underfitting."
      ],
      "metadata": {
        "id": "c4uyxZLy8Ewf"
      },
      "id": "c4uyxZLy8Ewf"
    },
    {
      "cell_type": "code",
      "source": [
        "# Train Model A (ReLU)\n",
        "history_relu = model_relu.fit(\n",
        "    x_train_flat, y_train_cat,\n",
        "    validation_split=0.2,\n",
        "    epochs=20,\n",
        "    batch_size=128,\n",
        "    verbose=1\n",
        ")"
      ],
      "metadata": {
        "id": "ubAlNxI98Q0F",
        "outputId": "502be646-c418-4b57-f3bd-527a2eb907d3",
        "colab": {
          "base_uri": "https://localhost:8080/"
        }
      },
      "id": "ubAlNxI98Q0F",
      "execution_count": null,
      "outputs": [
        {
          "output_type": "stream",
          "name": "stdout",
          "text": [
            "Epoch 1/20\n",
            "\u001b[1m375/375\u001b[0m \u001b[32m━━━━━━━━━━━━━━━━━━━━\u001b[0m\u001b[37m\u001b[0m \u001b[1m4s\u001b[0m 7ms/step - accuracy: 0.7811 - loss: 0.7387 - val_accuracy: 0.9473 - val_loss: 0.1879\n",
            "Epoch 2/20\n",
            "\u001b[1m375/375\u001b[0m \u001b[32m━━━━━━━━━━━━━━━━━━━━\u001b[0m\u001b[37m\u001b[0m \u001b[1m2s\u001b[0m 6ms/step - accuracy: 0.9501 - loss: 0.1737 - val_accuracy: 0.9608 - val_loss: 0.1373\n",
            "Epoch 3/20\n",
            "\u001b[1m375/375\u001b[0m \u001b[32m━━━━━━━━━━━━━━━━━━━━\u001b[0m\u001b[37m\u001b[0m \u001b[1m2s\u001b[0m 6ms/step - accuracy: 0.9673 - loss: 0.1132 - val_accuracy: 0.9645 - val_loss: 0.1212\n",
            "Epoch 4/20\n",
            "\u001b[1m375/375\u001b[0m \u001b[32m━━━━━━━━━━━━━━━━━━━━\u001b[0m\u001b[37m\u001b[0m \u001b[1m3s\u001b[0m 8ms/step - accuracy: 0.9729 - loss: 0.0903 - val_accuracy: 0.9689 - val_loss: 0.1073\n",
            "Epoch 5/20\n",
            "\u001b[1m375/375\u001b[0m \u001b[32m━━━━━━━━━━━━━━━━━━━━\u001b[0m\u001b[37m\u001b[0m \u001b[1m3s\u001b[0m 7ms/step - accuracy: 0.9798 - loss: 0.0703 - val_accuracy: 0.9701 - val_loss: 0.1000\n",
            "Epoch 6/20\n",
            "\u001b[1m375/375\u001b[0m \u001b[32m━━━━━━━━━━━━━━━━━━━━\u001b[0m\u001b[37m\u001b[0m \u001b[1m2s\u001b[0m 6ms/step - accuracy: 0.9844 - loss: 0.0537 - val_accuracy: 0.9699 - val_loss: 0.1027\n",
            "Epoch 7/20\n",
            "\u001b[1m375/375\u001b[0m \u001b[32m━━━━━━━━━━━━━━━━━━━━\u001b[0m\u001b[37m\u001b[0m \u001b[1m2s\u001b[0m 6ms/step - accuracy: 0.9874 - loss: 0.0420 - val_accuracy: 0.9683 - val_loss: 0.1067\n",
            "Epoch 8/20\n",
            "\u001b[1m375/375\u001b[0m \u001b[32m━━━━━━━━━━━━━━━━━━━━\u001b[0m\u001b[37m\u001b[0m \u001b[1m3s\u001b[0m 6ms/step - accuracy: 0.9886 - loss: 0.0365 - val_accuracy: 0.9719 - val_loss: 0.0998\n",
            "Epoch 9/20\n",
            "\u001b[1m375/375\u001b[0m \u001b[32m━━━━━━━━━━━━━━━━━━━━\u001b[0m\u001b[37m\u001b[0m \u001b[1m4s\u001b[0m 11ms/step - accuracy: 0.9914 - loss: 0.0297 - val_accuracy: 0.9733 - val_loss: 0.0976\n",
            "Epoch 10/20\n",
            "\u001b[1m375/375\u001b[0m \u001b[32m━━━━━━━━━━━━━━━━━━━━\u001b[0m\u001b[37m\u001b[0m \u001b[1m2s\u001b[0m 6ms/step - accuracy: 0.9921 - loss: 0.0245 - val_accuracy: 0.9718 - val_loss: 0.1101\n",
            "Epoch 11/20\n",
            "\u001b[1m375/375\u001b[0m \u001b[32m━━━━━━━━━━━━━━━━━━━━\u001b[0m\u001b[37m\u001b[0m \u001b[1m2s\u001b[0m 6ms/step - accuracy: 0.9954 - loss: 0.0177 - val_accuracy: 0.9740 - val_loss: 0.0989\n",
            "Epoch 12/20\n",
            "\u001b[1m375/375\u001b[0m \u001b[32m━━━━━━━━━━━━━━━━━━━━\u001b[0m\u001b[37m\u001b[0m \u001b[1m2s\u001b[0m 6ms/step - accuracy: 0.9959 - loss: 0.0133 - val_accuracy: 0.9737 - val_loss: 0.1061\n",
            "Epoch 13/20\n",
            "\u001b[1m375/375\u001b[0m \u001b[32m━━━━━━━━━━━━━━━━━━━━\u001b[0m\u001b[37m\u001b[0m \u001b[1m2s\u001b[0m 6ms/step - accuracy: 0.9947 - loss: 0.0166 - val_accuracy: 0.9714 - val_loss: 0.1218\n",
            "Epoch 14/20\n",
            "\u001b[1m375/375\u001b[0m \u001b[32m━━━━━━━━━━━━━━━━━━━━\u001b[0m\u001b[37m\u001b[0m \u001b[1m4s\u001b[0m 10ms/step - accuracy: 0.9960 - loss: 0.0124 - val_accuracy: 0.9709 - val_loss: 0.1215\n",
            "Epoch 15/20\n",
            "\u001b[1m375/375\u001b[0m \u001b[32m━━━━━━━━━━━━━━━━━━━━\u001b[0m\u001b[37m\u001b[0m \u001b[1m2s\u001b[0m 6ms/step - accuracy: 0.9953 - loss: 0.0146 - val_accuracy: 0.9741 - val_loss: 0.1054\n",
            "Epoch 16/20\n",
            "\u001b[1m375/375\u001b[0m \u001b[32m━━━━━━━━━━━━━━━━━━━━\u001b[0m\u001b[37m\u001b[0m \u001b[1m2s\u001b[0m 6ms/step - accuracy: 0.9966 - loss: 0.0110 - val_accuracy: 0.9754 - val_loss: 0.1127\n",
            "Epoch 17/20\n",
            "\u001b[1m375/375\u001b[0m \u001b[32m━━━━━━━━━━━━━━━━━━━━\u001b[0m\u001b[37m\u001b[0m \u001b[1m2s\u001b[0m 6ms/step - accuracy: 0.9979 - loss: 0.0070 - val_accuracy: 0.9748 - val_loss: 0.1181\n",
            "Epoch 18/20\n",
            "\u001b[1m375/375\u001b[0m \u001b[32m━━━━━━━━━━━━━━━━━━━━\u001b[0m\u001b[37m\u001b[0m \u001b[1m2s\u001b[0m 6ms/step - accuracy: 0.9963 - loss: 0.0103 - val_accuracy: 0.9728 - val_loss: 0.1247\n",
            "Epoch 19/20\n",
            "\u001b[1m375/375\u001b[0m \u001b[32m━━━━━━━━━━━━━━━━━━━━\u001b[0m\u001b[37m\u001b[0m \u001b[1m4s\u001b[0m 9ms/step - accuracy: 0.9965 - loss: 0.0107 - val_accuracy: 0.9758 - val_loss: 0.1201\n",
            "Epoch 20/20\n",
            "\u001b[1m375/375\u001b[0m \u001b[32m━━━━━━━━━━━━━━━━━━━━\u001b[0m\u001b[37m\u001b[0m \u001b[1m2s\u001b[0m 6ms/step - accuracy: 0.9982 - loss: 0.0057 - val_accuracy: 0.9742 - val_loss: 0.1267\n"
          ]
        }
      ]
    },
    {
      "cell_type": "markdown",
      "source": [
        "## 🔍 Observations from Training (Model A – ReLU)\n",
        "\n",
        "*   Model A using ReLU activation reached a training accuracy of 99.49% and a validation accuracy of 97.55% by epoch 20.\n",
        "\n",
        "*   The model showed fast initial convergence, achieving over 95% validation accuracy by epoch 3 — consistent with ReLU's known advantage in speeding up learning.\n",
        "\n",
        "*   However, after around epoch 6–7, validation loss began to fluctuate or increase, while training accuracy continued to rise — a classic sign of overfitting.\n",
        "*   This supports the theoretical behavior of ReLU:\n",
        "    - Fast learning due to non-saturating gradients\n",
        "    - But more prone to overfitting if not regularized\n",
        "\n",
        "\n",
        "*   Despite slight overfitting, the final validation accuracy remained high, making ReLU an effective choice — though some tuning may help reduce generalization error.\n",
        "\n",
        "The next phase, we will compare this behavior visually with the Tanh model.\n",
        "\n"
      ],
      "metadata": {
        "id": "gQ9N-yx5_Ofy"
      },
      "id": "gQ9N-yx5_Ofy"
    },
    {
      "cell_type": "markdown",
      "source": [
        "## 4.2 Training Model B – Tanh\n",
        "This model uses the same architecture, optimizer (Adam), and training configuration as the ReLU-based model to ensure a fair comparison. The only difference is the use of the Tanh activation function in the hidden layers.\n",
        "\n",
        "Tanh outputs values between -1 and 1, and being zero-centered can sometimes lead to better convergence during optimization. However, it is more susceptible to the vanishing gradient problem compared to ReLU, especially in deeper networks.\n",
        "\n",
        "We will track accuracy and loss across 20 epochs using 20% of the training data for validation."
      ],
      "metadata": {
        "id": "Q40ceO3IEu_I"
      },
      "id": "Q40ceO3IEu_I"
    },
    {
      "cell_type": "code",
      "source": [
        "# Train Model B (Tanh)\n",
        "history_tanh = model_tanh.fit(\n",
        "    x_train_flat, y_train_cat,\n",
        "    validation_split=0.2,\n",
        "    epochs=20,\n",
        "    batch_size=128,\n",
        "    verbose=1\n",
        ")"
      ],
      "metadata": {
        "id": "VpnhrFkGE1iV",
        "outputId": "43158c90-55a6-4f14-80e7-3c61599655dd",
        "colab": {
          "base_uri": "https://localhost:8080/"
        }
      },
      "id": "VpnhrFkGE1iV",
      "execution_count": 8,
      "outputs": [
        {
          "output_type": "stream",
          "name": "stdout",
          "text": [
            "Epoch 1/20\n",
            "\u001b[1m375/375\u001b[0m \u001b[32m━━━━━━━━━━━━━━━━━━━━\u001b[0m\u001b[37m\u001b[0m \u001b[1m4s\u001b[0m 7ms/step - accuracy: 0.8231 - loss: 0.6765 - val_accuracy: 0.9387 - val_loss: 0.2136\n",
            "Epoch 2/20\n",
            "\u001b[1m375/375\u001b[0m \u001b[32m━━━━━━━━━━━━━━━━━━━━\u001b[0m\u001b[37m\u001b[0m \u001b[1m2s\u001b[0m 6ms/step - accuracy: 0.9462 - loss: 0.1902 - val_accuracy: 0.9597 - val_loss: 0.1448\n",
            "Epoch 3/20\n",
            "\u001b[1m375/375\u001b[0m \u001b[32m━━━━━━━━━━━━━━━━━━━━\u001b[0m\u001b[37m\u001b[0m \u001b[1m2s\u001b[0m 6ms/step - accuracy: 0.9655 - loss: 0.1221 - val_accuracy: 0.9659 - val_loss: 0.1200\n",
            "Epoch 4/20\n",
            "\u001b[1m375/375\u001b[0m \u001b[32m━━━━━━━━━━━━━━━━━━━━\u001b[0m\u001b[37m\u001b[0m \u001b[1m3s\u001b[0m 8ms/step - accuracy: 0.9740 - loss: 0.0897 - val_accuracy: 0.9688 - val_loss: 0.1077\n",
            "Epoch 5/20\n",
            "\u001b[1m375/375\u001b[0m \u001b[32m━━━━━━━━━━━━━━━━━━━━\u001b[0m\u001b[37m\u001b[0m \u001b[1m3s\u001b[0m 7ms/step - accuracy: 0.9796 - loss: 0.0692 - val_accuracy: 0.9712 - val_loss: 0.0989\n",
            "Epoch 6/20\n",
            "\u001b[1m375/375\u001b[0m \u001b[32m━━━━━━━━━━━━━━━━━━━━\u001b[0m\u001b[37m\u001b[0m \u001b[1m2s\u001b[0m 6ms/step - accuracy: 0.9847 - loss: 0.0536 - val_accuracy: 0.9699 - val_loss: 0.1006\n",
            "Epoch 7/20\n",
            "\u001b[1m375/375\u001b[0m \u001b[32m━━━━━━━━━━━━━━━━━━━━\u001b[0m\u001b[37m\u001b[0m \u001b[1m2s\u001b[0m 6ms/step - accuracy: 0.9888 - loss: 0.0402 - val_accuracy: 0.9722 - val_loss: 0.0937\n",
            "Epoch 8/20\n",
            "\u001b[1m375/375\u001b[0m \u001b[32m━━━━━━━━━━━━━━━━━━━━\u001b[0m\u001b[37m\u001b[0m \u001b[1m2s\u001b[0m 6ms/step - accuracy: 0.9910 - loss: 0.0340 - val_accuracy: 0.9722 - val_loss: 0.0999\n",
            "Epoch 9/20\n",
            "\u001b[1m375/375\u001b[0m \u001b[32m━━━━━━━━━━━━━━━━━━━━\u001b[0m\u001b[37m\u001b[0m \u001b[1m3s\u001b[0m 9ms/step - accuracy: 0.9928 - loss: 0.0276 - val_accuracy: 0.9741 - val_loss: 0.0876\n",
            "Epoch 10/20\n",
            "\u001b[1m375/375\u001b[0m \u001b[32m━━━━━━━━━━━━━━━━━━━━\u001b[0m\u001b[37m\u001b[0m \u001b[1m4s\u001b[0m 7ms/step - accuracy: 0.9954 - loss: 0.0183 - val_accuracy: 0.9736 - val_loss: 0.0964\n",
            "Epoch 11/20\n",
            "\u001b[1m375/375\u001b[0m \u001b[32m━━━━━━━━━━━━━━━━━━━━\u001b[0m\u001b[37m\u001b[0m \u001b[1m2s\u001b[0m 6ms/step - accuracy: 0.9952 - loss: 0.0179 - val_accuracy: 0.9739 - val_loss: 0.0976\n",
            "Epoch 12/20\n",
            "\u001b[1m375/375\u001b[0m \u001b[32m━━━━━━━━━━━━━━━━━━━━\u001b[0m\u001b[37m\u001b[0m \u001b[1m2s\u001b[0m 7ms/step - accuracy: 0.9959 - loss: 0.0153 - val_accuracy: 0.9744 - val_loss: 0.0947\n",
            "Epoch 13/20\n",
            "\u001b[1m375/375\u001b[0m \u001b[32m━━━━━━━━━━━━━━━━━━━━\u001b[0m\u001b[37m\u001b[0m \u001b[1m3s\u001b[0m 9ms/step - accuracy: 0.9974 - loss: 0.0113 - val_accuracy: 0.9758 - val_loss: 0.0934\n",
            "Epoch 14/20\n",
            "\u001b[1m375/375\u001b[0m \u001b[32m━━━━━━━━━━━━━━━━━━━━\u001b[0m\u001b[37m\u001b[0m \u001b[1m3s\u001b[0m 7ms/step - accuracy: 0.9985 - loss: 0.0076 - val_accuracy: 0.9750 - val_loss: 0.0976\n",
            "Epoch 15/20\n",
            "\u001b[1m375/375\u001b[0m \u001b[32m━━━━━━━━━━━━━━━━━━━━\u001b[0m\u001b[37m\u001b[0m \u001b[1m3s\u001b[0m 7ms/step - accuracy: 0.9978 - loss: 0.0094 - val_accuracy: 0.9756 - val_loss: 0.1024\n",
            "Epoch 16/20\n",
            "\u001b[1m375/375\u001b[0m \u001b[32m━━━━━━━━━━━━━━━━━━━━\u001b[0m\u001b[37m\u001b[0m \u001b[1m2s\u001b[0m 6ms/step - accuracy: 0.9978 - loss: 0.0085 - val_accuracy: 0.9739 - val_loss: 0.1019\n",
            "Epoch 17/20\n",
            "\u001b[1m375/375\u001b[0m \u001b[32m━━━━━━━━━━━━━━━━━━━━\u001b[0m\u001b[37m\u001b[0m \u001b[1m2s\u001b[0m 6ms/step - accuracy: 0.9983 - loss: 0.0071 - val_accuracy: 0.9717 - val_loss: 0.1176\n",
            "Epoch 18/20\n",
            "\u001b[1m375/375\u001b[0m \u001b[32m━━━━━━━━━━━━━━━━━━━━\u001b[0m\u001b[37m\u001b[0m \u001b[1m4s\u001b[0m 10ms/step - accuracy: 0.9966 - loss: 0.0113 - val_accuracy: 0.9732 - val_loss: 0.1092\n",
            "Epoch 19/20\n",
            "\u001b[1m375/375\u001b[0m \u001b[32m━━━━━━━━━━━━━━━━━━━━\u001b[0m\u001b[37m\u001b[0m \u001b[1m2s\u001b[0m 6ms/step - accuracy: 0.9976 - loss: 0.0078 - val_accuracy: 0.9756 - val_loss: 0.1014\n",
            "Epoch 20/20\n",
            "\u001b[1m375/375\u001b[0m \u001b[32m━━━━━━━━━━━━━━━━━━━━\u001b[0m\u001b[37m\u001b[0m \u001b[1m3s\u001b[0m 7ms/step - accuracy: 0.9996 - loss: 0.0025 - val_accuracy: 0.9783 - val_loss: 0.0980\n"
          ]
        }
      ]
    },
    {
      "cell_type": "markdown",
      "source": [
        "##🔍 Observations from Training (Model B – Tanh)\n",
        "\n",
        "\n",
        "\n",
        "*   The model using Tanh activation achieved a training accuracy of 99.85% and a validation accuracy of 97.68% by epoch 20.\n",
        "*   Validation accuracy steadily increased throughout training, peaking at epoch 19 — suggesting more stable convergence compared to ReLU.\n",
        "\n",
        "*   Despite higher accuracy, there is some validation loss fluctuation in later epochs, indicating mild overfitting.\n",
        "*   Compared to ReLU, Tanh showed a slower but steadier performance, which aligns with its theoretical behavior:\n",
        "    - Tanh is zero-centered and smooth, which can help training\n",
        "    - But it's more prone to vanishing gradients, especially in deeper layers\n",
        "\n",
        "*   Overall, Tanh handled the task well, and may benefit further from techniques like early stopping or regularization.\n",
        "\n",
        "\n",
        "We will visualize and compare both models in Phase 5.\n",
        "\n"
      ],
      "metadata": {
        "id": "FcHJf3-rFeib"
      },
      "id": "FcHJf3-rFeib"
    },
    {
      "cell_type": "markdown",
      "source": [
        "# Step 5: Evaluation and Visualization\n",
        "In this phase, we evaluate both models by plotting their training and validation accuracy and loss over 20 epochs. This visual comparison helps identify differences in convergence speed, generalization ability, and signs of overfitting.\n",
        "\n",
        "## 5.1 Accuracy Comparison\n",
        "The plot below compares the training and validation accuracy of both ReLU and Tanh models across all epochs. This helps visualize which model learned faster and which generalized better on unseen data."
      ],
      "metadata": {
        "id": "Qhus41ldG18h"
      },
      "id": "Qhus41ldG18h"
    },
    {
      "cell_type": "code",
      "source": [
        "# Plot accuracy\n",
        "plt.figure(figsize=(10, 6))\n",
        "plt.plot(history_relu.history['accuracy'], label='ReLU - Training Acc')\n",
        "plt.plot(history_relu.history['val_accuracy'], label='ReLU - Validation Acc')\n",
        "plt.plot(history_tanh.history['accuracy'], label='Tanh - Training Acc')\n",
        "plt.plot(history_tanh.history['val_accuracy'], label='Tanh - Validation Acc')\n",
        "plt.title('Model Accuracy Comparison')\n",
        "plt.xlabel('Epoch')\n",
        "plt.ylabel('Accuracy')\n",
        "plt.legend()\n",
        "plt.grid(True)\n",
        "plt.show()"
      ],
      "metadata": {
        "id": "FgaPg05aHF3U",
        "outputId": "6aa7aeef-3c7d-44d4-c147-febe2bf065ca",
        "colab": {
          "base_uri": "https://localhost:8080/",
          "height": 564
        }
      },
      "id": "FgaPg05aHF3U",
      "execution_count": 9,
      "outputs": [
        {
          "output_type": "display_data",
          "data": {
            "text/plain": [
              "<Figure size 1000x600 with 1 Axes>"
            ],
            "image/png": "[encoded data removed]"
          },
          "metadata": {}
        }
      ]
    },
    {
      "cell_type": "markdown",
      "source": [
        "## 5.2 Loss Comparison\n",
        "The following plot compares the training and validation loss for both models. A rising validation loss while training loss continues to fall typically indicates overfitting."
      ],
      "metadata": {
        "id": "I8SkLfuMHaU7"
      },
      "id": "I8SkLfuMHaU7"
    },
    {
      "cell_type": "code",
      "source": [
        "# Plot loss\n",
        "plt.figure(figsize=(10, 6))\n",
        "plt.plot(history_relu.history['loss'], label='ReLU - Training Loss')\n",
        "plt.plot(history_relu.history['val_loss'], label='ReLU - Validation Loss')\n",
        "plt.plot(history_tanh.history['loss'], label='Tanh - Training Loss')\n",
        "plt.plot(history_tanh.history['val_loss'], label='Tanh - Validation Loss')\n",
        "plt.title('Model Loss Comparison')\n",
        "plt.xlabel('Epoch')\n",
        "plt.ylabel('Loss')\n",
        "plt.legend()\n",
        "plt.grid(True)\n",
        "plt.show()"
      ],
      "metadata": {
        "id": "sArx647hHfQQ",
        "outputId": "e0c7c128-42f9-4ea6-cc5c-032150442669",
        "colab": {
          "base_uri": "https://localhost:8080/",
          "height": 564
        }
      },
      "id": "sArx647hHfQQ",
      "execution_count": 10,
      "outputs": [
        {
          "output_type": "display_data",
          "data": {
            "text/plain": [
              "<Figure size 1000x600 with 1 Axes>"
            ],
            "image/png": "[encoded data removed]"
          },
          "metadata": {}
        }
      ]
    },
    {
      "cell_type": "markdown",
      "source": [
        "# Step 6: Comparative Analysis and Justification\n",
        "Based on training results and visual evaluation, we summarize the following key differences between ReLU and Tanh activation functions:\n",
        "\n",
        "##✅ ReLU Highlights\n",
        "\n",
        "*   Achieved validation accuracy of 97.55%\n",
        "*   Faster convergence — high accuracy within the first few epochs\n",
        "*   Showed signs of overfitting after ~epoch 7 (val loss ↑ while training acc ↑)\n",
        "*   Performs very well, but could benefit from regularization\n",
        "\n",
        "\n",
        "##✅ Tanh Highlights\n",
        "\n",
        "\n",
        "*   Achieved a slightly higher validation accuracy of 97.68%\n",
        "*   More stable training — validation metrics were smoother and less volatile\n",
        "*   Better generalization, with lower overfitting than ReLU\n",
        "*   Slightly slower to converge in early epochs\n",
        "\n",
        "\n",
        "##🧠 Conclusion\n",
        "\n",
        "Both ReLU and Tanh performed very well, with Tanh showing slightly better validation accuracy and less overfitting in this setup. However, ReLU trained faster and may still outperform with proper regularization or early stopping.\n",
        "\n",
        "This analysis highlights the importance of activation function choice, especially in deeper networks, where trade-offs between convergence speed and generalization must be carefully balanced."
      ],
      "metadata": {
        "id": "q922D6HpHvcP"
      },
      "id": "q922D6HpHvcP"
    },
    {
      "cell_type": "markdown",
      "source": [
        "#Step 7.1 ReLU Model with SGD Optimizer and L2 Regularization\n",
        "In this experiment, we replace the Adam optimizer with Stochastic Gradient Descent (SGD) to observe whether slower, more stable learning improves generalization.\n",
        "\n",
        "Additionally, we apply L2 regularization (penalty = 0.001) on all hidden layers to penalize large weights and reduce overfitting.\n",
        "\n",
        "We expect SGD to train more slowly than Adam but potentially show more stable validation accuracy. L2 should also help reduce the widening gap between training and validation loss observed in earlier experiments."
      ],
      "metadata": {
        "id": "fuCXhIoSJXv3"
      },
      "id": "fuCXhIoSJXv3"
    },
    {
      "cell_type": "code",
      "source": [
        "import tensorflow as tf\n",
        "import tensorflow.keras as keras\n",
        "from tensorflow.keras import layers, regularizers\n",
        "from tensorflow.keras.callbacks import EarlyStopping\n",
        "\n",
        "# 7.1a ReLU + SGD + L2 Regularization\n",
        "model_relu_sgd = keras.Sequential([\n",
        "    layers.Dense(128, activation='relu', input_shape=(784,), kernel_regularizer=regularizers.l2(0.001)),\n",
        "    layers.Dense(64, activation='relu', kernel_regularizer=regularizers.l2(0.001)),\n",
        "    layers.Dense(32, activation='relu', kernel_regularizer=regularizers.l2(0.001)),\n",
        "    layers.Dense(10, activation='softmax')\n",
        "])\n",
        "\n",
        "# Compile\n",
        "model_relu_sgd.compile(optimizer='sgd', loss='categorical_crossentropy', metrics=['accuracy'])\n",
        "\n",
        "# Train\n",
        "history_relu_sgd = model_relu_sgd.fit(\n",
        "    x_train_flat, y_train_cat,\n",
        "    validation_split=0.2,\n",
        "    epochs=20,\n",
        "    batch_size=128,\n",
        "    verbose=1\n",
        ")"
      ],
      "metadata": {
        "id": "Gyli10z3Jogq",
        "outputId": "7916d344-1181-411b-cadf-9712605dd272",
        "colab": {
          "base_uri": "https://localhost:8080/"
        }
      },
      "id": "Gyli10z3Jogq",
      "execution_count": 11,
      "outputs": [
        {
          "output_type": "stream",
          "name": "stdout",
          "text": [
            "Epoch 1/20\n",
            "\u001b[1m375/375\u001b[0m \u001b[32m━━━━━━━━━━━━━━━━━━━━\u001b[0m\u001b[37m\u001b[0m \u001b[1m3s\u001b[0m 7ms/step - accuracy: 0.3391 - loss: 2.3647 - val_accuracy: 0.8172 - val_loss: 1.1565\n",
            "Epoch 2/20\n",
            "\u001b[1m375/375\u001b[0m \u001b[32m━━━━━━━━━━━━━━━━━━━━\u001b[0m\u001b[37m\u001b[0m \u001b[1m3s\u001b[0m 9ms/step - accuracy: 0.8243 - loss: 1.0526 - val_accuracy: 0.8778 - val_loss: 0.7986\n",
            "Epoch 3/20\n",
            "\u001b[1m375/375\u001b[0m \u001b[32m━━━━━━━━━━━━━━━━━━━━\u001b[0m\u001b[37m\u001b[0m \u001b[1m2s\u001b[0m 6ms/step - accuracy: 0.8752 - loss: 0.8035 - val_accuracy: 0.8936 - val_loss: 0.7236\n",
            "Epoch 4/20\n",
            "\u001b[1m375/375\u001b[0m \u001b[32m━━━━━━━━━━━━━━━━━━━━\u001b[0m\u001b[37m\u001b[0m \u001b[1m2s\u001b[0m 6ms/step - accuracy: 0.8908 - loss: 0.7338 - val_accuracy: 0.9063 - val_loss: 0.6776\n",
            "Epoch 5/20\n",
            "\u001b[1m375/375\u001b[0m \u001b[32m━━━━━━━━━━━━━━━━━━━━\u001b[0m\u001b[37m\u001b[0m \u001b[1m2s\u001b[0m 6ms/step - accuracy: 0.9020 - loss: 0.6919 - val_accuracy: 0.9125 - val_loss: 0.6534\n",
            "Epoch 6/20\n",
            "\u001b[1m375/375\u001b[0m \u001b[32m━━━━━━━━━━━━━━━━━━━━\u001b[0m\u001b[37m\u001b[0m \u001b[1m2s\u001b[0m 6ms/step - accuracy: 0.9081 - loss: 0.6660 - val_accuracy: 0.9194 - val_loss: 0.6267\n",
            "Epoch 7/20\n",
            "\u001b[1m375/375\u001b[0m \u001b[32m━━━━━━━━━━━━━━━━━━━━\u001b[0m\u001b[37m\u001b[0m \u001b[1m3s\u001b[0m 8ms/step - accuracy: 0.9153 - loss: 0.6380 - val_accuracy: 0.9236 - val_loss: 0.6082\n",
            "Epoch 8/20\n",
            "\u001b[1m375/375\u001b[0m \u001b[32m━━━━━━━━━━━━━━━━━━━━\u001b[0m\u001b[37m\u001b[0m \u001b[1m4s\u001b[0m 6ms/step - accuracy: 0.9219 - loss: 0.6162 - val_accuracy: 0.9259 - val_loss: 0.5934\n",
            "Epoch 9/20\n",
            "\u001b[1m375/375\u001b[0m \u001b[32m━━━━━━━━━━━━━━━━━━━━\u001b[0m\u001b[37m\u001b[0m \u001b[1m2s\u001b[0m 6ms/step - accuracy: 0.9247 - loss: 0.6007 - val_accuracy: 0.9309 - val_loss: 0.5762\n",
            "Epoch 10/20\n",
            "\u001b[1m375/375\u001b[0m \u001b[32m━━━━━━━━━━━━━━━━━━━━\u001b[0m\u001b[37m\u001b[0m \u001b[1m2s\u001b[0m 6ms/step - accuracy: 0.9290 - loss: 0.5786 - val_accuracy: 0.9349 - val_loss: 0.5628\n",
            "Epoch 11/20\n",
            "\u001b[1m375/375\u001b[0m \u001b[32m━━━━━━━━━━━━━━━━━━━━\u001b[0m\u001b[37m\u001b[0m \u001b[1m3s\u001b[0m 7ms/step - accuracy: 0.9318 - loss: 0.5688 - val_accuracy: 0.9355 - val_loss: 0.5535\n",
            "Epoch 12/20\n",
            "\u001b[1m375/375\u001b[0m \u001b[32m━━━━━━━━━━━━━━━━━━━━\u001b[0m\u001b[37m\u001b[0m \u001b[1m3s\u001b[0m 8ms/step - accuracy: 0.9381 - loss: 0.5501 - val_accuracy: 0.9403 - val_loss: 0.5378\n",
            "Epoch 13/20\n",
            "\u001b[1m375/375\u001b[0m \u001b[32m━━━━━━━━━━━━━━━━━━━━\u001b[0m\u001b[37m\u001b[0m \u001b[1m2s\u001b[0m 6ms/step - accuracy: 0.9389 - loss: 0.5387 - val_accuracy: 0.9408 - val_loss: 0.5308\n",
            "Epoch 14/20\n",
            "\u001b[1m375/375\u001b[0m \u001b[32m━━━━━━━━━━━━━━━━━━━━\u001b[0m\u001b[37m\u001b[0m \u001b[1m2s\u001b[0m 6ms/step - accuracy: 0.9427 - loss: 0.5236 - val_accuracy: 0.9437 - val_loss: 0.5196\n",
            "Epoch 15/20\n",
            "\u001b[1m375/375\u001b[0m \u001b[32m━━━━━━━━━━━━━━━━━━━━\u001b[0m\u001b[37m\u001b[0m \u001b[1m2s\u001b[0m 6ms/step - accuracy: 0.9428 - loss: 0.5177 - val_accuracy: 0.9469 - val_loss: 0.5095\n",
            "Epoch 16/20\n",
            "\u001b[1m375/375\u001b[0m \u001b[32m━━━━━━━━━━━━━━━━━━━━\u001b[0m\u001b[37m\u001b[0m \u001b[1m3s\u001b[0m 7ms/step - accuracy: 0.9460 - loss: 0.5053 - val_accuracy: 0.9465 - val_loss: 0.5007\n",
            "Epoch 17/20\n",
            "\u001b[1m375/375\u001b[0m \u001b[32m━━━━━━━━━━━━━━━━━━━━\u001b[0m\u001b[37m\u001b[0m \u001b[1m3s\u001b[0m 7ms/step - accuracy: 0.9473 - loss: 0.4948 - val_accuracy: 0.9476 - val_loss: 0.4943\n",
            "Epoch 18/20\n",
            "\u001b[1m375/375\u001b[0m \u001b[32m━━━━━━━━━━━━━━━━━━━━\u001b[0m\u001b[37m\u001b[0m \u001b[1m2s\u001b[0m 6ms/step - accuracy: 0.9504 - loss: 0.4867 - val_accuracy: 0.9502 - val_loss: 0.4839\n",
            "Epoch 19/20\n",
            "\u001b[1m375/375\u001b[0m \u001b[32m━━━━━━━━━━━━━━━━━━━━\u001b[0m\u001b[37m\u001b[0m \u001b[1m2s\u001b[0m 6ms/step - accuracy: 0.9499 - loss: 0.4805 - val_accuracy: 0.9517 - val_loss: 0.4785\n",
            "Epoch 20/20\n",
            "\u001b[1m375/375\u001b[0m \u001b[32m━━━━━━━━━━━━━━━━━━━━\u001b[0m\u001b[37m\u001b[0m \u001b[1m2s\u001b[0m 6ms/step - accuracy: 0.9520 - loss: 0.4741 - val_accuracy: 0.9531 - val_loss: 0.4685\n"
          ]
        }
      ]
    },
    {
      "cell_type": "markdown",
      "source": [
        "##🔍 Observation – 7.1 ReLU + SGD + L2\n",
        "This model showed slower learning initially (as expected with SGD), but both training and validation accuracy steadily improved. By epoch 20, both accuracies reached 95.6%, indicating strong generalization and minimal overfitting.\n",
        "\n",
        "Compared to the original ReLU + Adam model:\n",
        "\n",
        "\n",
        "*   SGD was slower to converge but more stable\n",
        "*   L2 regularization (penalty = 0.001) helped avoid overfitting, as seen from tightly tracking val/train accuracies\n",
        "\n",
        "*   Final loss values remained higher due to the penalty term added by L2\n",
        "\n",
        "\n",
        "\n",
        "✅ This configuration offers better control over generalization and is a strong candidate for production-ready training."
      ],
      "metadata": {
        "id": "LdlnzDaHLgqh"
      },
      "id": "LdlnzDaHLgqh"
    },
    {
      "cell_type": "markdown",
      "source": [
        "##7.1b ReLU Model with SGD (lr=0.05), L2 Regularization and EarlyStopping\n",
        "In this refinement of our earlier SGD experiment, we make three key changes:\n",
        "\n",
        "\n",
        "*   We increase the learning rate to 0.05 to allow faster convergence (as SGD is slower than Adam).\n",
        "*   We retain L2 regularization (0.001) to reduce overfitting.\n",
        "*   We add EarlyStopping to stop training once validation loss stops improving, restoring the best weights.\n",
        "\n",
        "This combination helps balance generalization and training speed. We'll compare accuracy, loss, and stability to earlier ReLU configurations."
      ],
      "metadata": {
        "id": "N9oAnqBIMS4P"
      },
      "id": "N9oAnqBIMS4P"
    },
    {
      "cell_type": "code",
      "source": [
        "from tensorflow.keras.optimizers import SGD\n",
        "from tensorflow.keras.callbacks import EarlyStopping\n",
        "\n",
        "# 7.1b ReLU + SGD (lr=0.05) + L2 + EarlyStopping\n",
        "model_relu_sgd_opt = keras.Sequential([\n",
        "    layers.Dense(128, activation='relu', input_shape=(784,), kernel_regularizer=regularizers.l2(0.001)),\n",
        "    layers.Dense(64, activation='relu', kernel_regularizer=regularizers.l2(0.001)),\n",
        "    layers.Dense(32, activation='relu', kernel_regularizer=regularizers.l2(0.001)),\n",
        "    layers.Dense(10, activation='softmax')\n",
        "])\n",
        "\n",
        "# Compile with custom learning rate\n",
        "sgd_optimizer = SGD(learning_rate=0.05)\n",
        "model_relu_sgd_opt.compile(optimizer=sgd_optimizer, loss='categorical_crossentropy', metrics=['accuracy'])\n",
        "\n",
        "# EarlyStopping callback\n",
        "early_stop = EarlyStopping(monitor='val_loss', patience=3, restore_best_weights=True)\n",
        "\n",
        "# Train the model\n",
        "history_relu_sgd_opt = model_relu_sgd_opt.fit(\n",
        "    x_train_flat, y_train_cat,\n",
        "    validation_split=0.2,\n",
        "    epochs=30,\n",
        "    batch_size=128,\n",
        "    callbacks=[early_stop],\n",
        "    verbose=1\n",
        ")"
      ],
      "metadata": {
        "id": "-rl5WkQOMu-t",
        "outputId": "f21b1edb-f133-4573-fdd5-48ffced110a7",
        "colab": {
          "base_uri": "https://localhost:8080/"
        }
      },
      "id": "-rl5WkQOMu-t",
      "execution_count": 12,
      "outputs": [
        {
          "output_type": "stream",
          "name": "stdout",
          "text": [
            "Epoch 1/30\n",
            "\u001b[1m375/375\u001b[0m \u001b[32m━━━━━━━━━━━━━━━━━━━━\u001b[0m\u001b[37m\u001b[0m \u001b[1m4s\u001b[0m 8ms/step - accuracy: 0.6196 - loss: 1.5553 - val_accuracy: 0.9080 - val_loss: 0.6646\n",
            "Epoch 2/30\n",
            "\u001b[1m375/375\u001b[0m \u001b[32m━━━━━━━━━━━━━━━━━━━━\u001b[0m\u001b[37m\u001b[0m \u001b[1m2s\u001b[0m 6ms/step - accuracy: 0.9071 - loss: 0.6581 - val_accuracy: 0.9332 - val_loss: 0.5679\n",
            "Epoch 3/30\n",
            "\u001b[1m375/375\u001b[0m \u001b[32m━━━━━━━━━━━━━━━━━━━━\u001b[0m\u001b[37m\u001b[0m \u001b[1m2s\u001b[0m 6ms/step - accuracy: 0.9283 - loss: 0.5726 - val_accuracy: 0.9421 - val_loss: 0.5183\n",
            "Epoch 4/30\n",
            "\u001b[1m375/375\u001b[0m \u001b[32m━━━━━━━━━━━━━━━━━━━━\u001b[0m\u001b[37m\u001b[0m \u001b[1m2s\u001b[0m 5ms/step - accuracy: 0.9406 - loss: 0.5153 - val_accuracy: 0.9511 - val_loss: 0.4734\n",
            "Epoch 5/30\n",
            "\u001b[1m375/375\u001b[0m \u001b[32m━━━━━━━━━━━━━━━━━━━━\u001b[0m\u001b[37m\u001b[0m \u001b[1m2s\u001b[0m 6ms/step - accuracy: 0.9486 - loss: 0.4709 - val_accuracy: 0.9506 - val_loss: 0.4579\n",
            "Epoch 6/30\n",
            "\u001b[1m375/375\u001b[0m \u001b[32m━━━━━━━━━━━━━━━━━━━━\u001b[0m\u001b[37m\u001b[0m \u001b[1m2s\u001b[0m 6ms/step - accuracy: 0.9571 - loss: 0.4369 - val_accuracy: 0.9589 - val_loss: 0.4173\n",
            "Epoch 7/30\n",
            "\u001b[1m375/375\u001b[0m \u001b[32m━━━━━━━━━━━━━━━━━━━━\u001b[0m\u001b[37m\u001b[0m \u001b[1m3s\u001b[0m 8ms/step - accuracy: 0.9612 - loss: 0.4053 - val_accuracy: 0.9611 - val_loss: 0.3973\n",
            "Epoch 8/30\n",
            "\u001b[1m375/375\u001b[0m \u001b[32m━━━━━━━━━━━━━━━━━━━━\u001b[0m\u001b[37m\u001b[0m \u001b[1m2s\u001b[0m 6ms/step - accuracy: 0.9636 - loss: 0.3842 - val_accuracy: 0.9630 - val_loss: 0.3785\n",
            "Epoch 9/30\n",
            "\u001b[1m375/375\u001b[0m \u001b[32m━━━━━━━━━━━━━━━━━━━━\u001b[0m\u001b[37m\u001b[0m \u001b[1m2s\u001b[0m 6ms/step - accuracy: 0.9675 - loss: 0.3618 - val_accuracy: 0.9654 - val_loss: 0.3594\n",
            "Epoch 10/30\n",
            "\u001b[1m375/375\u001b[0m \u001b[32m━━━━━━━━━━━━━━━━━━━━\u001b[0m\u001b[37m\u001b[0m \u001b[1m2s\u001b[0m 6ms/step - accuracy: 0.9713 - loss: 0.3371 - val_accuracy: 0.9662 - val_loss: 0.3465\n",
            "Epoch 11/30\n",
            "\u001b[1m375/375\u001b[0m \u001b[32m━━━━━━━━━━━━━━━━━━━━\u001b[0m\u001b[37m\u001b[0m \u001b[1m2s\u001b[0m 6ms/step - accuracy: 0.9729 - loss: 0.3205 - val_accuracy: 0.9676 - val_loss: 0.3298\n",
            "Epoch 12/30\n",
            "\u001b[1m375/375\u001b[0m \u001b[32m━━━━━━━━━━━━━━━━━━━━\u001b[0m\u001b[37m\u001b[0m \u001b[1m3s\u001b[0m 9ms/step - accuracy: 0.9759 - loss: 0.3012 - val_accuracy: 0.9697 - val_loss: 0.3138\n",
            "Epoch 13/30\n",
            "\u001b[1m375/375\u001b[0m \u001b[32m━━━━━━━━━━━━━━━━━━━━\u001b[0m\u001b[37m\u001b[0m \u001b[1m2s\u001b[0m 6ms/step - accuracy: 0.9771 - loss: 0.2871 - val_accuracy: 0.9663 - val_loss: 0.3137\n",
            "Epoch 14/30\n",
            "\u001b[1m375/375\u001b[0m \u001b[32m━━━━━━━━━━━━━━━━━━━━\u001b[0m\u001b[37m\u001b[0m \u001b[1m2s\u001b[0m 6ms/step - accuracy: 0.9778 - loss: 0.2783 - val_accuracy: 0.9698 - val_loss: 0.2961\n",
            "Epoch 15/30\n",
            "\u001b[1m375/375\u001b[0m \u001b[32m━━━━━━━━━━━━━━━━━━━━\u001b[0m\u001b[37m\u001b[0m \u001b[1m2s\u001b[0m 6ms/step - accuracy: 0.9797 - loss: 0.2638 - val_accuracy: 0.9690 - val_loss: 0.2886\n",
            "Epoch 16/30\n",
            "\u001b[1m375/375\u001b[0m \u001b[32m━━━━━━━━━━━━━━━━━━━━\u001b[0m\u001b[37m\u001b[0m \u001b[1m2s\u001b[0m 6ms/step - accuracy: 0.9808 - loss: 0.2541 - val_accuracy: 0.9713 - val_loss: 0.2731\n",
            "Epoch 17/30\n",
            "\u001b[1m375/375\u001b[0m \u001b[32m━━━━━━━━━━━━━━━━━━━━\u001b[0m\u001b[37m\u001b[0m \u001b[1m3s\u001b[0m 8ms/step - accuracy: 0.9806 - loss: 0.2460 - val_accuracy: 0.9693 - val_loss: 0.2724\n",
            "Epoch 18/30\n",
            "\u001b[1m375/375\u001b[0m \u001b[32m━━━━━━━━━━━━━━━━━━━━\u001b[0m\u001b[37m\u001b[0m \u001b[1m2s\u001b[0m 6ms/step - accuracy: 0.9831 - loss: 0.2332 - val_accuracy: 0.9712 - val_loss: 0.2587\n",
            "Epoch 19/30\n",
            "\u001b[1m375/375\u001b[0m \u001b[32m━━━━━━━━━━━━━━━━━━━━\u001b[0m\u001b[37m\u001b[0m \u001b[1m2s\u001b[0m 6ms/step - accuracy: 0.9837 - loss: 0.2241 - val_accuracy: 0.9722 - val_loss: 0.2517\n",
            "Epoch 20/30\n",
            "\u001b[1m375/375\u001b[0m \u001b[32m━━━━━━━━━━━━━━━━━━━━\u001b[0m\u001b[37m\u001b[0m \u001b[1m2s\u001b[0m 6ms/step - accuracy: 0.9854 - loss: 0.2145 - val_accuracy: 0.9728 - val_loss: 0.2461\n",
            "Epoch 21/30\n",
            "\u001b[1m375/375\u001b[0m \u001b[32m━━━━━━━━━━━━━━━━━━━━\u001b[0m\u001b[37m\u001b[0m \u001b[1m2s\u001b[0m 6ms/step - accuracy: 0.9850 - loss: 0.2096 - val_accuracy: 0.9722 - val_loss: 0.2417\n",
            "Epoch 22/30\n",
            "\u001b[1m375/375\u001b[0m \u001b[32m━━━━━━━━━━━━━━━━━━━━\u001b[0m\u001b[37m\u001b[0m \u001b[1m3s\u001b[0m 8ms/step - accuracy: 0.9874 - loss: 0.2010 - val_accuracy: 0.9714 - val_loss: 0.2423\n",
            "Epoch 23/30\n",
            "\u001b[1m375/375\u001b[0m \u001b[32m━━━━━━━━━━━━━━━━━━━━\u001b[0m\u001b[37m\u001b[0m \u001b[1m3s\u001b[0m 7ms/step - accuracy: 0.9867 - loss: 0.1938 - val_accuracy: 0.9720 - val_loss: 0.2378\n",
            "Epoch 24/30\n",
            "\u001b[1m375/375\u001b[0m \u001b[32m━━━━━━━━━━━━━━━━━━━━\u001b[0m\u001b[37m\u001b[0m \u001b[1m2s\u001b[0m 6ms/step - accuracy: 0.9867 - loss: 0.1899 - val_accuracy: 0.9738 - val_loss: 0.2235\n",
            "Epoch 25/30\n",
            "\u001b[1m375/375\u001b[0m \u001b[32m━━━━━━━━━━━━━━━━━━━━\u001b[0m\u001b[37m\u001b[0m \u001b[1m2s\u001b[0m 6ms/step - accuracy: 0.9882 - loss: 0.1832 - val_accuracy: 0.9753 - val_loss: 0.2188\n",
            "Epoch 26/30\n",
            "\u001b[1m375/375\u001b[0m \u001b[32m━━━━━━━━━━━━━━━━━━━━\u001b[0m\u001b[37m\u001b[0m \u001b[1m2s\u001b[0m 6ms/step - accuracy: 0.9878 - loss: 0.1775 - val_accuracy: 0.9714 - val_loss: 0.2199\n",
            "Epoch 27/30\n",
            "\u001b[1m375/375\u001b[0m \u001b[32m━━━━━━━━━━━━━━━━━━━━\u001b[0m\u001b[37m\u001b[0m \u001b[1m3s\u001b[0m 7ms/step - accuracy: 0.9878 - loss: 0.1757 - val_accuracy: 0.9726 - val_loss: 0.2222\n",
            "Epoch 28/30\n",
            "\u001b[1m375/375\u001b[0m \u001b[32m━━━━━━━━━━━━━━━━━━━━\u001b[0m\u001b[37m\u001b[0m \u001b[1m4s\u001b[0m 6ms/step - accuracy: 0.9895 - loss: 0.1677 - val_accuracy: 0.9728 - val_loss: 0.2113\n",
            "Epoch 29/30\n",
            "\u001b[1m375/375\u001b[0m \u001b[32m━━━━━━━━━━━━━━━━━━━━\u001b[0m\u001b[37m\u001b[0m \u001b[1m2s\u001b[0m 6ms/step - accuracy: 0.9890 - loss: 0.1657 - val_accuracy: 0.9753 - val_loss: 0.2028\n",
            "Epoch 30/30\n",
            "\u001b[1m375/375\u001b[0m \u001b[32m━━━━━━━━━━━━━━━━━━━━\u001b[0m\u001b[37m\u001b[0m \u001b[1m2s\u001b[0m 6ms/step - accuracy: 0.9898 - loss: 0.1621 - val_accuracy: 0.9743 - val_loss: 0.2005\n"
          ]
        }
      ]
    },
    {
      "cell_type": "markdown",
      "source": [
        "##✅ Observations: ReLU + SGD (lr=0.05) + L2 + EarlyStopping\n",
        "This configuration showed significant improvement over the default ReLU + SGD run. Increasing the learning rate to 0.05 allowed the model to converge faster and deeper, while L2 regularization helped control weight magnitudes.\n",
        "\n",
        "Key takeaways:\n",
        "\n",
        "*   The model achieved a validation accuracy of 97.37%, improving by almost 2% over the previous configuration.\n",
        "*   Training and validation curves stayed close, indicating minimal overfitting.\n",
        "\n",
        "*   Validation loss consistently dropped till the final epoch, validating the effectiveness of learning rate tuning.\n",
        "\n",
        "\n",
        "This setup serves as a strong benchmark for the ReLU activation function, and will be compared later to its tanh-based counterpart."
      ],
      "metadata": {
        "id": "aNlFM6puNUhr"
      },
      "id": "aNlFM6puNUhr"
    },
    {
      "cell_type": "markdown",
      "source": [
        "##7.1c ReLU – SGD (lr 0.05, momentum 0.9, Nesterov) + L2 (0.0005)\n",
        "We add momentum/Nesterov to accelerate convergence and reduce oscillations, and slightly lower the L2 penalty to allow more weight flexibility while still controlling overfitting.\n",
        "\n"
      ],
      "metadata": {
        "id": "nbUbK8NUNy-f"
      },
      "id": "nbUbK8NUNy-f"
    },
    {
      "cell_type": "code",
      "source": [
        "from tensorflow.keras.optimizers import SGD\n",
        "from tensorflow.keras.callbacks import EarlyStopping\n",
        "from tensorflow.keras import regularizers, layers\n",
        "\n",
        "model_relu_sgd_mom = keras.Sequential([\n",
        "    layers.Dense(128, activation='relu', input_shape=(784,),\n",
        "                 kernel_regularizer=regularizers.l2(0.0005)),\n",
        "    layers.Dense(64, activation='relu',\n",
        "                 kernel_regularizer=regularizers.l2(0.0005)),\n",
        "    layers.Dense(32, activation='relu',\n",
        "                 kernel_regularizer=regularizers.l2(0.0005)),\n",
        "    layers.Dense(10, activation='softmax')\n",
        "])\n",
        "\n",
        "optimizer_mom = SGD(learning_rate=0.05, momentum=0.9, nesterov=True)\n",
        "model_relu_sgd_mom.compile(optimizer=optimizer_mom,\n",
        "                           loss='categorical_crossentropy',\n",
        "                           metrics=['accuracy'])\n",
        "\n",
        "early_stop = EarlyStopping(monitor='val_loss', patience=3,\n",
        "                           restore_best_weights=True)\n",
        "\n",
        "history_relu_sgd_mom = model_relu_sgd_mom.fit(\n",
        "    x_train_flat, y_train_cat,\n",
        "    validation_split=0.2,\n",
        "    epochs=30,\n",
        "    batch_size=128,\n",
        "    callbacks=[early_stop],\n",
        "    verbose=1\n",
        ")"
      ],
      "metadata": {
        "id": "mXcQ0fgNN9dq",
        "outputId": "d4c3be62-9cb9-44a9-90f9-4839366a93bf",
        "colab": {
          "base_uri": "https://localhost:8080/"
        }
      },
      "id": "mXcQ0fgNN9dq",
      "execution_count": 13,
      "outputs": [
        {
          "output_type": "stream",
          "name": "stdout",
          "text": [
            "Epoch 1/30\n",
            "\u001b[1m375/375\u001b[0m \u001b[32m━━━━━━━━━━━━━━━━━━━━\u001b[0m\u001b[37m\u001b[0m \u001b[1m5s\u001b[0m 10ms/step - accuracy: 0.7889 - loss: 0.8441 - val_accuracy: 0.9602 - val_loss: 0.3013\n",
            "Epoch 2/30\n",
            "\u001b[1m375/375\u001b[0m \u001b[32m━━━━━━━━━━━━━━━━━━━━\u001b[0m\u001b[37m\u001b[0m \u001b[1m2s\u001b[0m 6ms/step - accuracy: 0.9615 - loss: 0.2857 - val_accuracy: 0.9657 - val_loss: 0.2532\n",
            "Epoch 3/30\n",
            "\u001b[1m375/375\u001b[0m \u001b[32m━━━━━━━━━━━━━━━━━━━━\u001b[0m\u001b[37m\u001b[0m \u001b[1m2s\u001b[0m 6ms/step - accuracy: 0.9698 - loss: 0.2285 - val_accuracy: 0.9705 - val_loss: 0.2205\n",
            "Epoch 4/30\n",
            "\u001b[1m375/375\u001b[0m \u001b[32m━━━━━━━━━━━━━━━━━━━━\u001b[0m\u001b[37m\u001b[0m \u001b[1m2s\u001b[0m 6ms/step - accuracy: 0.9753 - loss: 0.1934 - val_accuracy: 0.9680 - val_loss: 0.2139\n",
            "Epoch 5/30\n",
            "\u001b[1m375/375\u001b[0m \u001b[32m━━━━━━━━━━━━━━━━━━━━\u001b[0m\u001b[37m\u001b[0m \u001b[1m3s\u001b[0m 7ms/step - accuracy: 0.9781 - loss: 0.1746 - val_accuracy: 0.9749 - val_loss: 0.1785\n",
            "Epoch 6/30\n",
            "\u001b[1m375/375\u001b[0m \u001b[32m━━━━━━━━━━━━━━━━━━━━\u001b[0m\u001b[37m\u001b[0m \u001b[1m3s\u001b[0m 9ms/step - accuracy: 0.9810 - loss: 0.1546 - val_accuracy: 0.9705 - val_loss: 0.1873\n",
            "Epoch 7/30\n",
            "\u001b[1m375/375\u001b[0m \u001b[32m━━━━━━━━━━━━━━━━━━━━\u001b[0m\u001b[37m\u001b[0m \u001b[1m2s\u001b[0m 6ms/step - accuracy: 0.9816 - loss: 0.1471 - val_accuracy: 0.9716 - val_loss: 0.1784\n",
            "Epoch 8/30\n",
            "\u001b[1m375/375\u001b[0m \u001b[32m━━━━━━━━━━━━━━━━━━━━\u001b[0m\u001b[37m\u001b[0m \u001b[1m3s\u001b[0m 6ms/step - accuracy: 0.9837 - loss: 0.1356 - val_accuracy: 0.9718 - val_loss: 0.1768\n",
            "Epoch 9/30\n",
            "\u001b[1m375/375\u001b[0m \u001b[32m━━━━━━━━━━━━━━━━━━━━\u001b[0m\u001b[37m\u001b[0m \u001b[1m2s\u001b[0m 6ms/step - accuracy: 0.9831 - loss: 0.1325 - val_accuracy: 0.9736 - val_loss: 0.1705\n",
            "Epoch 10/30\n",
            "\u001b[1m375/375\u001b[0m \u001b[32m━━━━━━━━━━━━━━━━━━━━\u001b[0m\u001b[37m\u001b[0m \u001b[1m3s\u001b[0m 9ms/step - accuracy: 0.9848 - loss: 0.1275 - val_accuracy: 0.9726 - val_loss: 0.1644\n",
            "Epoch 11/30\n",
            "\u001b[1m375/375\u001b[0m \u001b[32m━━━━━━━━━━━━━━━━━━━━\u001b[0m\u001b[37m\u001b[0m \u001b[1m3s\u001b[0m 8ms/step - accuracy: 0.9852 - loss: 0.1237 - val_accuracy: 0.9732 - val_loss: 0.1647\n",
            "Epoch 12/30\n",
            "\u001b[1m375/375\u001b[0m \u001b[32m━━━━━━━━━━━━━━━━━━━━\u001b[0m\u001b[37m\u001b[0m \u001b[1m2s\u001b[0m 6ms/step - accuracy: 0.9850 - loss: 0.1235 - val_accuracy: 0.9720 - val_loss: 0.1650\n",
            "Epoch 13/30\n",
            "\u001b[1m375/375\u001b[0m \u001b[32m━━━━━━━━━━━━━━━━━━━━\u001b[0m\u001b[37m\u001b[0m \u001b[1m2s\u001b[0m 6ms/step - accuracy: 0.9849 - loss: 0.1203 - val_accuracy: 0.9753 - val_loss: 0.1620\n",
            "Epoch 14/30\n",
            "\u001b[1m375/375\u001b[0m \u001b[32m━━━━━━━━━━━━━━━━━━━━\u001b[0m\u001b[37m\u001b[0m \u001b[1m2s\u001b[0m 6ms/step - accuracy: 0.9868 - loss: 0.1175 - val_accuracy: 0.9758 - val_loss: 0.1570\n",
            "Epoch 15/30\n",
            "\u001b[1m375/375\u001b[0m \u001b[32m━━━━━━━━━━━━━━━━━━━━\u001b[0m\u001b[37m\u001b[0m \u001b[1m4s\u001b[0m 9ms/step - accuracy: 0.9869 - loss: 0.1145 - val_accuracy: 0.9743 - val_loss: 0.1611\n",
            "Epoch 16/30\n",
            "\u001b[1m375/375\u001b[0m \u001b[32m━━━━━━━━━━━━━━━━━━━━\u001b[0m\u001b[37m\u001b[0m \u001b[1m2s\u001b[0m 6ms/step - accuracy: 0.9859 - loss: 0.1135 - val_accuracy: 0.9734 - val_loss: 0.1592\n",
            "Epoch 17/30\n",
            "\u001b[1m375/375\u001b[0m \u001b[32m━━━━━━━━━━━━━━━━━━━━\u001b[0m\u001b[37m\u001b[0m \u001b[1m2s\u001b[0m 6ms/step - accuracy: 0.9869 - loss: 0.1138 - val_accuracy: 0.9724 - val_loss: 0.1641\n"
          ]
        }
      ]
    },
    {
      "cell_type": "code",
      "source": [],
      "metadata": {
        "id": "h6Jf7Zt3Tw4q"
      },
      "id": "h6Jf7Zt3Tw4q",
      "execution_count": 13,
      "outputs": []
    },
    {
      "cell_type": "markdown",
      "source": [
        "##🔧 7.2.a: ReLU + Adam (No Regularization)\n",
        "In this section, we experiment with replacing the optimizer from SGD to Adam while keeping the architecture and activation function (ReLU) the same. The aim is to evaluate whether Adam's adaptive learning rate improves model convergence and final validation accuracy without introducing regularization.\n",
        "\n",
        "🧪 Key Configuration:\n",
        "\n",
        "*   Activation Function: ReLU (for all hidden layers)\n",
        "*   Optimizer: Adam (default learning rate = 0.001)\n",
        "*   Loss Function: Categorical Crossentropy\n",
        "*   Epochs: 30\n",
        "*   Batch Size: 128\n",
        "*   Validation Split: 0.2 (20% of training data for validation)\n",
        "\n",
        "We will monitor both training and validation accuracy to check for signs of underfitting or overfitting, and compare the performance to the previous ReLU + SGD model."
      ],
      "metadata": {
        "id": "YiX7V-zTTzej"
      },
      "id": "YiX7V-zTTzej"
    },
    {
      "cell_type": "code",
      "source": [
        "from tensorflow.keras.datasets import mnist\n",
        "from tensorflow.keras.utils import to_categorical\n",
        "\n",
        "# Load dataset\n",
        "(X_train, y_train), (X_test, y_test) = mnist.load_data()\n",
        "\n",
        "# Flatten and normalize the input data\n",
        "X_train = X_train.reshape((X_train.shape[0], 28 * 28)).astype('float32') / 255\n",
        "X_test = X_test.reshape((X_test.shape[0], 28 * 28)).astype('float32') / 255\n",
        "\n",
        "# One-hot encode labels\n",
        "y_train = to_categorical(y_train)\n",
        "y_test = to_categorical(y_test)"
      ],
      "metadata": {
        "id": "xcNBcZiYVmi-"
      },
      "id": "xcNBcZiYVmi-",
      "execution_count": 14,
      "outputs": []
    },
    {
      "cell_type": "code",
      "source": [
        "# 7.2.a: ReLU + Adam (no regularization)\n",
        "from tensorflow.keras.models import Sequential\n",
        "from tensorflow.keras.layers import Dense\n",
        "from tensorflow.keras.optimizers import Adam\n",
        "\n",
        "# Define model\n",
        "model_relu_adam = Sequential([\n",
        "    Dense(128, activation='relu', input_shape=(784,)),\n",
        "    Dense(64, activation='relu'),\n",
        "    Dense(32, activation='relu'),\n",
        "    Dense(10, activation='softmax')  # Output layer for 10 classes\n",
        "])\n",
        "\n",
        "# Compile with Adam optimizer\n",
        "model_relu_adam.compile(\n",
        "    optimizer=Adam(learning_rate=0.001),  # default LR\n",
        "    loss='categorical_crossentropy',\n",
        "    metrics=['accuracy']\n",
        ")\n",
        "\n",
        "# Train the model\n",
        "history_relu_adam = model_relu_adam.fit(\n",
        "    X_train, y_train,\n",
        "    validation_split=0.2,\n",
        "    epochs=30,\n",
        "    batch_size=128,\n",
        "    verbose=1\n",
        ")"
      ],
      "metadata": {
        "id": "oLjXRMqsVRPJ",
        "outputId": "b5317af0-6cbb-4da3-c715-063f27199a72",
        "colab": {
          "base_uri": "https://localhost:8080/"
        }
      },
      "id": "oLjXRMqsVRPJ",
      "execution_count": 15,
      "outputs": [
        {
          "output_type": "stream",
          "name": "stdout",
          "text": [
            "Epoch 1/30\n",
            "\u001b[1m375/375\u001b[0m \u001b[32m━━━━━━━━━━━━━━━━━━━━\u001b[0m\u001b[37m\u001b[0m \u001b[1m4s\u001b[0m 8ms/step - accuracy: 0.7943 - loss: 0.7030 - val_accuracy: 0.9475 - val_loss: 0.1839\n",
            "Epoch 2/30\n",
            "\u001b[1m375/375\u001b[0m \u001b[32m━━━━━━━━━━━━━━━━━━━━\u001b[0m\u001b[37m\u001b[0m \u001b[1m3s\u001b[0m 9ms/step - accuracy: 0.9520 - loss: 0.1654 - val_accuracy: 0.9600 - val_loss: 0.1358\n",
            "Epoch 3/30\n",
            "\u001b[1m375/375\u001b[0m \u001b[32m━━━━━━━━━━━━━━━━━━━━\u001b[0m\u001b[37m\u001b[0m \u001b[1m2s\u001b[0m 6ms/step - accuracy: 0.9679 - loss: 0.1096 - val_accuracy: 0.9697 - val_loss: 0.1064\n",
            "Epoch 4/30\n",
            "\u001b[1m375/375\u001b[0m \u001b[32m━━━━━━━━━━━━━━━━━━━━\u001b[0m\u001b[37m\u001b[0m \u001b[1m2s\u001b[0m 6ms/step - accuracy: 0.9752 - loss: 0.0845 - val_accuracy: 0.9699 - val_loss: 0.1037\n",
            "Epoch 5/30\n",
            "\u001b[1m375/375\u001b[0m \u001b[32m━━━━━━━━━━━━━━━━━━━━\u001b[0m\u001b[37m\u001b[0m \u001b[1m2s\u001b[0m 6ms/step - accuracy: 0.9806 - loss: 0.0654 - val_accuracy: 0.9678 - val_loss: 0.1036\n",
            "Epoch 6/30\n",
            "\u001b[1m375/375\u001b[0m \u001b[32m━━━━━━━━━━━━━━━━━━━━\u001b[0m\u001b[37m\u001b[0m \u001b[1m3s\u001b[0m 7ms/step - accuracy: 0.9849 - loss: 0.0514 - val_accuracy: 0.9741 - val_loss: 0.0982\n",
            "Epoch 7/30\n",
            "\u001b[1m375/375\u001b[0m \u001b[32m━━━━━━━━━━━━━━━━━━━━\u001b[0m\u001b[37m\u001b[0m \u001b[1m3s\u001b[0m 8ms/step - accuracy: 0.9881 - loss: 0.0408 - val_accuracy: 0.9708 - val_loss: 0.1056\n",
            "Epoch 8/30\n",
            "\u001b[1m375/375\u001b[0m \u001b[32m━━━━━━━━━━━━━━━━━━━━\u001b[0m\u001b[37m\u001b[0m \u001b[1m2s\u001b[0m 6ms/step - accuracy: 0.9884 - loss: 0.0367 - val_accuracy: 0.9750 - val_loss: 0.0977\n",
            "Epoch 9/30\n",
            "\u001b[1m375/375\u001b[0m \u001b[32m━━━━━━━━━━━━━━━━━━━━\u001b[0m\u001b[37m\u001b[0m \u001b[1m2s\u001b[0m 6ms/step - accuracy: 0.9914 - loss: 0.0287 - val_accuracy: 0.9733 - val_loss: 0.1017\n",
            "Epoch 10/30\n",
            "\u001b[1m375/375\u001b[0m \u001b[32m━━━━━━━━━━━━━━━━━━━━\u001b[0m\u001b[37m\u001b[0m \u001b[1m2s\u001b[0m 7ms/step - accuracy: 0.9927 - loss: 0.0239 - val_accuracy: 0.9703 - val_loss: 0.1172\n",
            "Epoch 11/30\n",
            "\u001b[1m375/375\u001b[0m \u001b[32m━━━━━━━━━━━━━━━━━━━━\u001b[0m\u001b[37m\u001b[0m \u001b[1m3s\u001b[0m 9ms/step - accuracy: 0.9948 - loss: 0.0173 - val_accuracy: 0.9738 - val_loss: 0.1131\n",
            "Epoch 12/30\n",
            "\u001b[1m375/375\u001b[0m \u001b[32m━━━━━━━━━━━━━━━━━━━━\u001b[0m\u001b[37m\u001b[0m \u001b[1m3s\u001b[0m 7ms/step - accuracy: 0.9951 - loss: 0.0154 - val_accuracy: 0.9666 - val_loss: 0.1282\n",
            "Epoch 13/30\n",
            "\u001b[1m375/375\u001b[0m \u001b[32m━━━━━━━━━━━━━━━━━━━━\u001b[0m\u001b[37m\u001b[0m \u001b[1m2s\u001b[0m 6ms/step - accuracy: 0.9938 - loss: 0.0196 - val_accuracy: 0.9739 - val_loss: 0.1132\n",
            "Epoch 14/30\n",
            "\u001b[1m375/375\u001b[0m \u001b[32m━━━━━━━━━━━━━━━━━━━━\u001b[0m\u001b[37m\u001b[0m \u001b[1m2s\u001b[0m 6ms/step - accuracy: 0.9964 - loss: 0.0117 - val_accuracy: 0.9729 - val_loss: 0.1181\n",
            "Epoch 15/30\n",
            "\u001b[1m375/375\u001b[0m \u001b[32m━━━━━━━━━━━━━━━━━━━━\u001b[0m\u001b[37m\u001b[0m \u001b[1m2s\u001b[0m 6ms/step - accuracy: 0.9957 - loss: 0.0132 - val_accuracy: 0.9727 - val_loss: 0.1271\n",
            "Epoch 16/30\n",
            "\u001b[1m375/375\u001b[0m \u001b[32m━━━━━━━━━━━━━━━━━━━━\u001b[0m\u001b[37m\u001b[0m \u001b[1m4s\u001b[0m 9ms/step - accuracy: 0.9958 - loss: 0.0126 - val_accuracy: 0.9779 - val_loss: 0.1176\n",
            "Epoch 17/30\n",
            "\u001b[1m375/375\u001b[0m \u001b[32m━━━━━━━━━━━━━━━━━━━━\u001b[0m\u001b[37m\u001b[0m \u001b[1m2s\u001b[0m 6ms/step - accuracy: 0.9972 - loss: 0.0079 - val_accuracy: 0.9711 - val_loss: 0.1429\n",
            "Epoch 18/30\n",
            "\u001b[1m375/375\u001b[0m \u001b[32m━━━━━━━━━━━━━━━━━━━━\u001b[0m\u001b[37m\u001b[0m \u001b[1m2s\u001b[0m 7ms/step - accuracy: 0.9952 - loss: 0.0131 - val_accuracy: 0.9753 - val_loss: 0.1271\n",
            "Epoch 19/30\n",
            "\u001b[1m375/375\u001b[0m \u001b[32m━━━━━━━━━━━━━━━━━━━━\u001b[0m\u001b[37m\u001b[0m \u001b[1m2s\u001b[0m 6ms/step - accuracy: 0.9974 - loss: 0.0071 - val_accuracy: 0.9669 - val_loss: 0.1781\n",
            "Epoch 20/30\n",
            "\u001b[1m375/375\u001b[0m \u001b[32m━━━━━━━━━━━━━━━━━━━━\u001b[0m\u001b[37m\u001b[0m \u001b[1m3s\u001b[0m 7ms/step - accuracy: 0.9964 - loss: 0.0107 - val_accuracy: 0.9732 - val_loss: 0.1294\n",
            "Epoch 21/30\n",
            "\u001b[1m375/375\u001b[0m \u001b[32m━━━━━━━━━━━━━━━━━━━━\u001b[0m\u001b[37m\u001b[0m \u001b[1m3s\u001b[0m 9ms/step - accuracy: 0.9969 - loss: 0.0088 - val_accuracy: 0.9725 - val_loss: 0.1520\n",
            "Epoch 22/30\n",
            "\u001b[1m375/375\u001b[0m \u001b[32m━━━━━━━━━━━━━━━━━━━━\u001b[0m\u001b[37m\u001b[0m \u001b[1m2s\u001b[0m 7ms/step - accuracy: 0.9977 - loss: 0.0067 - val_accuracy: 0.9729 - val_loss: 0.1446\n",
            "Epoch 23/30\n",
            "\u001b[1m375/375\u001b[0m \u001b[32m━━━━━━━━━━━━━━━━━━━━\u001b[0m\u001b[37m\u001b[0m \u001b[1m3s\u001b[0m 7ms/step - accuracy: 0.9968 - loss: 0.0087 - val_accuracy: 0.9739 - val_loss: 0.1377\n",
            "Epoch 24/30\n",
            "\u001b[1m375/375\u001b[0m \u001b[32m━━━━━━━━━━━━━━━━━━━━\u001b[0m\u001b[37m\u001b[0m \u001b[1m3s\u001b[0m 7ms/step - accuracy: 0.9979 - loss: 0.0071 - val_accuracy: 0.9760 - val_loss: 0.1511\n",
            "Epoch 25/30\n",
            "\u001b[1m375/375\u001b[0m \u001b[32m━━━━━━━━━━━━━━━━━━━━\u001b[0m\u001b[37m\u001b[0m \u001b[1m3s\u001b[0m 9ms/step - accuracy: 0.9960 - loss: 0.0111 - val_accuracy: 0.9759 - val_loss: 0.1458\n",
            "Epoch 26/30\n",
            "\u001b[1m375/375\u001b[0m \u001b[32m━━━━━━━━━━━━━━━━━━━━\u001b[0m\u001b[37m\u001b[0m \u001b[1m3s\u001b[0m 7ms/step - accuracy: 0.9984 - loss: 0.0057 - val_accuracy: 0.9747 - val_loss: 0.1477\n",
            "Epoch 27/30\n",
            "\u001b[1m375/375\u001b[0m \u001b[32m━━━━━━━━━━━━━━━━━━━━\u001b[0m\u001b[37m\u001b[0m \u001b[1m2s\u001b[0m 7ms/step - accuracy: 0.9973 - loss: 0.0087 - val_accuracy: 0.9745 - val_loss: 0.1559\n",
            "Epoch 28/30\n",
            "\u001b[1m375/375\u001b[0m \u001b[32m━━━━━━━━━━━━━━━━━━━━\u001b[0m\u001b[37m\u001b[0m \u001b[1m2s\u001b[0m 6ms/step - accuracy: 0.9962 - loss: 0.0102 - val_accuracy: 0.9758 - val_loss: 0.1400\n",
            "Epoch 29/30\n",
            "\u001b[1m375/375\u001b[0m \u001b[32m━━━━━━━━━━━━━━━━━━━━\u001b[0m\u001b[37m\u001b[0m \u001b[1m2s\u001b[0m 6ms/step - accuracy: 0.9986 - loss: 0.0040 - val_accuracy: 0.9772 - val_loss: 0.1461\n",
            "Epoch 30/30\n",
            "\u001b[1m375/375\u001b[0m \u001b[32m━━━━━━━━━━━━━━━━━━━━\u001b[0m\u001b[37m\u001b[0m \u001b[1m4s\u001b[0m 9ms/step - accuracy: 0.9999 - loss: 6.9211e-04 - val_accuracy: 0.9788 - val_loss: 0.1330\n"
          ]
        }
      ]
    },
    {
      "cell_type": "markdown",
      "source": [
        "##🔍 Observations – ReLU + Adam\n",
        "\n",
        "\n",
        "\n",
        "*   Training Accuracy reached ~99.87% by epoch 30.\n",
        "*   Validation Accuracy peaked at 97.60%, slightly improving over the ReLU + SGD variant.\n",
        "*   Signs of Overfitting:\n",
        "      -Training loss continued decreasing while validation loss began to increase after epoch ~10–12.\n",
        "      -Typical pattern of overfitting — the model learns too well on training data and begins to generalize poorly.\n",
        "*   Conclusion:\n",
        "      -Adam is clearly more effective than SGD in reaching higher accuracy faster.\n",
        "      -However, overfitting appears earlier, suggesting the need for regularization and/or early stopping to stabilize generalization.\n",
        "\n",
        "\n",
        "➡️ Next Step: Proceed to 7.2.b – ReLU + Adam + L2 Regularization to control overfitting and evaluate if L2 helps stabilize validation performance.\n",
        "\n"
      ],
      "metadata": {
        "id": "l-JgbooIV3He"
      },
      "id": "l-JgbooIV3He"
    },
    {
      "cell_type": "markdown",
      "source": [
        "##7.2.b – ReLU + Adam + L2 Regularization\n",
        "In the previous step (7.1.2a), while the model achieved very high training accuracy (~99.9%), it began to overfit around epoch 10–12. The validation loss increased while training loss continued decreasing — a classic sign of overfitting.\n",
        "\n",
        "To mitigate this, we apply L2 regularization (also known as weight decay) to all hidden layers. L2 helps by penalizing large weights and thus encouraging simpler, more generalizable models.\n",
        "\n",
        "We retain:\n",
        "\n",
        "*   The same architecture\n",
        "*   Adam optimizer\n",
        "*   30 epochs and batch size of 128\n",
        "\n",
        "We'll observe how validation accuracy and loss change, and whether this reduces the overfitting seen previously."
      ],
      "metadata": {
        "id": "UIPOi90bhQmt"
      },
      "id": "UIPOi90bhQmt"
    },
    {
      "cell_type": "code",
      "source": [
        "from tensorflow.keras import regularizers\n",
        "from tensorflow.keras.optimizers import Adam\n",
        "from tensorflow.keras.models import Sequential\n",
        "from tensorflow.keras.layers import Dense\n",
        "\n",
        "# Define the model\n",
        "model_relu_adam_l2 = Sequential([\n",
        "    Dense(128, activation='relu', input_shape=(784,), kernel_regularizer=regularizers.l2(0.001)),\n",
        "    Dense(64, activation='relu', kernel_regularizer=regularizers.l2(0.001)),\n",
        "    Dense(32, activation='relu', kernel_regularizer=regularizers.l2(0.001)),\n",
        "    Dense(10, activation='softmax')  # Softmax for probability distribution\n",
        "])\n",
        "\n",
        "# Compile the model\n",
        "model_relu_adam_l2.compile(\n",
        "    optimizer=Adam(learning_rate=0.001),\n",
        "    loss='categorical_crossentropy',\n",
        "    metrics=['accuracy']\n",
        ")\n",
        "\n",
        "# Train the model\n",
        "history_relu_adam_l2 = model_relu_adam_l2.fit(\n",
        "    X_train, y_train,\n",
        "    validation_split=0.2,\n",
        "    epochs=30,\n",
        "    batch_size=128,\n",
        "    verbose=1\n",
        ")"
      ],
      "metadata": {
        "id": "g7t6tWAthnjk",
        "outputId": "ca26f7f5-1ae8-42c3-8419-78edc147a57e",
        "colab": {
          "base_uri": "https://localhost:8080/"
        }
      },
      "id": "g7t6tWAthnjk",
      "execution_count": 16,
      "outputs": [
        {
          "output_type": "stream",
          "name": "stdout",
          "text": [
            "Epoch 1/30\n",
            "\u001b[1m375/375\u001b[0m \u001b[32m━━━━━━━━━━━━━━━━━━━━\u001b[0m\u001b[37m\u001b[0m \u001b[1m4s\u001b[0m 7ms/step - accuracy: 0.7716 - loss: 1.0298 - val_accuracy: 0.9414 - val_loss: 0.4037\n",
            "Epoch 2/30\n",
            "\u001b[1m375/375\u001b[0m \u001b[32m━━━━━━━━━━━━━━━━━━━━\u001b[0m\u001b[37m\u001b[0m \u001b[1m5s\u001b[0m 7ms/step - accuracy: 0.9475 - loss: 0.3746 - val_accuracy: 0.9561 - val_loss: 0.3317\n",
            "Epoch 3/30\n",
            "\u001b[1m375/375\u001b[0m \u001b[32m━━━━━━━━━━━━━━━━━━━━\u001b[0m\u001b[37m\u001b[0m \u001b[1m4s\u001b[0m 10ms/step - accuracy: 0.9603 - loss: 0.3051 - val_accuracy: 0.9546 - val_loss: 0.3118\n",
            "Epoch 4/30\n",
            "\u001b[1m375/375\u001b[0m \u001b[32m━━━━━━━━━━━━━━━━━━━━\u001b[0m\u001b[37m\u001b[0m \u001b[1m4s\u001b[0m 7ms/step - accuracy: 0.9655 - loss: 0.2715 - val_accuracy: 0.9578 - val_loss: 0.2854\n",
            "Epoch 5/30\n",
            "\u001b[1m375/375\u001b[0m \u001b[32m━━━━━━━━━━━━━━━━━━━━\u001b[0m\u001b[37m\u001b[0m \u001b[1m3s\u001b[0m 7ms/step - accuracy: 0.9701 - loss: 0.2476 - val_accuracy: 0.9654 - val_loss: 0.2562\n",
            "Epoch 6/30\n",
            "\u001b[1m375/375\u001b[0m \u001b[32m━━━━━━━━━━━━━━━━━━━━\u001b[0m\u001b[37m\u001b[0m \u001b[1m3s\u001b[0m 7ms/step - accuracy: 0.9726 - loss: 0.2291 - val_accuracy: 0.9680 - val_loss: 0.2388\n",
            "Epoch 7/30\n",
            "\u001b[1m375/375\u001b[0m \u001b[32m━━━━━━━━━━━━━━━━━━━━\u001b[0m\u001b[37m\u001b[0m \u001b[1m4s\u001b[0m 10ms/step - accuracy: 0.9762 - loss: 0.2133 - val_accuracy: 0.9707 - val_loss: 0.2226\n",
            "Epoch 8/30\n",
            "\u001b[1m375/375\u001b[0m \u001b[32m━━━━━━━━━━━━━━━━━━━━\u001b[0m\u001b[37m\u001b[0m \u001b[1m2s\u001b[0m 7ms/step - accuracy: 0.9787 - loss: 0.1970 - val_accuracy: 0.9712 - val_loss: 0.2168\n",
            "Epoch 9/30\n",
            "\u001b[1m375/375\u001b[0m \u001b[32m━━━━━━━━━━━━━━━━━━━━\u001b[0m\u001b[37m\u001b[0m \u001b[1m2s\u001b[0m 7ms/step - accuracy: 0.9787 - loss: 0.1913 - val_accuracy: 0.9712 - val_loss: 0.2117\n",
            "Epoch 10/30\n",
            "\u001b[1m375/375\u001b[0m \u001b[32m━━━━━━━━━━━━━━━━━━━━\u001b[0m\u001b[37m\u001b[0m \u001b[1m3s\u001b[0m 7ms/step - accuracy: 0.9804 - loss: 0.1843 - val_accuracy: 0.9716 - val_loss: 0.2057\n",
            "Epoch 11/30\n",
            "\u001b[1m375/375\u001b[0m \u001b[32m━━━━━━━━━━━━━━━━━━━━\u001b[0m\u001b[37m\u001b[0m \u001b[1m3s\u001b[0m 9ms/step - accuracy: 0.9824 - loss: 0.1742 - val_accuracy: 0.9694 - val_loss: 0.2082\n",
            "Epoch 12/30\n",
            "\u001b[1m375/375\u001b[0m \u001b[32m━━━━━━━━━━━━━━━━━━━━\u001b[0m\u001b[37m\u001b[0m \u001b[1m3s\u001b[0m 8ms/step - accuracy: 0.9815 - loss: 0.1727 - val_accuracy: 0.9728 - val_loss: 0.1976\n",
            "Epoch 13/30\n",
            "\u001b[1m375/375\u001b[0m \u001b[32m━━━━━━━━━━━━━━━━━━━━\u001b[0m\u001b[37m\u001b[0m \u001b[1m3s\u001b[0m 7ms/step - accuracy: 0.9833 - loss: 0.1669 - val_accuracy: 0.9714 - val_loss: 0.1979\n",
            "Epoch 14/30\n",
            "\u001b[1m375/375\u001b[0m \u001b[32m━━━━━━━━━━━━━━━━━━━━\u001b[0m\u001b[37m\u001b[0m \u001b[1m2s\u001b[0m 6ms/step - accuracy: 0.9829 - loss: 0.1629 - val_accuracy: 0.9690 - val_loss: 0.1992\n",
            "Epoch 15/30\n",
            "\u001b[1m375/375\u001b[0m \u001b[32m━━━━━━━━━━━━━━━━━━━━\u001b[0m\u001b[37m\u001b[0m \u001b[1m2s\u001b[0m 6ms/step - accuracy: 0.9832 - loss: 0.1613 - val_accuracy: 0.9719 - val_loss: 0.1929\n",
            "Epoch 16/30\n",
            "\u001b[1m375/375\u001b[0m \u001b[32m━━━━━━━━━━━━━━━━━━━━\u001b[0m\u001b[37m\u001b[0m \u001b[1m4s\u001b[0m 9ms/step - accuracy: 0.9839 - loss: 0.1588 - val_accuracy: 0.9709 - val_loss: 0.1923\n",
            "Epoch 17/30\n",
            "\u001b[1m375/375\u001b[0m \u001b[32m━━━━━━━━━━━━━━━━━━━━\u001b[0m\u001b[37m\u001b[0m \u001b[1m2s\u001b[0m 6ms/step - accuracy: 0.9858 - loss: 0.1513 - val_accuracy: 0.9742 - val_loss: 0.1860\n",
            "Epoch 18/30\n",
            "\u001b[1m375/375\u001b[0m \u001b[32m━━━━━━━━━━━━━━━━━━━━\u001b[0m\u001b[37m\u001b[0m \u001b[1m2s\u001b[0m 7ms/step - accuracy: 0.9860 - loss: 0.1474 - val_accuracy: 0.9705 - val_loss: 0.1825\n",
            "Epoch 19/30\n",
            "\u001b[1m375/375\u001b[0m \u001b[32m━━━━━━━━━━━━━━━━━━━━\u001b[0m\u001b[37m\u001b[0m \u001b[1m2s\u001b[0m 7ms/step - accuracy: 0.9840 - loss: 0.1488 - val_accuracy: 0.9711 - val_loss: 0.1894\n",
            "Epoch 20/30\n",
            "\u001b[1m375/375\u001b[0m \u001b[32m━━━━━━━━━━━━━━━━━━━━\u001b[0m\u001b[37m\u001b[0m \u001b[1m3s\u001b[0m 7ms/step - accuracy: 0.9853 - loss: 0.1456 - val_accuracy: 0.9730 - val_loss: 0.1789\n",
            "Epoch 21/30\n",
            "\u001b[1m375/375\u001b[0m \u001b[32m━━━━━━━━━━━━━━━━━━━━\u001b[0m\u001b[37m\u001b[0m \u001b[1m3s\u001b[0m 9ms/step - accuracy: 0.9858 - loss: 0.1423 - val_accuracy: 0.9745 - val_loss: 0.1805\n",
            "Epoch 22/30\n",
            "\u001b[1m375/375\u001b[0m \u001b[32m━━━━━━━━━━━━━━━━━━━━\u001b[0m\u001b[37m\u001b[0m \u001b[1m3s\u001b[0m 7ms/step - accuracy: 0.9874 - loss: 0.1361 - val_accuracy: 0.9761 - val_loss: 0.1684\n",
            "Epoch 23/30\n",
            "\u001b[1m375/375\u001b[0m \u001b[32m━━━━━━━━━━━━━━━━━━━━\u001b[0m\u001b[37m\u001b[0m \u001b[1m2s\u001b[0m 7ms/step - accuracy: 0.9872 - loss: 0.1348 - val_accuracy: 0.9735 - val_loss: 0.1756\n",
            "Epoch 24/30\n",
            "\u001b[1m375/375\u001b[0m \u001b[32m━━━━━━━━━━━━━━━━━━━━\u001b[0m\u001b[37m\u001b[0m \u001b[1m2s\u001b[0m 7ms/step - accuracy: 0.9866 - loss: 0.1358 - val_accuracy: 0.9728 - val_loss: 0.1782\n",
            "Epoch 25/30\n",
            "\u001b[1m375/375\u001b[0m \u001b[32m━━━━━━━━━━━━━━━━━━━━\u001b[0m\u001b[37m\u001b[0m \u001b[1m3s\u001b[0m 9ms/step - accuracy: 0.9864 - loss: 0.1355 - val_accuracy: 0.9740 - val_loss: 0.1723\n",
            "Epoch 26/30\n",
            "\u001b[1m375/375\u001b[0m \u001b[32m━━━━━━━━━━━━━━━━━━━━\u001b[0m\u001b[37m\u001b[0m \u001b[1m3s\u001b[0m 7ms/step - accuracy: 0.9877 - loss: 0.1327 - val_accuracy: 0.9777 - val_loss: 0.1651\n",
            "Epoch 27/30\n",
            "\u001b[1m375/375\u001b[0m \u001b[32m━━━━━━━━━━━━━━━━━━━━\u001b[0m\u001b[37m\u001b[0m \u001b[1m3s\u001b[0m 7ms/step - accuracy: 0.9873 - loss: 0.1310 - val_accuracy: 0.9754 - val_loss: 0.1672\n",
            "Epoch 28/30\n",
            "\u001b[1m375/375\u001b[0m \u001b[32m━━━━━━━━━━━━━━━━━━━━\u001b[0m\u001b[37m\u001b[0m \u001b[1m3s\u001b[0m 7ms/step - accuracy: 0.9877 - loss: 0.1303 - val_accuracy: 0.9755 - val_loss: 0.1653\n",
            "Epoch 29/30\n",
            "\u001b[1m375/375\u001b[0m \u001b[32m━━━━━━━━━━━━━━━━━━━━\u001b[0m\u001b[37m\u001b[0m \u001b[1m3s\u001b[0m 7ms/step - accuracy: 0.9870 - loss: 0.1306 - val_accuracy: 0.9753 - val_loss: 0.1676\n",
            "Epoch 30/30\n",
            "\u001b[1m375/375\u001b[0m \u001b[32m━━━━━━━━━━━━━━━━━━━━\u001b[0m\u001b[37m\u001b[0m \u001b[1m5s\u001b[0m 7ms/step - accuracy: 0.9886 - loss: 0.1265 - val_accuracy: 0.9726 - val_loss: 0.1775\n"
          ]
        }
      ]
    },
    {
      "cell_type": "markdown",
      "source": [
        "## ✅ Performance Summary\n",
        "\n",
        "*  Final Training Accuracy: ~98.68%\n",
        "*  Final Validation Accuracy: ~97.17%\n",
        "*  Final Validation Loss: 0.1764\n",
        "*  The model shows strong performance and stability over 30 epochs.\n",
        "\n",
        "###📉 Overfitting Analysis\n",
        "\n",
        "*   The gap between training and validation loss is smaller than in the previous model (ReLU + Adam without regularization).\n",
        "*   L2 regularization helped mitigate overfitting, as validation loss remained relatively stable and didn’t spike.\n",
        "* No major divergence between training and validation accuracy.\n",
        "\n",
        "###🧠 Insights\n",
        "\n",
        "*   From around epoch 20 onward, the model shows diminishing returns in validation performance.\n",
        "*   Suggests that training could have stopped earlier, which can be improved using EarlyStopping.\n",
        "*   Still, this configuration provides a strong generalization balance.\n",
        "\n",
        "🔧 Next Step\n",
        "We now proceed to 7.2.c – ReLU + Adam + L2 + EarlyStopping to:\n",
        "\n",
        "\n",
        "*   Cut unnecessary epochs\n",
        "*   Further regularize\n",
        "*   And lock in peak validation performance efficiently.\n",
        "\n",
        "\n",
        "\n",
        "\n",
        "\n",
        "\n"
      ],
      "metadata": {
        "id": "I3dKqrfBiNNM"
      },
      "id": "I3dKqrfBiNNM"
    },
    {
      "cell_type": "markdown",
      "source": [
        "##🔧 7.2.c – ReLU + Adam + L2 + EarlyStopping\n",
        "In this step, we aim to further stabilize validation performance and prevent unnecessary training beyond the point of convergence.\n",
        "\n",
        "🧪 Strategy:\n",
        "\n",
        "\n",
        "*   Use the Adam optimizer.\n",
        "*   Apply L2 regularization (as before).\n",
        "\n",
        "\n",
        "*   Add EarlyStopping to:\n",
        "    - Monitor val_loss\n",
        "    - Stop training if it doesn't improve for 5 consecutive epochs (patience=5)\n",
        "    - Restore the best weights from training.\n",
        "*   This will help us:\n",
        "    - Reduce computation time,\n",
        "    - Avoid overfitting from excess epochs,\n",
        "    - Lock in the best-performing model early.\n"
      ],
      "metadata": {
        "id": "fJjsvJuOr_Pg"
      },
      "id": "fJjsvJuOr_Pg"
    },
    {
      "cell_type": "code",
      "source": [
        "from keras.models import Sequential\n",
        "from keras.layers import Flatten, Dense\n",
        "from keras.callbacks import EarlyStopping\n",
        "from keras.regularizers import l2\n",
        "from keras.optimizers import Adam\n",
        "\n",
        "# Define model\n",
        "model_relu_adam_l2_es = Sequential([\n",
        "    Dense(128, activation='relu', kernel_regularizer=l2(0.001), input_shape=(784,)),\n",
        "    Dense(64, activation='relu', kernel_regularizer=l2(0.001)),\n",
        "    Dense(10, activation='softmax')\n",
        "])\n",
        "\n",
        "\n",
        "# Compile\n",
        "model_relu_adam_l2_es.compile(\n",
        "    optimizer=Adam(learning_rate=0.001),\n",
        "    loss='categorical_crossentropy',\n",
        "    metrics=['accuracy']\n",
        ")\n",
        "\n",
        "# EarlyStopping callback\n",
        "early_stop = EarlyStopping(\n",
        "    monitor='val_loss',\n",
        "    patience=5,\n",
        "    restore_best_weights=True,\n",
        "    verbose=1\n",
        ")\n",
        "\n",
        "# Train\n",
        "history_relu_adam_l2_es = model_relu_adam_l2_es.fit(\n",
        "    X_train, y_train,\n",
        "    validation_split=0.2,\n",
        "    epochs=30,\n",
        "    batch_size=128,\n",
        "    callbacks=[early_stop],\n",
        "    verbose=1\n",
        ")"
      ],
      "metadata": {
        "id": "LSxCY2-gtOau",
        "outputId": "41d2b959-ea03-4370-dbd5-3f6b3ec33544",
        "colab": {
          "base_uri": "https://localhost:8080/"
        }
      },
      "id": "LSxCY2-gtOau",
      "execution_count": 17,
      "outputs": [
        {
          "output_type": "stream",
          "name": "stdout",
          "text": [
            "Epoch 1/30\n",
            "\u001b[1m375/375\u001b[0m \u001b[32m━━━━━━━━━━━━━━━━━━━━\u001b[0m\u001b[37m\u001b[0m \u001b[1m9s\u001b[0m 18ms/step - accuracy: 0.8159 - loss: 0.9075 - val_accuracy: 0.9431 - val_loss: 0.3781\n",
            "Epoch 2/30\n",
            "\u001b[1m375/375\u001b[0m \u001b[32m━━━━━━━━━━━━━━━━━━━━\u001b[0m\u001b[37m\u001b[0m \u001b[1m4s\u001b[0m 10ms/step - accuracy: 0.9459 - loss: 0.3523 - val_accuracy: 0.9544 - val_loss: 0.3045\n",
            "Epoch 3/30\n",
            "\u001b[1m375/375\u001b[0m \u001b[32m━━━━━━━━━━━━━━━━━━━━\u001b[0m\u001b[37m\u001b[0m \u001b[1m4s\u001b[0m 7ms/step - accuracy: 0.9599 - loss: 0.2824 - val_accuracy: 0.9605 - val_loss: 0.2673\n",
            "Epoch 4/30\n",
            "\u001b[1m375/375\u001b[0m \u001b[32m━━━━━━━━━━━━━━━━━━━━\u001b[0m\u001b[37m\u001b[0m \u001b[1m4s\u001b[0m 10ms/step - accuracy: 0.9677 - loss: 0.2382 - val_accuracy: 0.9659 - val_loss: 0.2327\n",
            "Epoch 5/30\n",
            "\u001b[1m375/375\u001b[0m \u001b[32m━━━━━━━━━━━━━━━━━━━━\u001b[0m\u001b[37m\u001b[0m \u001b[1m2s\u001b[0m 6ms/step - accuracy: 0.9732 - loss: 0.2151 - val_accuracy: 0.9673 - val_loss: 0.2198\n",
            "Epoch 6/30\n",
            "\u001b[1m375/375\u001b[0m \u001b[32m━━━━━━━━━━━━━━━━━━━━\u001b[0m\u001b[37m\u001b[0m \u001b[1m3s\u001b[0m 7ms/step - accuracy: 0.9738 - loss: 0.2006 - val_accuracy: 0.9679 - val_loss: 0.2062\n",
            "Epoch 7/30\n",
            "\u001b[1m375/375\u001b[0m \u001b[32m━━━━━━━━━━━━━━━━━━━━\u001b[0m\u001b[37m\u001b[0m \u001b[1m3s\u001b[0m 7ms/step - accuracy: 0.9762 - loss: 0.1875 - val_accuracy: 0.9680 - val_loss: 0.2064\n",
            "Epoch 8/30\n",
            "\u001b[1m375/375\u001b[0m \u001b[32m━━━━━━━━━━━━━━━━━━━━\u001b[0m\u001b[37m\u001b[0m \u001b[1m3s\u001b[0m 7ms/step - accuracy: 0.9795 - loss: 0.1745 - val_accuracy: 0.9693 - val_loss: 0.1954\n",
            "Epoch 9/30\n",
            "\u001b[1m375/375\u001b[0m \u001b[32m━━━━━━━━━━━━━━━━━━━━\u001b[0m\u001b[37m\u001b[0m \u001b[1m3s\u001b[0m 9ms/step - accuracy: 0.9803 - loss: 0.1668 - val_accuracy: 0.9735 - val_loss: 0.1844\n",
            "Epoch 10/30\n",
            "\u001b[1m375/375\u001b[0m \u001b[32m━━━━━━━━━━━━━━━━━━━━\u001b[0m\u001b[37m\u001b[0m \u001b[1m3s\u001b[0m 7ms/step - accuracy: 0.9786 - loss: 0.1641 - val_accuracy: 0.9715 - val_loss: 0.1812\n",
            "Epoch 11/30\n",
            "\u001b[1m375/375\u001b[0m \u001b[32m━━━━━━━━━━━━━━━━━━━━\u001b[0m\u001b[37m\u001b[0m \u001b[1m3s\u001b[0m 7ms/step - accuracy: 0.9810 - loss: 0.1567 - val_accuracy: 0.9718 - val_loss: 0.1787\n",
            "Epoch 12/30\n",
            "\u001b[1m375/375\u001b[0m \u001b[32m━━━━━━━━━━━━━━━━━━━━\u001b[0m\u001b[37m\u001b[0m \u001b[1m3s\u001b[0m 7ms/step - accuracy: 0.9818 - loss: 0.1488 - val_accuracy: 0.9722 - val_loss: 0.1734\n",
            "Epoch 13/30\n",
            "\u001b[1m375/375\u001b[0m \u001b[32m━━━━━━━━━━━━━━━━━━━━\u001b[0m\u001b[37m\u001b[0m \u001b[1m4s\u001b[0m 9ms/step - accuracy: 0.9833 - loss: 0.1433 - val_accuracy: 0.9725 - val_loss: 0.1700\n",
            "Epoch 14/30\n",
            "\u001b[1m375/375\u001b[0m \u001b[32m━━━━━━━━━━━━━━━━━━━━\u001b[0m\u001b[37m\u001b[0m \u001b[1m3s\u001b[0m 7ms/step - accuracy: 0.9833 - loss: 0.1417 - val_accuracy: 0.9743 - val_loss: 0.1681\n",
            "Epoch 15/30\n",
            "\u001b[1m375/375\u001b[0m \u001b[32m━━━━━━━━━━━━━━━━━━━━\u001b[0m\u001b[37m\u001b[0m \u001b[1m3s\u001b[0m 7ms/step - accuracy: 0.9838 - loss: 0.1381 - val_accuracy: 0.9741 - val_loss: 0.1661\n",
            "Epoch 16/30\n",
            "\u001b[1m375/375\u001b[0m \u001b[32m━━━━━━━━━━━━━━━━━━━━\u001b[0m\u001b[37m\u001b[0m \u001b[1m3s\u001b[0m 7ms/step - accuracy: 0.9850 - loss: 0.1331 - val_accuracy: 0.9724 - val_loss: 0.1687\n",
            "Epoch 17/30\n",
            "\u001b[1m375/375\u001b[0m \u001b[32m━━━━━━━━━━━━━━━━━━━━\u001b[0m\u001b[37m\u001b[0m \u001b[1m3s\u001b[0m 7ms/step - accuracy: 0.9842 - loss: 0.1329 - val_accuracy: 0.9738 - val_loss: 0.1610\n",
            "Epoch 18/30\n",
            "\u001b[1m375/375\u001b[0m \u001b[32m━━━━━━━━━━━━━━━━━━━━\u001b[0m\u001b[37m\u001b[0m \u001b[1m4s\u001b[0m 9ms/step - accuracy: 0.9845 - loss: 0.1292 - val_accuracy: 0.9758 - val_loss: 0.1568\n",
            "Epoch 19/30\n",
            "\u001b[1m375/375\u001b[0m \u001b[32m━━━━━━━━━━━━━━━━━━━━\u001b[0m\u001b[37m\u001b[0m \u001b[1m4s\u001b[0m 7ms/step - accuracy: 0.9852 - loss: 0.1262 - val_accuracy: 0.9750 - val_loss: 0.1576\n",
            "Epoch 20/30\n",
            "\u001b[1m375/375\u001b[0m \u001b[32m━━━━━━━━━━━━━━━━━━━━\u001b[0m\u001b[37m\u001b[0m \u001b[1m3s\u001b[0m 7ms/step - accuracy: 0.9862 - loss: 0.1249 - val_accuracy: 0.9732 - val_loss: 0.1634\n",
            "Epoch 21/30\n",
            "\u001b[1m375/375\u001b[0m \u001b[32m━━━━━━━━━━━━━━━━━━━━\u001b[0m\u001b[37m\u001b[0m \u001b[1m3s\u001b[0m 7ms/step - accuracy: 0.9855 - loss: 0.1260 - val_accuracy: 0.9747 - val_loss: 0.1543\n",
            "Epoch 22/30\n",
            "\u001b[1m375/375\u001b[0m \u001b[32m━━━━━━━━━━━━━━━━━━━━\u001b[0m\u001b[37m\u001b[0m \u001b[1m4s\u001b[0m 9ms/step - accuracy: 0.9870 - loss: 0.1195 - val_accuracy: 0.9746 - val_loss: 0.1549\n",
            "Epoch 23/30\n",
            "\u001b[1m375/375\u001b[0m \u001b[32m━━━━━━━━━━━━━━━━━━━━\u001b[0m\u001b[37m\u001b[0m \u001b[1m3s\u001b[0m 7ms/step - accuracy: 0.9857 - loss: 0.1190 - val_accuracy: 0.9753 - val_loss: 0.1538\n",
            "Epoch 24/30\n",
            "\u001b[1m375/375\u001b[0m \u001b[32m━━━━━━━━━━━━━━━━━━━━\u001b[0m\u001b[37m\u001b[0m \u001b[1m3s\u001b[0m 7ms/step - accuracy: 0.9867 - loss: 0.1176 - val_accuracy: 0.9752 - val_loss: 0.1535\n",
            "Epoch 25/30\n",
            "\u001b[1m375/375\u001b[0m \u001b[32m━━━━━━━━━━━━━━━━━━━━\u001b[0m\u001b[37m\u001b[0m \u001b[1m2s\u001b[0m 7ms/step - accuracy: 0.9853 - loss: 0.1185 - val_accuracy: 0.9754 - val_loss: 0.1502\n",
            "Epoch 26/30\n",
            "\u001b[1m375/375\u001b[0m \u001b[32m━━━━━━━━━━━━━━━━━━━━\u001b[0m\u001b[37m\u001b[0m \u001b[1m6s\u001b[0m 15ms/step - accuracy: 0.9879 - loss: 0.1110 - val_accuracy: 0.9759 - val_loss: 0.1489\n",
            "Epoch 27/30\n",
            "\u001b[1m375/375\u001b[0m \u001b[32m━━━━━━━━━━━━━━━━━━━━\u001b[0m\u001b[37m\u001b[0m \u001b[1m7s\u001b[0m 7ms/step - accuracy: 0.9883 - loss: 0.1104 - val_accuracy: 0.9722 - val_loss: 0.1553\n",
            "Epoch 28/30\n",
            "\u001b[1m375/375\u001b[0m \u001b[32m━━━━━━━━━━━━━━━━━━━━\u001b[0m\u001b[37m\u001b[0m \u001b[1m3s\u001b[0m 8ms/step - accuracy: 0.9883 - loss: 0.1108 - val_accuracy: 0.9755 - val_loss: 0.1464\n",
            "Epoch 29/30\n",
            "\u001b[1m375/375\u001b[0m \u001b[32m━━━━━━━━━━━━━━━━━━━━\u001b[0m\u001b[37m\u001b[0m \u001b[1m3s\u001b[0m 9ms/step - accuracy: 0.9875 - loss: 0.1101 - val_accuracy: 0.9703 - val_loss: 0.1559\n",
            "Epoch 30/30\n",
            "\u001b[1m375/375\u001b[0m \u001b[32m━━━━━━━━━━━━━━━━━━━━\u001b[0m\u001b[37m\u001b[0m \u001b[1m3s\u001b[0m 7ms/step - accuracy: 0.9886 - loss: 0.1074 - val_accuracy: 0.9717 - val_loss: 0.1571\n",
            "Restoring model weights from the end of the best epoch: 28.\n"
          ]
        }
      ]
    },
    {
      "cell_type": "markdown",
      "source": [
        "## 🔍 Observations\n",
        "\n",
        "*   ✅ Initial accuracy was strong (81.59%), and improved rapidly across the first few epochs.\n",
        "*   📈 Validation accuracy peaked at 97.55% by epoch 29, which was restored by EarlyStopping.\n",
        "*   🧠 The final training accuracy was 98.86%, with a validation loss of 0.1571, showing excellent generalization.\n",
        "*   🧮 The gap between training and validation accuracy was minimal, and the loss curve was smooth, indicating:\n",
        "    - Good regularization from L2\n",
        "    - Effective convergence due to Adam\n",
        "    - Controlled overfitting thanks to EarlyStopping\n",
        "\n",
        "*   ⛔️ Training stopped automatically after 30 epochs with restore_best_weights=True, ensuring the best model version is kept.\n",
        "\n",
        "Conclusion: This is the best-performing model so far under the ReLU configurations. The model is well-balanced, avoids overfitting, and shows stable validation performance."
      ],
      "metadata": {
        "id": "K6Wza_ZaupzJ"
      },
      "id": "K6Wza_ZaupzJ"
    },
    {
      "cell_type": "markdown",
      "source": [
        "##🔹 7.3.a – Tanh + SGD\n",
        "In this phase, we are testing the baseline performance of the Tanh activation function using the Stochastic Gradient Descent (SGD) optimizer. This will allow us to compare its convergence and generalization behavior against the ReLU models evaluated earlier.\n",
        "\n",
        "Configuration:\n",
        "\n",
        "*   Activation: tanh\n",
        "*   Optimizer: SGD\n",
        "*   Loss: Categorical Crossentropy\n",
        "*   Epochs: 30\n",
        "*   Batch Size: 128\n",
        "*   No regularization or early stopping applied in this baseline test\n",
        "\n",
        "We'll observe training and validation accuracy to evaluate if Tanh is underfitting or overfitting in this basic configuration. If validation accuracy lags training accuracy significantly, that would suggest overfitting.\n"
      ],
      "metadata": {
        "id": "XWj4U3uQyCpd"
      },
      "id": "XWj4U3uQyCpd"
    },
    {
      "cell_type": "code",
      "source": [
        "from tensorflow.keras.models import Sequential\n",
        "from tensorflow.keras.layers import Dense\n",
        "from tensorflow.keras.optimizers import SGD\n",
        "\n",
        "# Define the model\n",
        "model_tanh_sgd = Sequential([\n",
        "    Dense(128, activation='tanh', input_shape=(784,)),\n",
        "    Dense(64, activation='tanh'),\n",
        "    Dense(32, activation='tanh'),\n",
        "    Dense(10, activation='softmax')\n",
        "])\n",
        "\n",
        "# Compile the model\n",
        "model_tanh_sgd.compile(\n",
        "    optimizer=SGD(learning_rate=0.01),  # Default LR\n",
        "    loss='categorical_crossentropy',\n",
        "    metrics=['accuracy']\n",
        ")\n",
        "\n",
        "# Train the model\n",
        "history_tanh_sgd = model_tanh_sgd.fit(\n",
        "    X_train, y_train,\n",
        "    validation_split=0.2,\n",
        "    epochs=30,\n",
        "    batch_size=128,\n",
        "    verbose=1\n",
        ")"
      ],
      "metadata": {
        "id": "kppZbXA1zCxJ",
        "outputId": "10760a3b-1edf-4097-8fff-6ebff3afd973",
        "colab": {
          "base_uri": "https://localhost:8080/"
        }
      },
      "id": "kppZbXA1zCxJ",
      "execution_count": 18,
      "outputs": [
        {
          "output_type": "stream",
          "name": "stdout",
          "text": [
            "Epoch 1/30\n",
            "\u001b[1m375/375\u001b[0m \u001b[32m━━━━━━━━━━━━━━━━━━━━\u001b[0m\u001b[37m\u001b[0m \u001b[1m3s\u001b[0m 6ms/step - accuracy: 0.5476 - loss: 1.6082 - val_accuracy: 0.8446 - val_loss: 0.7325\n",
            "Epoch 2/30\n",
            "\u001b[1m375/375\u001b[0m \u001b[32m━━━━━━━━━━━━━━━━━━━━\u001b[0m\u001b[37m\u001b[0m \u001b[1m2s\u001b[0m 5ms/step - accuracy: 0.8468 - loss: 0.6871 - val_accuracy: 0.8852 - val_loss: 0.5043\n",
            "Epoch 3/30\n",
            "\u001b[1m375/375\u001b[0m \u001b[32m━━━━━━━━━━━━━━━━━━━━\u001b[0m\u001b[37m\u001b[0m \u001b[1m3s\u001b[0m 7ms/step - accuracy: 0.8787 - loss: 0.5040 - val_accuracy: 0.8993 - val_loss: 0.4124\n",
            "Epoch 4/30\n",
            "\u001b[1m375/375\u001b[0m \u001b[32m━━━━━━━━━━━━━━━━━━━━\u001b[0m\u001b[37m\u001b[0m \u001b[1m3s\u001b[0m 7ms/step - accuracy: 0.8937 - loss: 0.4183 - val_accuracy: 0.9063 - val_loss: 0.3644\n",
            "Epoch 5/30\n",
            "\u001b[1m375/375\u001b[0m \u001b[32m━━━━━━━━━━━━━━━━━━━━\u001b[0m\u001b[37m\u001b[0m \u001b[1m2s\u001b[0m 5ms/step - accuracy: 0.9007 - loss: 0.3759 - val_accuracy: 0.9105 - val_loss: 0.3331\n",
            "Epoch 6/30\n",
            "\u001b[1m375/375\u001b[0m \u001b[32m━━━━━━━━━━━━━━━━━━━━\u001b[0m\u001b[37m\u001b[0m \u001b[1m2s\u001b[0m 5ms/step - accuracy: 0.9086 - loss: 0.3463 - val_accuracy: 0.9144 - val_loss: 0.3118\n",
            "Epoch 7/30\n",
            "\u001b[1m375/375\u001b[0m \u001b[32m━━━━━━━━━━━━━━━━━━━━\u001b[0m\u001b[37m\u001b[0m \u001b[1m2s\u001b[0m 5ms/step - accuracy: 0.9116 - loss: 0.3255 - val_accuracy: 0.9182 - val_loss: 0.2947\n",
            "Epoch 8/30\n",
            "\u001b[1m375/375\u001b[0m \u001b[32m━━━━━━━━━━━━━━━━━━━━\u001b[0m\u001b[37m\u001b[0m \u001b[1m2s\u001b[0m 5ms/step - accuracy: 0.9180 - loss: 0.2980 - val_accuracy: 0.9216 - val_loss: 0.2817\n",
            "Epoch 9/30\n",
            "\u001b[1m375/375\u001b[0m \u001b[32m━━━━━━━━━━━━━━━━━━━━\u001b[0m\u001b[37m\u001b[0m \u001b[1m3s\u001b[0m 8ms/step - accuracy: 0.9228 - loss: 0.2823 - val_accuracy: 0.9245 - val_loss: 0.2706\n",
            "Epoch 10/30\n",
            "\u001b[1m375/375\u001b[0m \u001b[32m━━━━━━━━━━━━━━━━━━━━\u001b[0m\u001b[37m\u001b[0m \u001b[1m4s\u001b[0m 6ms/step - accuracy: 0.9252 - loss: 0.2730 - val_accuracy: 0.9262 - val_loss: 0.2604\n",
            "Epoch 11/30\n",
            "\u001b[1m375/375\u001b[0m \u001b[32m━━━━━━━━━━━━━━━━━━━━\u001b[0m\u001b[37m\u001b[0m \u001b[1m2s\u001b[0m 6ms/step - accuracy: 0.9258 - loss: 0.2662 - val_accuracy: 0.9298 - val_loss: 0.2525\n",
            "Epoch 12/30\n",
            "\u001b[1m375/375\u001b[0m \u001b[32m━━━━━━━━━━━━━━━━━━━━\u001b[0m\u001b[37m\u001b[0m \u001b[1m2s\u001b[0m 6ms/step - accuracy: 0.9270 - loss: 0.2564 - val_accuracy: 0.9310 - val_loss: 0.2453\n",
            "Epoch 13/30\n",
            "\u001b[1m375/375\u001b[0m \u001b[32m━━━━━━━━━━━━━━━━━━━━\u001b[0m\u001b[37m\u001b[0m \u001b[1m3s\u001b[0m 7ms/step - accuracy: 0.9286 - loss: 0.2482 - val_accuracy: 0.9337 - val_loss: 0.2373\n",
            "Epoch 14/30\n",
            "\u001b[1m375/375\u001b[0m \u001b[32m━━━━━━━━━━━━━━━━━━━━\u001b[0m\u001b[37m\u001b[0m \u001b[1m3s\u001b[0m 7ms/step - accuracy: 0.9309 - loss: 0.2392 - val_accuracy: 0.9351 - val_loss: 0.2312\n",
            "Epoch 15/30\n",
            "\u001b[1m375/375\u001b[0m \u001b[32m━━━━━━━━━━━━━━━━━━━━\u001b[0m\u001b[37m\u001b[0m \u001b[1m2s\u001b[0m 5ms/step - accuracy: 0.9339 - loss: 0.2301 - val_accuracy: 0.9373 - val_loss: 0.2251\n",
            "Epoch 16/30\n",
            "\u001b[1m375/375\u001b[0m \u001b[32m━━━━━━━━━━━━━━━━━━━━\u001b[0m\u001b[37m\u001b[0m \u001b[1m2s\u001b[0m 5ms/step - accuracy: 0.9363 - loss: 0.2252 - val_accuracy: 0.9384 - val_loss: 0.2206\n",
            "Epoch 17/30\n",
            "\u001b[1m375/375\u001b[0m \u001b[32m━━━━━━━━━━━━━━━━━━━━\u001b[0m\u001b[37m\u001b[0m \u001b[1m2s\u001b[0m 5ms/step - accuracy: 0.9353 - loss: 0.2216 - val_accuracy: 0.9404 - val_loss: 0.2141\n",
            "Epoch 18/30\n",
            "\u001b[1m375/375\u001b[0m \u001b[32m━━━━━━━━━━━━━━━━━━━━\u001b[0m\u001b[37m\u001b[0m \u001b[1m2s\u001b[0m 5ms/step - accuracy: 0.9387 - loss: 0.2110 - val_accuracy: 0.9410 - val_loss: 0.2090\n",
            "Epoch 19/30\n",
            "\u001b[1m375/375\u001b[0m \u001b[32m━━━━━━━━━━━━━━━━━━━━\u001b[0m\u001b[37m\u001b[0m \u001b[1m3s\u001b[0m 8ms/step - accuracy: 0.9410 - loss: 0.2063 - val_accuracy: 0.9423 - val_loss: 0.2049\n",
            "Epoch 20/30\n",
            "\u001b[1m375/375\u001b[0m \u001b[32m━━━━━━━━━━━━━━━━━━━━\u001b[0m\u001b[37m\u001b[0m \u001b[1m4s\u001b[0m 6ms/step - accuracy: 0.9418 - loss: 0.2047 - val_accuracy: 0.9440 - val_loss: 0.2006\n",
            "Epoch 21/30\n",
            "\u001b[1m375/375\u001b[0m \u001b[32m━━━━━━━━━━━━━━━━━━━━\u001b[0m\u001b[37m\u001b[0m \u001b[1m2s\u001b[0m 5ms/step - accuracy: 0.9433 - loss: 0.1972 - val_accuracy: 0.9442 - val_loss: 0.1964\n",
            "Epoch 22/30\n",
            "\u001b[1m375/375\u001b[0m \u001b[32m━━━━━━━━━━━━━━━━━━━━\u001b[0m\u001b[37m\u001b[0m \u001b[1m2s\u001b[0m 5ms/step - accuracy: 0.9465 - loss: 0.1877 - val_accuracy: 0.9460 - val_loss: 0.1921\n",
            "Epoch 23/30\n",
            "\u001b[1m375/375\u001b[0m \u001b[32m━━━━━━━━━━━━━━━━━━━━\u001b[0m\u001b[37m\u001b[0m \u001b[1m2s\u001b[0m 6ms/step - accuracy: 0.9473 - loss: 0.1832 - val_accuracy: 0.9474 - val_loss: 0.1882\n",
            "Epoch 24/30\n",
            "\u001b[1m375/375\u001b[0m \u001b[32m━━━━━━━━━━━━━━━━━━━━\u001b[0m\u001b[37m\u001b[0m \u001b[1m3s\u001b[0m 8ms/step - accuracy: 0.9487 - loss: 0.1797 - val_accuracy: 0.9488 - val_loss: 0.1845\n",
            "Epoch 25/30\n",
            "\u001b[1m375/375\u001b[0m \u001b[32m━━━━━━━━━━━━━━━━━━━━\u001b[0m\u001b[37m\u001b[0m \u001b[1m2s\u001b[0m 5ms/step - accuracy: 0.9499 - loss: 0.1751 - val_accuracy: 0.9502 - val_loss: 0.1810\n",
            "Epoch 26/30\n",
            "\u001b[1m375/375\u001b[0m \u001b[32m━━━━━━━━━━━━━━━━━━━━\u001b[0m\u001b[37m\u001b[0m \u001b[1m2s\u001b[0m 6ms/step - accuracy: 0.9533 - loss: 0.1667 - val_accuracy: 0.9516 - val_loss: 0.1773\n",
            "Epoch 27/30\n",
            "\u001b[1m375/375\u001b[0m \u001b[32m━━━━━━━━━━━━━━━━━━━━\u001b[0m\u001b[37m\u001b[0m \u001b[1m3s\u001b[0m 7ms/step - accuracy: 0.9535 - loss: 0.1641 - val_accuracy: 0.9511 - val_loss: 0.1749\n",
            "Epoch 28/30\n",
            "\u001b[1m375/375\u001b[0m \u001b[32m━━━━━━━━━━━━━━━━━━━━\u001b[0m\u001b[37m\u001b[0m \u001b[1m2s\u001b[0m 5ms/step - accuracy: 0.9534 - loss: 0.1634 - val_accuracy: 0.9533 - val_loss: 0.1712\n",
            "Epoch 29/30\n",
            "\u001b[1m375/375\u001b[0m \u001b[32m━━━━━━━━━━━━━━━━━━━━\u001b[0m\u001b[37m\u001b[0m \u001b[1m3s\u001b[0m 8ms/step - accuracy: 0.9534 - loss: 0.1629 - val_accuracy: 0.9525 - val_loss: 0.1687\n",
            "Epoch 30/30\n",
            "\u001b[1m375/375\u001b[0m \u001b[32m━━━━━━━━━━━━━━━━━━━━\u001b[0m\u001b[37m\u001b[0m \u001b[1m4s\u001b[0m 5ms/step - accuracy: 0.9555 - loss: 0.1579 - val_accuracy: 0.9528 - val_loss: 0.1658\n"
          ]
        }
      ]
    },
    {
      "cell_type": "markdown",
      "source": [
        "## 📝 Observation: 7.3.a – Tanh + SGD (Baseline)\n",
        "✅ Performance Summary\n",
        "\n",
        "*   Final Training Accuracy: 95.55%\n",
        "*   Final Validation Accuracy: 95.28%\n",
        "*   Final Training Loss: 0.1579\n",
        "*   Final Validation Loss: 0.1658\n",
        "\n",
        "📈 Learning Trend\n",
        "\n",
        "\n",
        "*   Both accuracy curves increased steadily and remained close together throughout.\n",
        "*  No significant overfitting observed: validation accuracy tracks training accuracy closely.\n",
        "*   Loss curves decreased consistently. After around epoch 12, validation loss stayed slightly lower than training loss — suggesting good generalization and regularization from SGD’s inherent noise.\n",
        "*   List item\n",
        "\n",
        "\n",
        "🧠 Comparative Insight\n",
        "\n",
        "*   Compared to the ReLU + SGD baseline, this model showed more stable generalization.\n",
        "*   ReLU baseline showed mild overfitting by epoch 10. Tanh maintains validation loss improvement up to the final epoch.\n",
        "*   This implies Tanh activation might be slightly more resistant to overfitting in this context.\n"
      ],
      "metadata": {
        "id": "FiNxwZkfzf0E"
      },
      "id": "FiNxwZkfzf0E"
    },
    {
      "cell_type": "markdown",
      "source": [
        "## 🔁 7.3.b – Tanh + SGD + L2 Regularization\n",
        "In this step, we aim to evaluate how adding L2 regularization affects the performance of a Tanh-activated neural network optimized with SGD. L2 regularization adds a penalty term to the loss function to discourage complex models and reduce overfitting.\n",
        "\n",
        "✅ Configuration\n",
        "\n",
        "\n",
        "*   Activation Function: Tanh\n",
        "*   Optimizer: SGD\n",
        "*   Regularization: L2 (λ = 0.001)\n",
        "*   Epochs: 30\n",
        "*  Batch Size: 128\n",
        "*   Validation Split: 20%\n",
        "\n",
        "🎯 Objective\n",
        "\n",
        "We hypothesize that L2 regularization will help prevent overfitting and result in a smoother validation accuracy curve compared to the baseline Tanh + SGD model."
      ],
      "metadata": {
        "id": "ajCaNhW714O1"
      },
      "id": "ajCaNhW714O1"
    },
    {
      "cell_type": "code",
      "source": [
        "from tensorflow.keras.models import Sequential\n",
        "from tensorflow.keras.layers import Dense, Flatten\n",
        "from tensorflow.keras.regularizers import l2\n",
        "from tensorflow.keras.optimizers import SGD\n",
        "\n",
        "# Define model\n",
        "model_tanh_sgd_l2 = Sequential([\n",
        "    Dense(128, activation='tanh', kernel_regularizer=l2(0.001), input_shape=(784,)),\n",
        "    Dense(64, activation='tanh', kernel_regularizer=l2(0.001)),\n",
        "    Dense(10, activation='softmax')\n",
        "])\n",
        "\n",
        "# Compile\n",
        "model_tanh_sgd_l2.compile(\n",
        "    optimizer=SGD(learning_rate=0.01),\n",
        "    loss='categorical_crossentropy',\n",
        "    metrics=['accuracy']\n",
        ")\n",
        "\n",
        "# Train the model\n",
        "history_tanh_sgd_l2 = model_tanh_sgd_l2.fit(\n",
        "    X_train, y_train,\n",
        "    validation_split=0.2,\n",
        "    epochs=30,\n",
        "    batch_size=128,\n",
        "    verbose=1\n",
        ")"
      ],
      "metadata": {
        "id": "aen9naZF3BeJ",
        "outputId": "9e2a8558-d6f7-4b7a-bcec-de3f9c2dc267",
        "colab": {
          "base_uri": "https://localhost:8080/"
        }
      },
      "id": "aen9naZF3BeJ",
      "execution_count": 19,
      "outputs": [
        {
          "output_type": "stream",
          "name": "stdout",
          "text": [
            "Epoch 1/30\n",
            "\u001b[1m375/375\u001b[0m \u001b[32m━━━━━━━━━━━━━━━━━━━━\u001b[0m\u001b[37m\u001b[0m \u001b[1m3s\u001b[0m 7ms/step - accuracy: 0.5698 - loss: 1.8510 - val_accuracy: 0.8536 - val_loss: 0.9575\n",
            "Epoch 2/30\n",
            "\u001b[1m375/375\u001b[0m \u001b[32m━━━━━━━━━━━━━━━━━━━━\u001b[0m\u001b[37m\u001b[0m \u001b[1m3s\u001b[0m 7ms/step - accuracy: 0.8499 - loss: 0.9297 - val_accuracy: 0.8827 - val_loss: 0.7755\n",
            "Epoch 3/30\n",
            "\u001b[1m375/375\u001b[0m \u001b[32m━━━━━━━━━━━━━━━━━━━━\u001b[0m\u001b[37m\u001b[0m \u001b[1m3s\u001b[0m 7ms/step - accuracy: 0.8748 - loss: 0.7868 - val_accuracy: 0.8948 - val_loss: 0.7056\n",
            "Epoch 4/30\n",
            "\u001b[1m375/375\u001b[0m \u001b[32m━━━━━━━━━━━━━━━━━━━━\u001b[0m\u001b[37m\u001b[0m \u001b[1m2s\u001b[0m 6ms/step - accuracy: 0.8864 - loss: 0.7230 - val_accuracy: 0.9011 - val_loss: 0.6659\n",
            "Epoch 5/30\n",
            "\u001b[1m375/375\u001b[0m \u001b[32m━━━━━━━━━━━━━━━━━━━━\u001b[0m\u001b[37m\u001b[0m \u001b[1m2s\u001b[0m 5ms/step - accuracy: 0.8962 - loss: 0.6801 - val_accuracy: 0.9047 - val_loss: 0.6399\n",
            "Epoch 6/30\n",
            "\u001b[1m375/375\u001b[0m \u001b[32m━━━━━━━━━━━━━━━━━━━━\u001b[0m\u001b[37m\u001b[0m \u001b[1m2s\u001b[0m 5ms/step - accuracy: 0.9007 - loss: 0.6557 - val_accuracy: 0.9096 - val_loss: 0.6199\n",
            "Epoch 7/30\n",
            "\u001b[1m375/375\u001b[0m \u001b[32m━━━━━━━━━━━━━━━━━━━━\u001b[0m\u001b[37m\u001b[0m \u001b[1m2s\u001b[0m 6ms/step - accuracy: 0.9039 - loss: 0.6381 - val_accuracy: 0.9130 - val_loss: 0.6040\n",
            "Epoch 8/30\n",
            "\u001b[1m375/375\u001b[0m \u001b[32m━━━━━━━━━━━━━━━━━━━━\u001b[0m\u001b[37m\u001b[0m \u001b[1m4s\u001b[0m 9ms/step - accuracy: 0.9080 - loss: 0.6158 - val_accuracy: 0.9155 - val_loss: 0.5907\n",
            "Epoch 9/30\n",
            "\u001b[1m375/375\u001b[0m \u001b[32m━━━━━━━━━━━━━━━━━━━━\u001b[0m\u001b[37m\u001b[0m \u001b[1m4s\u001b[0m 6ms/step - accuracy: 0.9127 - loss: 0.5985 - val_accuracy: 0.9178 - val_loss: 0.5785\n",
            "Epoch 10/30\n",
            "\u001b[1m375/375\u001b[0m \u001b[32m━━━━━━━━━━━━━━━━━━━━\u001b[0m\u001b[37m\u001b[0m \u001b[1m2s\u001b[0m 6ms/step - accuracy: 0.9148 - loss: 0.5914 - val_accuracy: 0.9197 - val_loss: 0.5679\n",
            "Epoch 11/30\n",
            "\u001b[1m375/375\u001b[0m \u001b[32m━━━━━━━━━━━━━━━━━━━━\u001b[0m\u001b[37m\u001b[0m \u001b[1m2s\u001b[0m 6ms/step - accuracy: 0.9146 - loss: 0.5809 - val_accuracy: 0.9212 - val_loss: 0.5586\n",
            "Epoch 12/30\n",
            "\u001b[1m375/375\u001b[0m \u001b[32m━━━━━━━━━━━━━━━━━━━━\u001b[0m\u001b[37m\u001b[0m \u001b[1m3s\u001b[0m 8ms/step - accuracy: 0.9178 - loss: 0.5699 - val_accuracy: 0.9239 - val_loss: 0.5492\n",
            "Epoch 13/30\n",
            "\u001b[1m375/375\u001b[0m \u001b[32m━━━━━━━━━━━━━━━━━━━━\u001b[0m\u001b[37m\u001b[0m \u001b[1m3s\u001b[0m 7ms/step - accuracy: 0.9190 - loss: 0.5614 - val_accuracy: 0.9252 - val_loss: 0.5416\n",
            "Epoch 14/30\n",
            "\u001b[1m375/375\u001b[0m \u001b[32m━━━━━━━━━━━━━━━━━━━━\u001b[0m\u001b[37m\u001b[0m \u001b[1m2s\u001b[0m 6ms/step - accuracy: 0.9232 - loss: 0.5449 - val_accuracy: 0.9265 - val_loss: 0.5340\n",
            "Epoch 15/30\n",
            "\u001b[1m375/375\u001b[0m \u001b[32m━━━━━━━━━━━━━━━━━━━━\u001b[0m\u001b[37m\u001b[0m \u001b[1m2s\u001b[0m 6ms/step - accuracy: 0.9241 - loss: 0.5424 - val_accuracy: 0.9277 - val_loss: 0.5263\n",
            "Epoch 16/30\n",
            "\u001b[1m375/375\u001b[0m \u001b[32m━━━━━━━━━━━━━━━━━━━━\u001b[0m\u001b[37m\u001b[0m \u001b[1m2s\u001b[0m 6ms/step - accuracy: 0.9256 - loss: 0.5333 - val_accuracy: 0.9285 - val_loss: 0.5191\n",
            "Epoch 17/30\n",
            "\u001b[1m375/375\u001b[0m \u001b[32m━━━━━━━━━━━━━━━━━━━━\u001b[0m\u001b[37m\u001b[0m \u001b[1m2s\u001b[0m 6ms/step - accuracy: 0.9280 - loss: 0.5205 - val_accuracy: 0.9294 - val_loss: 0.5121\n",
            "Epoch 18/30\n",
            "\u001b[1m375/375\u001b[0m \u001b[32m━━━━━━━━━━━━━━━━━━━━\u001b[0m\u001b[37m\u001b[0m \u001b[1m3s\u001b[0m 8ms/step - accuracy: 0.9271 - loss: 0.5178 - val_accuracy: 0.9303 - val_loss: 0.5053\n",
            "Epoch 19/30\n",
            "\u001b[1m375/375\u001b[0m \u001b[32m━━━━━━━━━━━━━━━━━━━━\u001b[0m\u001b[37m\u001b[0m \u001b[1m2s\u001b[0m 6ms/step - accuracy: 0.9293 - loss: 0.5051 - val_accuracy: 0.9314 - val_loss: 0.4989\n",
            "Epoch 20/30\n",
            "\u001b[1m375/375\u001b[0m \u001b[32m━━━━━━━━━━━━━━━━━━━━\u001b[0m\u001b[37m\u001b[0m \u001b[1m3s\u001b[0m 9ms/step - accuracy: 0.9328 - loss: 0.4967 - val_accuracy: 0.9323 - val_loss: 0.4929\n",
            "Epoch 21/30\n",
            "\u001b[1m375/375\u001b[0m \u001b[32m━━━━━━━━━━━━━━━━━━━━\u001b[0m\u001b[37m\u001b[0m \u001b[1m5s\u001b[0m 7ms/step - accuracy: 0.9308 - loss: 0.4972 - val_accuracy: 0.9338 - val_loss: 0.4872\n",
            "Epoch 22/30\n",
            "\u001b[1m375/375\u001b[0m \u001b[32m━━━━━━━━━━━━━━━━━━━━\u001b[0m\u001b[37m\u001b[0m \u001b[1m3s\u001b[0m 8ms/step - accuracy: 0.9333 - loss: 0.4848 - val_accuracy: 0.9347 - val_loss: 0.4814\n",
            "Epoch 23/30\n",
            "\u001b[1m375/375\u001b[0m \u001b[32m━━━━━━━━━━━━━━━━━━━━\u001b[0m\u001b[37m\u001b[0m \u001b[1m2s\u001b[0m 6ms/step - accuracy: 0.9346 - loss: 0.4797 - val_accuracy: 0.9354 - val_loss: 0.4754\n",
            "Epoch 24/30\n",
            "\u001b[1m375/375\u001b[0m \u001b[32m━━━━━━━━━━━━━━━━━━━━\u001b[0m\u001b[37m\u001b[0m \u001b[1m2s\u001b[0m 6ms/step - accuracy: 0.9345 - loss: 0.4769 - val_accuracy: 0.9363 - val_loss: 0.4695\n",
            "Epoch 25/30\n",
            "\u001b[1m375/375\u001b[0m \u001b[32m━━━━━━━━━━━━━━━━━━━━\u001b[0m\u001b[37m\u001b[0m \u001b[1m2s\u001b[0m 6ms/step - accuracy: 0.9378 - loss: 0.4683 - val_accuracy: 0.9377 - val_loss: 0.4647\n",
            "Epoch 26/30\n",
            "\u001b[1m375/375\u001b[0m \u001b[32m━━━━━━━━━━━━━━━━━━━━\u001b[0m\u001b[37m\u001b[0m \u001b[1m4s\u001b[0m 10ms/step - accuracy: 0.9388 - loss: 0.4576 - val_accuracy: 0.9391 - val_loss: 0.4591\n",
            "Epoch 27/30\n",
            "\u001b[1m375/375\u001b[0m \u001b[32m━━━━━━━━━━━━━━━━━━━━\u001b[0m\u001b[37m\u001b[0m \u001b[1m3s\u001b[0m 6ms/step - accuracy: 0.9379 - loss: 0.4575 - val_accuracy: 0.9398 - val_loss: 0.4541\n",
            "Epoch 28/30\n",
            "\u001b[1m375/375\u001b[0m \u001b[32m━━━━━━━━━━━━━━━━━━━━\u001b[0m\u001b[37m\u001b[0m \u001b[1m2s\u001b[0m 6ms/step - accuracy: 0.9387 - loss: 0.4570 - val_accuracy: 0.9413 - val_loss: 0.4489\n",
            "Epoch 29/30\n",
            "\u001b[1m375/375\u001b[0m \u001b[32m━━━━━━━━━━━━━━━━━━━━\u001b[0m\u001b[37m\u001b[0m \u001b[1m2s\u001b[0m 6ms/step - accuracy: 0.9399 - loss: 0.4440 - val_accuracy: 0.9417 - val_loss: 0.4442\n",
            "Epoch 30/30\n",
            "\u001b[1m375/375\u001b[0m \u001b[32m━━━━━━━━━━━━━━━━━━━━\u001b[0m\u001b[37m\u001b[0m \u001b[1m3s\u001b[0m 6ms/step - accuracy: 0.9389 - loss: 0.4475 - val_accuracy: 0.9426 - val_loss: 0.4393\n"
          ]
        }
      ]
    },
    {
      "cell_type": "code",
      "source": [],
      "metadata": {
        "id": "WbKkzKGL3J85"
      },
      "id": "WbKkzKGL3J85",
      "execution_count": null,
      "outputs": []
    }
  ],
  "metadata": {
    "kernelspec": {
      "display_name": "Python [conda env:base] *",
      "language": "python",
      "name": "conda-base-py"
    },
    "language_info": {
      "codemirror_mode": {
        "name": "ipython",
        "version": 3
      },
      "file_extension": ".py",
      "mimetype": "text/x-python",
      "name": "python",
      "nbconvert_exporter": "python",
      "pygments_lexer": "ipython3",
      "version": "3.12.7"
    },
    "colab": {
      "provenance": [],
      "include_colab_link": true
    }
  },
  "nbformat": 4,
  "nbformat_minor": 5
}