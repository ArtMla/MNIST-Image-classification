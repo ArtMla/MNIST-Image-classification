{
  "cells": [
    {
      "cell_type": "markdown",
      "metadata": {
        "id": "view-in-github",
        "colab_type": "text"
      },
      "source": [
        "<a href=\"https://colab.research.google.com/github/ArtMla/MNIST-Image-classification/blob/main/MNIST_Analysis.ipynb\" target=\"_parent\"><img src=\"https://colab.research.google.com/assets/colab-badge.svg\" alt=\"Open In Colab\"/></a>"
      ]
    },
    {
      "cell_type": "markdown",
      "source": [
        "# Step 1: Data Loading and Exploration\n",
        "In this phase, we load the MNIST dataset and visualize sample images to understand the structure and shape of the data. MNIST consists of 28x28 grayscale images of handwritten digits ranging from 0 to 9.\n",
        "\n"
      ],
      "metadata": {
        "id": "RKaFUM3NhmxA"
      },
      "id": "RKaFUM3NhmxA"
    },
    {
      "cell_type": "code",
      "source": [
        "import numpy as np\n",
        "import matplotlib.pyplot as plt\n",
        "import tensorflow as tf\n",
        "from tensorflow.keras.datasets import mnist\n",
        "from tensorflow.keras.utils import to_categorical\n",
        "from tensorflow.keras.models import Sequential\n",
        "from tensorflow.keras.layers import Dense\n",
        "from tensorflow.keras.optimizers import Adam"
      ],
      "metadata": {
        "id": "7KKLiEhckp62"
      },
      "id": "7KKLiEhckp62",
      "execution_count": 1,
      "outputs": []
    },
    {
      "cell_type": "code",
      "execution_count": 2,
      "id": "634cd61e-27f1-47f1-8a1f-9516b1efb3b3",
      "metadata": {
        "colab": {
          "base_uri": "https://localhost:8080/"
        },
        "id": "634cd61e-27f1-47f1-8a1f-9516b1efb3b3",
        "outputId": "77301918-5911-449b-8e83-4493f10fcd5e"
      },
      "outputs": [
        {
          "output_type": "stream",
          "name": "stdout",
          "text": [
            "Downloading data from https://storage.googleapis.com/tensorflow/tf-keras-datasets/mnist.npz\n",
            "\u001b[1m11490434/11490434\u001b[0m \u001b[32m━━━━━━━━━━━━━━━━━━━━\u001b[0m\u001b[37m\u001b[0m \u001b[1m0s\u001b[0m 0us/step\n",
            "Training data shape: (60000, 28, 28)\n",
            "Training labels shape: (60000,)\n",
            "Test data shape: (10000, 28, 28)\n",
            "Test labels shape: (10000,)\n"
          ]
        }
      ],
      "source": [
        "# Load the dataset\n",
        "(x_train, y_train), (x_test, y_test) = mnist.load_data()\n",
        "\n",
        "# Print the shapes\n",
        "print(\"Training data shape:\", x_train.shape)\n",
        "print(\"Training labels shape:\", y_train.shape)\n",
        "print(\"Test data shape:\", x_test.shape)\n",
        "print(\"Test labels shape:\", y_test.shape)"
      ]
    },
    {
      "cell_type": "markdown",
      "source": [
        "## 1.1 Visualizing Sample Digits\n",
        "Below are the first 9 samples from the training dataset, showing the handwritten digits and their corresponding labels."
      ],
      "metadata": {
        "id": "h0YFBWC3h-Ir"
      },
      "id": "h0YFBWC3h-Ir"
    },
    {
      "cell_type": "code",
      "execution_count": 3,
      "id": "f6976e9c-a0a6-4762-97e7-985577bbcaf7",
      "metadata": {
        "colab": {
          "base_uri": "https://localhost:8080/",
          "height": 1000
        },
        "id": "f6976e9c-a0a6-4762-97e7-985577bbcaf7",
        "outputId": "6737418c-0f2a-4145-e579-f6927ebd8514"
      },
      "outputs": [
        {
          "output_type": "display_data",
          "data": {
            "text/plain": [
              "<Figure size 1000x1000 with 9 Axes>"
            ],
            "image/png": "[encoded data removed]"
          },
          "metadata": {}
        }
      ],
      "source": [
        "# Show the first 9 digits\n",
        "plt.figure(figsize=(10, 10))\n",
        "for i in range(9):\n",
        "    plt.subplot(3, 3, i+1)\n",
        "    plt.imshow(x_train[i], cmap='gray')\n",
        "    plt.title(f\"Label: {y_train[i]}\")\n",
        "    plt.axis('off')\n",
        "\n",
        "plt.tight_layout()\n",
        "plt.show()"
      ]
    },
    {
      "cell_type": "markdown",
      "source": [
        "# Step 2: Pre-processing\n",
        "\n",
        "To prepare the MNIST data for training, we perform the following preprocessing steps:\n",
        "\n",
        "\n",
        "\n",
        "*   Normalization: Scales pixel values from [0, 255] to [0, 1] for faster\n",
        "convergence.\n",
        "*   Flattening: Converts each 28x28 image into a 784-dimensional vector for input into dense layers.\n",
        "*   One-hot Encoding: Transforms digit labels (0–9) into binary vectors suitable for multi-class classification.\n"
      ],
      "metadata": {
        "id": "P9-bD88WjFK1"
      },
      "id": "P9-bD88WjFK1"
    },
    {
      "cell_type": "code",
      "execution_count": 4,
      "id": "9a55d74f-f44b-41dd-9f4c-4947e34f3975",
      "metadata": {
        "id": "9a55d74f-f44b-41dd-9f4c-4947e34f3975",
        "colab": {
          "base_uri": "https://localhost:8080/"
        },
        "outputId": "5638b98f-c83f-43bb-8bd8-d8e002fabb1d"
      },
      "outputs": [
        {
          "output_type": "stream",
          "name": "stdout",
          "text": [
            "Flattened training data shape: (60000, 784)\n",
            "Flattened test data shape: (10000, 784)\n"
          ]
        }
      ],
      "source": [
        "# Normalise the pixels to range [0, 1]\n",
        "x_train = x_train / 255.0\n",
        "x_test = x_test / 255.0\n",
        "\n",
        "# Flatten the 28x28 images into 784-dimension vectors\n",
        "x_train_flat = x_train.reshape(-1, 784)\n",
        "x_test_flat = x_test.reshape(-1, 784)\n",
        "\n",
        "# One-hot encode labels\n",
        "y_train_cat = to_categorical(y_train, 10)\n",
        "y_test_cat = to_categorical(y_test, 10)\n",
        "\n",
        "# Confirm the shape\n",
        "print(\"Flattened training data shape:\", x_train_flat.shape)\n",
        "print(\"Flattened test data shape:\", x_test_flat.shape)\n",
        "\n"
      ]
    },
    {
      "cell_type": "raw",
      "id": "5c80cd16-8209-4718-9071-38ace2a8829a",
      "metadata": {
        "id": "5c80cd16-8209-4718-9071-38ace2a8829a"
      },
      "source": [
        "# Step 3: Model Building\n",
        "In this phase, we define two neural network architectures using the same structure but different activation functions (ReLU and Tanh) in the hidden layers. The goal is to compare their performance in terms of accuracy, convergence, and generalization.\n",
        "\n",
        "## 3.1 Model A – Neural Network with ReLU Activation\n",
        "This model uses the ReLU (Rectified Linear Unit) activation function in all hidden layers. ReLU helps in faster convergence and avoids the vanishing gradient problem by allowing only positive values to pass through.\n",
        "\n",
        "Architecture:\n",
        "\n",
        "\n",
        "*   Input layer: 784 units (flattened image)\n",
        "*   Hidden Layer 1: 128 neurons, ReLU\n",
        "*   Hidden Layer 2: 64 neurons, ReLU\n",
        "*   Hidden Layer 3: 32 neurons, ReLU\n",
        "*   Output Layer: 10 neurons, Softmax"
      ]
    },
    {
      "cell_type": "code",
      "execution_count": 5,
      "id": "e7178e56-f52f-4189-bcba-9d4c1b8273da",
      "metadata": {
        "id": "e7178e56-f52f-4189-bcba-9d4c1b8273da",
        "colab": {
          "base_uri": "https://localhost:8080/",
          "height": 320
        },
        "outputId": "9a6fa259-4b08-47d7-da18-4bef3c7cd49f"
      },
      "outputs": [
        {
          "output_type": "stream",
          "name": "stderr",
          "text": [
            "/usr/local/lib/python3.12/dist-packages/keras/src/layers/core/dense.py:93: UserWarning: Do not pass an `input_shape`/`input_dim` argument to a layer. When using Sequential models, prefer using an `Input(shape)` object as the first layer in the model instead.\n",
            "  super().__init__(activity_regularizer=activity_regularizer, **kwargs)\n"
          ]
        },
        {
          "output_type": "display_data",
          "data": {
            "text/plain": [
              "\u001b[1mModel: \"sequential\"\u001b[0m\n"
            ],
            "text/html": [
              "<pre style=\"white-space:pre;overflow-x:auto;line-height:normal;font-family:Menlo,'DejaVu Sans Mono',consolas,'Courier New',monospace\"><span style=\"font-weight: bold\">Model: \"sequential\"</span>\n",
              "</pre>\n"
            ]
          },
          "metadata": {}
        },
        {
          "output_type": "display_data",
          "data": {
            "text/plain": [
              "┏━━━━━━━━━━━━━━━━━━━━━━━━━━━━━━━━━┳━━━━━━━━━━━━━━━━━━━━━━━━┳━━━━━━━━━━━━━━━┓\n",
              "┃\u001b[1m \u001b[0m\u001b[1mLayer (type)                   \u001b[0m\u001b[1m \u001b[0m┃\u001b[1m \u001b[0m\u001b[1mOutput Shape          \u001b[0m\u001b[1m \u001b[0m┃\u001b[1m \u001b[0m\u001b[1m      Param #\u001b[0m\u001b[1m \u001b[0m┃\n",
              "┡━━━━━━━━━━━━━━━━━━━━━━━━━━━━━━━━━╇━━━━━━━━━━━━━━━━━━━━━━━━╇━━━━━━━━━━━━━━━┩\n",
              "│ dense (\u001b[38;5;33mDense\u001b[0m)                   │ (\u001b[38;5;45mNone\u001b[0m, \u001b[38;5;34m128\u001b[0m)            │       \u001b[38;5;34m100,480\u001b[0m │\n",
              "├─────────────────────────────────┼────────────────────────┼───────────────┤\n",
              "│ dense_1 (\u001b[38;5;33mDense\u001b[0m)                 │ (\u001b[38;5;45mNone\u001b[0m, \u001b[38;5;34m64\u001b[0m)             │         \u001b[38;5;34m8,256\u001b[0m │\n",
              "├─────────────────────────────────┼────────────────────────┼───────────────┤\n",
              "│ dense_2 (\u001b[38;5;33mDense\u001b[0m)                 │ (\u001b[38;5;45mNone\u001b[0m, \u001b[38;5;34m32\u001b[0m)             │         \u001b[38;5;34m2,080\u001b[0m │\n",
              "├─────────────────────────────────┼────────────────────────┼───────────────┤\n",
              "│ dense_3 (\u001b[38;5;33mDense\u001b[0m)                 │ (\u001b[38;5;45mNone\u001b[0m, \u001b[38;5;34m10\u001b[0m)             │           \u001b[38;5;34m330\u001b[0m │\n",
              "└─────────────────────────────────┴────────────────────────┴───────────────┘\n"
            ],
            "text/html": [
              "<pre style=\"white-space:pre;overflow-x:auto;line-height:normal;font-family:Menlo,'DejaVu Sans Mono',consolas,'Courier New',monospace\">┏━━━━━━━━━━━━━━━━━━━━━━━━━━━━━━━━━┳━━━━━━━━━━━━━━━━━━━━━━━━┳━━━━━━━━━━━━━━━┓\n",
              "┃<span style=\"font-weight: bold\"> Layer (type)                    </span>┃<span style=\"font-weight: bold\"> Output Shape           </span>┃<span style=\"font-weight: bold\">       Param # </span>┃\n",
              "┡━━━━━━━━━━━━━━━━━━━━━━━━━━━━━━━━━╇━━━━━━━━━━━━━━━━━━━━━━━━╇━━━━━━━━━━━━━━━┩\n",
              "│ dense (<span style=\"color: #0087ff; text-decoration-color: #0087ff\">Dense</span>)                   │ (<span style=\"color: #00d7ff; text-decoration-color: #00d7ff\">None</span>, <span style=\"color: #00af00; text-decoration-color: #00af00\">128</span>)            │       <span style=\"color: #00af00; text-decoration-color: #00af00\">100,480</span> │\n",
              "├─────────────────────────────────┼────────────────────────┼───────────────┤\n",
              "│ dense_1 (<span style=\"color: #0087ff; text-decoration-color: #0087ff\">Dense</span>)                 │ (<span style=\"color: #00d7ff; text-decoration-color: #00d7ff\">None</span>, <span style=\"color: #00af00; text-decoration-color: #00af00\">64</span>)             │         <span style=\"color: #00af00; text-decoration-color: #00af00\">8,256</span> │\n",
              "├─────────────────────────────────┼────────────────────────┼───────────────┤\n",
              "│ dense_2 (<span style=\"color: #0087ff; text-decoration-color: #0087ff\">Dense</span>)                 │ (<span style=\"color: #00d7ff; text-decoration-color: #00d7ff\">None</span>, <span style=\"color: #00af00; text-decoration-color: #00af00\">32</span>)             │         <span style=\"color: #00af00; text-decoration-color: #00af00\">2,080</span> │\n",
              "├─────────────────────────────────┼────────────────────────┼───────────────┤\n",
              "│ dense_3 (<span style=\"color: #0087ff; text-decoration-color: #0087ff\">Dense</span>)                 │ (<span style=\"color: #00d7ff; text-decoration-color: #00d7ff\">None</span>, <span style=\"color: #00af00; text-decoration-color: #00af00\">10</span>)             │           <span style=\"color: #00af00; text-decoration-color: #00af00\">330</span> │\n",
              "└─────────────────────────────────┴────────────────────────┴───────────────┘\n",
              "</pre>\n"
            ]
          },
          "metadata": {}
        },
        {
          "output_type": "display_data",
          "data": {
            "text/plain": [
              "\u001b[1m Total params: \u001b[0m\u001b[38;5;34m111,146\u001b[0m (434.16 KB)\n"
            ],
            "text/html": [
              "<pre style=\"white-space:pre;overflow-x:auto;line-height:normal;font-family:Menlo,'DejaVu Sans Mono',consolas,'Courier New',monospace\"><span style=\"font-weight: bold\"> Total params: </span><span style=\"color: #00af00; text-decoration-color: #00af00\">111,146</span> (434.16 KB)\n",
              "</pre>\n"
            ]
          },
          "metadata": {}
        },
        {
          "output_type": "display_data",
          "data": {
            "text/plain": [
              "\u001b[1m Trainable params: \u001b[0m\u001b[38;5;34m111,146\u001b[0m (434.16 KB)\n"
            ],
            "text/html": [
              "<pre style=\"white-space:pre;overflow-x:auto;line-height:normal;font-family:Menlo,'DejaVu Sans Mono',consolas,'Courier New',monospace\"><span style=\"font-weight: bold\"> Trainable params: </span><span style=\"color: #00af00; text-decoration-color: #00af00\">111,146</span> (434.16 KB)\n",
              "</pre>\n"
            ]
          },
          "metadata": {}
        },
        {
          "output_type": "display_data",
          "data": {
            "text/plain": [
              "\u001b[1m Non-trainable params: \u001b[0m\u001b[38;5;34m0\u001b[0m (0.00 B)\n"
            ],
            "text/html": [
              "<pre style=\"white-space:pre;overflow-x:auto;line-height:normal;font-family:Menlo,'DejaVu Sans Mono',consolas,'Courier New',monospace\"><span style=\"font-weight: bold\"> Non-trainable params: </span><span style=\"color: #00af00; text-decoration-color: #00af00\">0</span> (0.00 B)\n",
              "</pre>\n"
            ]
          },
          "metadata": {}
        }
      ],
      "source": [
        "# Build Model A with ReLU activation\n",
        "model_relu = Sequential([\n",
        "    Dense(128, activation='relu', input_shape=(784,)),\n",
        "    Dense(64, activation='relu'),\n",
        "    Dense(32, activation='relu'),\n",
        "    Dense(10, activation='softmax')  # Softmax for multi-class classification\n",
        "])\n",
        "\n",
        "# Compile the model\n",
        "model_relu.compile(optimizer=Adam(), loss='categorical_crossentropy', metrics=['accuracy'])\n",
        "\n",
        "# Print model summary\n",
        "model_relu.summary()"
      ]
    },
    {
      "cell_type": "markdown",
      "source": [
        "## 3.2 Model B – Neural Network with Tanh Activation\n",
        "This model uses the Tanh activation function in all hidden layers. Tanh outputs values between -1 and 1 and is zero-centered, which can sometimes result in better weight updates than ReLU for certain datasets. However, it is prone to vanishing gradients in deep networks.\n",
        "\n",
        "Architecture:\n",
        "\n",
        "\n",
        "\n",
        "* Input layer: 784 units (flattened image)\n",
        "*  Hidden Layer 1: 128 neurons, Tanh\n",
        "*  Hidden Layer 2: 64 neurons, Tanh\n",
        "\n",
        "\n",
        "\n",
        "\n"
      ],
      "metadata": {
        "id": "vJL-ttQD7Fpq"
      },
      "id": "vJL-ttQD7Fpq"
    },
    {
      "cell_type": "code",
      "source": [
        "# Build Model B with Tanh activation\n",
        "model_tanh = Sequential([\n",
        "    Dense(128, activation='tanh', input_shape=(784,)),\n",
        "    Dense(64, activation='tanh'),\n",
        "    Dense(32, activation='tanh'),\n",
        "    Dense(10, activation='softmax')\n",
        "])\n",
        "\n",
        "# Compile the model\n",
        "model_tanh.compile(optimizer=Adam(), loss='categorical_crossentropy', metrics=['accuracy'])\n",
        "\n",
        "# Print model summary\n",
        "model_tanh.summary()"
      ],
      "metadata": {
        "id": "gVmibBO17qgr",
        "outputId": "13785561-a7e8-42b9-bf92-784b8df58e04",
        "colab": {
          "base_uri": "https://localhost:8080/",
          "height": 265
        }
      },
      "id": "gVmibBO17qgr",
      "execution_count": 6,
      "outputs": [
        {
          "output_type": "display_data",
          "data": {
            "text/plain": [
              "\u001b[1mModel: \"sequential_1\"\u001b[0m\n"
            ],
            "text/html": [
              "<pre style=\"white-space:pre;overflow-x:auto;line-height:normal;font-family:Menlo,'DejaVu Sans Mono',consolas,'Courier New',monospace\"><span style=\"font-weight: bold\">Model: \"sequential_1\"</span>\n",
              "</pre>\n"
            ]
          },
          "metadata": {}
        },
        {
          "output_type": "display_data",
          "data": {
            "text/plain": [
              "┏━━━━━━━━━━━━━━━━━━━━━━━━━━━━━━━━━┳━━━━━━━━━━━━━━━━━━━━━━━━┳━━━━━━━━━━━━━━━┓\n",
              "┃\u001b[1m \u001b[0m\u001b[1mLayer (type)                   \u001b[0m\u001b[1m \u001b[0m┃\u001b[1m \u001b[0m\u001b[1mOutput Shape          \u001b[0m\u001b[1m \u001b[0m┃\u001b[1m \u001b[0m\u001b[1m      Param #\u001b[0m\u001b[1m \u001b[0m┃\n",
              "┡━━━━━━━━━━━━━━━━━━━━━━━━━━━━━━━━━╇━━━━━━━━━━━━━━━━━━━━━━━━╇━━━━━━━━━━━━━━━┩\n",
              "│ dense_4 (\u001b[38;5;33mDense\u001b[0m)                 │ (\u001b[38;5;45mNone\u001b[0m, \u001b[38;5;34m128\u001b[0m)            │       \u001b[38;5;34m100,480\u001b[0m │\n",
              "├─────────────────────────────────┼────────────────────────┼───────────────┤\n",
              "│ dense_5 (\u001b[38;5;33mDense\u001b[0m)                 │ (\u001b[38;5;45mNone\u001b[0m, \u001b[38;5;34m64\u001b[0m)             │         \u001b[38;5;34m8,256\u001b[0m │\n",
              "├─────────────────────────────────┼────────────────────────┼───────────────┤\n",
              "│ dense_6 (\u001b[38;5;33mDense\u001b[0m)                 │ (\u001b[38;5;45mNone\u001b[0m, \u001b[38;5;34m32\u001b[0m)             │         \u001b[38;5;34m2,080\u001b[0m │\n",
              "├─────────────────────────────────┼────────────────────────┼───────────────┤\n",
              "│ dense_7 (\u001b[38;5;33mDense\u001b[0m)                 │ (\u001b[38;5;45mNone\u001b[0m, \u001b[38;5;34m10\u001b[0m)             │           \u001b[38;5;34m330\u001b[0m │\n",
              "└─────────────────────────────────┴────────────────────────┴───────────────┘\n"
            ],
            "text/html": [
              "<pre style=\"white-space:pre;overflow-x:auto;line-height:normal;font-family:Menlo,'DejaVu Sans Mono',consolas,'Courier New',monospace\">┏━━━━━━━━━━━━━━━━━━━━━━━━━━━━━━━━━┳━━━━━━━━━━━━━━━━━━━━━━━━┳━━━━━━━━━━━━━━━┓\n",
              "┃<span style=\"font-weight: bold\"> Layer (type)                    </span>┃<span style=\"font-weight: bold\"> Output Shape           </span>┃<span style=\"font-weight: bold\">       Param # </span>┃\n",
              "┡━━━━━━━━━━━━━━━━━━━━━━━━━━━━━━━━━╇━━━━━━━━━━━━━━━━━━━━━━━━╇━━━━━━━━━━━━━━━┩\n",
              "│ dense_4 (<span style=\"color: #0087ff; text-decoration-color: #0087ff\">Dense</span>)                 │ (<span style=\"color: #00d7ff; text-decoration-color: #00d7ff\">None</span>, <span style=\"color: #00af00; text-decoration-color: #00af00\">128</span>)            │       <span style=\"color: #00af00; text-decoration-color: #00af00\">100,480</span> │\n",
              "├─────────────────────────────────┼────────────────────────┼───────────────┤\n",
              "│ dense_5 (<span style=\"color: #0087ff; text-decoration-color: #0087ff\">Dense</span>)                 │ (<span style=\"color: #00d7ff; text-decoration-color: #00d7ff\">None</span>, <span style=\"color: #00af00; text-decoration-color: #00af00\">64</span>)             │         <span style=\"color: #00af00; text-decoration-color: #00af00\">8,256</span> │\n",
              "├─────────────────────────────────┼────────────────────────┼───────────────┤\n",
              "│ dense_6 (<span style=\"color: #0087ff; text-decoration-color: #0087ff\">Dense</span>)                 │ (<span style=\"color: #00d7ff; text-decoration-color: #00d7ff\">None</span>, <span style=\"color: #00af00; text-decoration-color: #00af00\">32</span>)             │         <span style=\"color: #00af00; text-decoration-color: #00af00\">2,080</span> │\n",
              "├─────────────────────────────────┼────────────────────────┼───────────────┤\n",
              "│ dense_7 (<span style=\"color: #0087ff; text-decoration-color: #0087ff\">Dense</span>)                 │ (<span style=\"color: #00d7ff; text-decoration-color: #00d7ff\">None</span>, <span style=\"color: #00af00; text-decoration-color: #00af00\">10</span>)             │           <span style=\"color: #00af00; text-decoration-color: #00af00\">330</span> │\n",
              "└─────────────────────────────────┴────────────────────────┴───────────────┘\n",
              "</pre>\n"
            ]
          },
          "metadata": {}
        },
        {
          "output_type": "display_data",
          "data": {
            "text/plain": [
              "\u001b[1m Total params: \u001b[0m\u001b[38;5;34m111,146\u001b[0m (434.16 KB)\n"
            ],
            "text/html": [
              "<pre style=\"white-space:pre;overflow-x:auto;line-height:normal;font-family:Menlo,'DejaVu Sans Mono',consolas,'Courier New',monospace\"><span style=\"font-weight: bold\"> Total params: </span><span style=\"color: #00af00; text-decoration-color: #00af00\">111,146</span> (434.16 KB)\n",
              "</pre>\n"
            ]
          },
          "metadata": {}
        },
        {
          "output_type": "display_data",
          "data": {
            "text/plain": [
              "\u001b[1m Trainable params: \u001b[0m\u001b[38;5;34m111,146\u001b[0m (434.16 KB)\n"
            ],
            "text/html": [
              "<pre style=\"white-space:pre;overflow-x:auto;line-height:normal;font-family:Menlo,'DejaVu Sans Mono',consolas,'Courier New',monospace\"><span style=\"font-weight: bold\"> Trainable params: </span><span style=\"color: #00af00; text-decoration-color: #00af00\">111,146</span> (434.16 KB)\n",
              "</pre>\n"
            ]
          },
          "metadata": {}
        },
        {
          "output_type": "display_data",
          "data": {
            "text/plain": [
              "\u001b[1m Non-trainable params: \u001b[0m\u001b[38;5;34m0\u001b[0m (0.00 B)\n"
            ],
            "text/html": [
              "<pre style=\"white-space:pre;overflow-x:auto;line-height:normal;font-family:Menlo,'DejaVu Sans Mono',consolas,'Courier New',monospace\"><span style=\"font-weight: bold\"> Non-trainable params: </span><span style=\"color: #00af00; text-decoration-color: #00af00\">0</span> (0.00 B)\n",
              "</pre>\n"
            ]
          },
          "metadata": {}
        }
      ]
    },
    {
      "cell_type": "markdown",
      "source": [
        "# Step 4: Model Training\n",
        "In this phase, we train both models using the same training configuration to ensure a fair comparison. We use 20% of the training data as a validation set to monitor model performance during training.\n",
        "\n",
        "## 4.1 Training Model A – ReLU\n",
        "Model A is trained for 20 epochs with a batch size of 128 using the Adam optimizer. We track training and validation accuracy and loss to identify signs of overfitting or underfitting."
      ],
      "metadata": {
        "id": "c4uyxZLy8Ewf"
      },
      "id": "c4uyxZLy8Ewf"
    },
    {
      "cell_type": "code",
      "source": [
        "# Train Model A (ReLU)\n",
        "history_relu = model_relu.fit(\n",
        "    x_train_flat, y_train_cat,\n",
        "    validation_split=0.2,\n",
        "    epochs=20,\n",
        "    batch_size=128,\n",
        "    verbose=1\n",
        ")"
      ],
      "metadata": {
        "id": "ubAlNxI98Q0F",
        "outputId": "502be646-c418-4b57-f3bd-527a2eb907d3",
        "colab": {
          "base_uri": "https://localhost:8080/"
        }
      },
      "id": "ubAlNxI98Q0F",
      "execution_count": 7,
      "outputs": [
        {
          "output_type": "stream",
          "name": "stdout",
          "text": [
            "Epoch 1/20\n",
            "\u001b[1m375/375\u001b[0m \u001b[32m━━━━━━━━━━━━━━━━━━━━\u001b[0m\u001b[37m\u001b[0m \u001b[1m4s\u001b[0m 7ms/step - accuracy: 0.7811 - loss: 0.7387 - val_accuracy: 0.9473 - val_loss: 0.1879\n",
            "Epoch 2/20\n",
            "\u001b[1m375/375\u001b[0m \u001b[32m━━━━━━━━━━━━━━━━━━━━\u001b[0m\u001b[37m\u001b[0m \u001b[1m2s\u001b[0m 6ms/step - accuracy: 0.9501 - loss: 0.1737 - val_accuracy: 0.9608 - val_loss: 0.1373\n",
            "Epoch 3/20\n",
            "\u001b[1m375/375\u001b[0m \u001b[32m━━━━━━━━━━━━━━━━━━━━\u001b[0m\u001b[37m\u001b[0m \u001b[1m2s\u001b[0m 6ms/step - accuracy: 0.9673 - loss: 0.1132 - val_accuracy: 0.9645 - val_loss: 0.1212\n",
            "Epoch 4/20\n",
            "\u001b[1m375/375\u001b[0m \u001b[32m━━━━━━━━━━━━━━━━━━━━\u001b[0m\u001b[37m\u001b[0m \u001b[1m3s\u001b[0m 8ms/step - accuracy: 0.9729 - loss: 0.0903 - val_accuracy: 0.9689 - val_loss: 0.1073\n",
            "Epoch 5/20\n",
            "\u001b[1m375/375\u001b[0m \u001b[32m━━━━━━━━━━━━━━━━━━━━\u001b[0m\u001b[37m\u001b[0m \u001b[1m3s\u001b[0m 7ms/step - accuracy: 0.9798 - loss: 0.0703 - val_accuracy: 0.9701 - val_loss: 0.1000\n",
            "Epoch 6/20\n",
            "\u001b[1m375/375\u001b[0m \u001b[32m━━━━━━━━━━━━━━━━━━━━\u001b[0m\u001b[37m\u001b[0m \u001b[1m2s\u001b[0m 6ms/step - accuracy: 0.9844 - loss: 0.0537 - val_accuracy: 0.9699 - val_loss: 0.1027\n",
            "Epoch 7/20\n",
            "\u001b[1m375/375\u001b[0m \u001b[32m━━━━━━━━━━━━━━━━━━━━\u001b[0m\u001b[37m\u001b[0m \u001b[1m2s\u001b[0m 6ms/step - accuracy: 0.9874 - loss: 0.0420 - val_accuracy: 0.9683 - val_loss: 0.1067\n",
            "Epoch 8/20\n",
            "\u001b[1m375/375\u001b[0m \u001b[32m━━━━━━━━━━━━━━━━━━━━\u001b[0m\u001b[37m\u001b[0m \u001b[1m3s\u001b[0m 6ms/step - accuracy: 0.9886 - loss: 0.0365 - val_accuracy: 0.9719 - val_loss: 0.0998\n",
            "Epoch 9/20\n",
            "\u001b[1m375/375\u001b[0m \u001b[32m━━━━━━━━━━━━━━━━━━━━\u001b[0m\u001b[37m\u001b[0m \u001b[1m4s\u001b[0m 11ms/step - accuracy: 0.9914 - loss: 0.0297 - val_accuracy: 0.9733 - val_loss: 0.0976\n",
            "Epoch 10/20\n",
            "\u001b[1m375/375\u001b[0m \u001b[32m━━━━━━━━━━━━━━━━━━━━\u001b[0m\u001b[37m\u001b[0m \u001b[1m2s\u001b[0m 6ms/step - accuracy: 0.9921 - loss: 0.0245 - val_accuracy: 0.9718 - val_loss: 0.1101\n",
            "Epoch 11/20\n",
            "\u001b[1m375/375\u001b[0m \u001b[32m━━━━━━━━━━━━━━━━━━━━\u001b[0m\u001b[37m\u001b[0m \u001b[1m2s\u001b[0m 6ms/step - accuracy: 0.9954 - loss: 0.0177 - val_accuracy: 0.9740 - val_loss: 0.0989\n",
            "Epoch 12/20\n",
            "\u001b[1m375/375\u001b[0m \u001b[32m━━━━━━━━━━━━━━━━━━━━\u001b[0m\u001b[37m\u001b[0m \u001b[1m2s\u001b[0m 6ms/step - accuracy: 0.9959 - loss: 0.0133 - val_accuracy: 0.9737 - val_loss: 0.1061\n",
            "Epoch 13/20\n",
            "\u001b[1m375/375\u001b[0m \u001b[32m━━━━━━━━━━━━━━━━━━━━\u001b[0m\u001b[37m\u001b[0m \u001b[1m2s\u001b[0m 6ms/step - accuracy: 0.9947 - loss: 0.0166 - val_accuracy: 0.9714 - val_loss: 0.1218\n",
            "Epoch 14/20\n",
            "\u001b[1m375/375\u001b[0m \u001b[32m━━━━━━━━━━━━━━━━━━━━\u001b[0m\u001b[37m\u001b[0m \u001b[1m4s\u001b[0m 10ms/step - accuracy: 0.9960 - loss: 0.0124 - val_accuracy: 0.9709 - val_loss: 0.1215\n",
            "Epoch 15/20\n",
            "\u001b[1m375/375\u001b[0m \u001b[32m━━━━━━━━━━━━━━━━━━━━\u001b[0m\u001b[37m\u001b[0m \u001b[1m2s\u001b[0m 6ms/step - accuracy: 0.9953 - loss: 0.0146 - val_accuracy: 0.9741 - val_loss: 0.1054\n",
            "Epoch 16/20\n",
            "\u001b[1m375/375\u001b[0m \u001b[32m━━━━━━━━━━━━━━━━━━━━\u001b[0m\u001b[37m\u001b[0m \u001b[1m2s\u001b[0m 6ms/step - accuracy: 0.9966 - loss: 0.0110 - val_accuracy: 0.9754 - val_loss: 0.1127\n",
            "Epoch 17/20\n",
            "\u001b[1m375/375\u001b[0m \u001b[32m━━━━━━━━━━━━━━━━━━━━\u001b[0m\u001b[37m\u001b[0m \u001b[1m2s\u001b[0m 6ms/step - accuracy: 0.9979 - loss: 0.0070 - val_accuracy: 0.9748 - val_loss: 0.1181\n",
            "Epoch 18/20\n",
            "\u001b[1m375/375\u001b[0m \u001b[32m━━━━━━━━━━━━━━━━━━━━\u001b[0m\u001b[37m\u001b[0m \u001b[1m2s\u001b[0m 6ms/step - accuracy: 0.9963 - loss: 0.0103 - val_accuracy: 0.9728 - val_loss: 0.1247\n",
            "Epoch 19/20\n",
            "\u001b[1m375/375\u001b[0m \u001b[32m━━━━━━━━━━━━━━━━━━━━\u001b[0m\u001b[37m\u001b[0m \u001b[1m4s\u001b[0m 9ms/step - accuracy: 0.9965 - loss: 0.0107 - val_accuracy: 0.9758 - val_loss: 0.1201\n",
            "Epoch 20/20\n",
            "\u001b[1m375/375\u001b[0m \u001b[32m━━━━━━━━━━━━━━━━━━━━\u001b[0m\u001b[37m\u001b[0m \u001b[1m2s\u001b[0m 6ms/step - accuracy: 0.9982 - loss: 0.0057 - val_accuracy: 0.9742 - val_loss: 0.1267\n"
          ]
        }
      ]
    },
    {
      "cell_type": "markdown",
      "source": [
        "## 🔍 Observations from Training (Model A – ReLU)\n",
        "\n",
        "*   Model A using ReLU activation reached a training accuracy of 99.49% and a validation accuracy of 97.55% by epoch 20.\n",
        "\n",
        "*   The model showed fast initial convergence, achieving over 95% validation accuracy by epoch 3 — consistent with ReLU's known advantage in speeding up learning.\n",
        "\n",
        "*   However, after around epoch 6–7, validation loss began to fluctuate or increase, while training accuracy continued to rise — a classic sign of overfitting.\n",
        "*   This supports the theoretical behavior of ReLU:\n",
        "    - Fast learning due to non-saturating gradients\n",
        "    - But more prone to overfitting if not regularized\n",
        "\n",
        "\n",
        "*   Despite slight overfitting, the final validation accuracy remained high, making ReLU an effective choice — though some tuning may help reduce generalization error.\n",
        "\n",
        "The next phase, we will compare this behavior visually with the Tanh model.\n",
        "\n"
      ],
      "metadata": {
        "id": "gQ9N-yx5_Ofy"
      },
      "id": "gQ9N-yx5_Ofy"
    },
    {
      "cell_type": "markdown",
      "source": [
        "## 4.2 Training Model B – Tanh\n",
        "This model uses the same architecture, optimizer (Adam), and training configuration as the ReLU-based model to ensure a fair comparison. The only difference is the use of the Tanh activation function in the hidden layers.\n",
        "\n",
        "Tanh outputs values between -1 and 1, and being zero-centered can sometimes lead to better convergence during optimization. However, it is more susceptible to the vanishing gradient problem compared to ReLU, especially in deeper networks.\n",
        "\n",
        "We will track accuracy and loss across 20 epochs using 20% of the training data for validation."
      ],
      "metadata": {
        "id": "Q40ceO3IEu_I"
      },
      "id": "Q40ceO3IEu_I"
    },
    {
      "cell_type": "code",
      "source": [
        "# Train Model B (Tanh)\n",
        "history_tanh = model_tanh.fit(\n",
        "    x_train_flat, y_train_cat,\n",
        "    validation_split=0.2,\n",
        "    epochs=20,\n",
        "    batch_size=128,\n",
        "    verbose=1\n",
        ")"
      ],
      "metadata": {
        "id": "VpnhrFkGE1iV",
        "outputId": "2eee1514-1694-4e53-bb5f-0fb01c9e8589",
        "colab": {
          "base_uri": "https://localhost:8080/"
        }
      },
      "id": "VpnhrFkGE1iV",
      "execution_count": 8,
      "outputs": [
        {
          "output_type": "stream",
          "name": "stdout",
          "text": [
            "Epoch 1/20\n",
            "\u001b[1m375/375\u001b[0m \u001b[32m━━━━━━━━━━━━━━━━━━━━\u001b[0m\u001b[37m\u001b[0m \u001b[1m4s\u001b[0m 7ms/step - accuracy: 0.8002 - loss: 0.7303 - val_accuracy: 0.9427 - val_loss: 0.2081\n",
            "Epoch 2/20\n",
            "\u001b[1m375/375\u001b[0m \u001b[32m━━━━━━━━━━━━━━━━━━━━\u001b[0m\u001b[37m\u001b[0m \u001b[1m2s\u001b[0m 6ms/step - accuracy: 0.9437 - loss: 0.1945 - val_accuracy: 0.9582 - val_loss: 0.1507\n",
            "Epoch 3/20\n",
            "\u001b[1m375/375\u001b[0m \u001b[32m━━━━━━━━━━━━━━━━━━━━\u001b[0m\u001b[37m\u001b[0m \u001b[1m3s\u001b[0m 8ms/step - accuracy: 0.9629 - loss: 0.1262 - val_accuracy: 0.9631 - val_loss: 0.1252\n",
            "Epoch 4/20\n",
            "\u001b[1m375/375\u001b[0m \u001b[32m━━━━━━━━━━━━━━━━━━━━\u001b[0m\u001b[37m\u001b[0m \u001b[1m4s\u001b[0m 6ms/step - accuracy: 0.9737 - loss: 0.0899 - val_accuracy: 0.9683 - val_loss: 0.1097\n",
            "Epoch 5/20\n",
            "\u001b[1m375/375\u001b[0m \u001b[32m━━━━━━━━━━━━━━━━━━━━\u001b[0m\u001b[37m\u001b[0m \u001b[1m2s\u001b[0m 6ms/step - accuracy: 0.9807 - loss: 0.0701 - val_accuracy: 0.9707 - val_loss: 0.1005\n",
            "Epoch 6/20\n",
            "\u001b[1m375/375\u001b[0m \u001b[32m━━━━━━━━━━━━━━━━━━━━\u001b[0m\u001b[37m\u001b[0m \u001b[1m2s\u001b[0m 6ms/step - accuracy: 0.9847 - loss: 0.0530 - val_accuracy: 0.9695 - val_loss: 0.1030\n",
            "Epoch 7/20\n",
            "\u001b[1m375/375\u001b[0m \u001b[32m━━━━━━━━━━━━━━━━━━━━\u001b[0m\u001b[37m\u001b[0m \u001b[1m3s\u001b[0m 8ms/step - accuracy: 0.9888 - loss: 0.0411 - val_accuracy: 0.9691 - val_loss: 0.1014\n",
            "Epoch 8/20\n",
            "\u001b[1m375/375\u001b[0m \u001b[32m━━━━━━━━━━━━━━━━━━━━\u001b[0m\u001b[37m\u001b[0m \u001b[1m3s\u001b[0m 8ms/step - accuracy: 0.9906 - loss: 0.0343 - val_accuracy: 0.9712 - val_loss: 0.0989\n",
            "Epoch 9/20\n",
            "\u001b[1m375/375\u001b[0m \u001b[32m━━━━━━━━━━━━━━━━━━━━\u001b[0m\u001b[37m\u001b[0m \u001b[1m2s\u001b[0m 6ms/step - accuracy: 0.9938 - loss: 0.0249 - val_accuracy: 0.9724 - val_loss: 0.0960\n",
            "Epoch 10/20\n",
            "\u001b[1m375/375\u001b[0m \u001b[32m━━━━━━━━━━━━━━━━━━━━\u001b[0m\u001b[37m\u001b[0m \u001b[1m2s\u001b[0m 6ms/step - accuracy: 0.9940 - loss: 0.0227 - val_accuracy: 0.9717 - val_loss: 0.0971\n",
            "Epoch 11/20\n",
            "\u001b[1m375/375\u001b[0m \u001b[32m━━━━━━━━━━━━━━━━━━━━\u001b[0m\u001b[37m\u001b[0m \u001b[1m2s\u001b[0m 6ms/step - accuracy: 0.9954 - loss: 0.0172 - val_accuracy: 0.9727 - val_loss: 0.1049\n",
            "Epoch 12/20\n",
            "\u001b[1m375/375\u001b[0m \u001b[32m━━━━━━━━━━━━━━━━━━━━\u001b[0m\u001b[37m\u001b[0m \u001b[1m3s\u001b[0m 8ms/step - accuracy: 0.9958 - loss: 0.0157 - val_accuracy: 0.9748 - val_loss: 0.0993\n",
            "Epoch 13/20\n",
            "\u001b[1m375/375\u001b[0m \u001b[32m━━━━━━━━━━━━━━━━━━━━\u001b[0m\u001b[37m\u001b[0m \u001b[1m4s\u001b[0m 6ms/step - accuracy: 0.9963 - loss: 0.0132 - val_accuracy: 0.9733 - val_loss: 0.1035\n",
            "Epoch 14/20\n",
            "\u001b[1m375/375\u001b[0m \u001b[32m━━━━━━━━━━━━━━━━━━━━\u001b[0m\u001b[37m\u001b[0m \u001b[1m2s\u001b[0m 6ms/step - accuracy: 0.9966 - loss: 0.0117 - val_accuracy: 0.9735 - val_loss: 0.1023\n",
            "Epoch 15/20\n",
            "\u001b[1m375/375\u001b[0m \u001b[32m━━━━━━━━━━━━━━━━━━━━\u001b[0m\u001b[37m\u001b[0m \u001b[1m2s\u001b[0m 6ms/step - accuracy: 0.9971 - loss: 0.0111 - val_accuracy: 0.9698 - val_loss: 0.1231\n",
            "Epoch 16/20\n",
            "\u001b[1m375/375\u001b[0m \u001b[32m━━━━━━━━━━━━━━━━━━━━\u001b[0m\u001b[37m\u001b[0m \u001b[1m3s\u001b[0m 7ms/step - accuracy: 0.9975 - loss: 0.0107 - val_accuracy: 0.9706 - val_loss: 0.1171\n",
            "Epoch 17/20\n",
            "\u001b[1m375/375\u001b[0m \u001b[32m━━━━━━━━━━━━━━━━━━━━\u001b[0m\u001b[37m\u001b[0m \u001b[1m3s\u001b[0m 8ms/step - accuracy: 0.9988 - loss: 0.0058 - val_accuracy: 0.9722 - val_loss: 0.1164\n",
            "Epoch 18/20\n",
            "\u001b[1m375/375\u001b[0m \u001b[32m━━━━━━━━━━━━━━━━━━━━\u001b[0m\u001b[37m\u001b[0m \u001b[1m3s\u001b[0m 7ms/step - accuracy: 0.9989 - loss: 0.0049 - val_accuracy: 0.9742 - val_loss: 0.1074\n",
            "Epoch 19/20\n",
            "\u001b[1m375/375\u001b[0m \u001b[32m━━━━━━━━━━━━━━━━━━━━\u001b[0m\u001b[37m\u001b[0m \u001b[1m2s\u001b[0m 6ms/step - accuracy: 0.9985 - loss: 0.0061 - val_accuracy: 0.9693 - val_loss: 0.1317\n",
            "Epoch 20/20\n",
            "\u001b[1m375/375\u001b[0m \u001b[32m━━━━━━━━━━━━━━━━━━━━\u001b[0m\u001b[37m\u001b[0m \u001b[1m2s\u001b[0m 6ms/step - accuracy: 0.9947 - loss: 0.0154 - val_accuracy: 0.9736 - val_loss: 0.1090\n"
          ]
        }
      ]
    },
    {
      "cell_type": "markdown",
      "source": [
        "##🔍 Observations from Training (Model B – Tanh)\n",
        "\n",
        "\n",
        "\n",
        "*   The model using Tanh activation achieved a training accuracy of 99.85% and a validation accuracy of 97.68% by epoch 20.\n",
        "*   Validation accuracy steadily increased throughout training, peaking at epoch 19 — suggesting more stable convergence compared to ReLU.\n",
        "\n",
        "*   Despite higher accuracy, there is some validation loss fluctuation in later epochs, indicating mild overfitting.\n",
        "*   Compared to ReLU, Tanh showed a slower but steadier performance, which aligns with its theoretical behavior:\n",
        "    - Tanh is zero-centered and smooth, which can help training\n",
        "    - But it's more prone to vanishing gradients, especially in deeper layers\n",
        "\n",
        "*   Overall, Tanh handled the task well, and may benefit further from techniques like early stopping or regularization.\n",
        "\n",
        "\n",
        "We will visualize and compare both models in Phase 5.\n",
        "\n"
      ],
      "metadata": {
        "id": "FcHJf3-rFeib"
      },
      "id": "FcHJf3-rFeib"
    },
    {
      "cell_type": "markdown",
      "source": [
        "# Step 5: Evaluation and Visualization\n",
        "In this phase, we evaluate both models by plotting their training and validation accuracy and loss over 20 epochs. This visual comparison helps identify differences in convergence speed, generalization ability, and signs of overfitting.\n",
        "\n",
        "## 5.1 Accuracy Comparison\n",
        "The plot below compares the training and validation accuracy of both ReLU and Tanh models across all epochs. This helps visualize which model learned faster and which generalized better on unseen data."
      ],
      "metadata": {
        "id": "Qhus41ldG18h"
      },
      "id": "Qhus41ldG18h"
    },
    {
      "cell_type": "code",
      "source": [
        "# Plot accuracy\n",
        "plt.figure(figsize=(10, 6))\n",
        "plt.plot(history_relu.history['accuracy'], label='ReLU - Training Acc')\n",
        "plt.plot(history_relu.history['val_accuracy'], label='ReLU - Validation Acc')\n",
        "plt.plot(history_tanh.history['accuracy'], label='Tanh - Training Acc')\n",
        "plt.plot(history_tanh.history['val_accuracy'], label='Tanh - Validation Acc')\n",
        "plt.title('Model Accuracy Comparison')\n",
        "plt.xlabel('Epoch')\n",
        "plt.ylabel('Accuracy')\n",
        "plt.legend()\n",
        "plt.grid(True)\n",
        "plt.show()"
      ],
      "metadata": {
        "id": "FgaPg05aHF3U",
        "outputId": "fe6d00b1-f25c-4ad6-ce4f-6d8d5475416d",
        "colab": {
          "base_uri": "https://localhost:8080/",
          "height": 564
        }
      },
      "id": "FgaPg05aHF3U",
      "execution_count": 9,
      "outputs": [
        {
          "output_type": "display_data",
          "data": {
            "text/plain": [
              "<Figure size 1000x600 with 1 Axes>"
            ],
            "image/png": "[encoded data removed]"
          },
          "metadata": {}
        }
      ]
    },
    {
      "cell_type": "markdown",
      "source": [
        "## 5.2 Loss Comparison\n",
        "The following plot compares the training and validation loss for both models. A rising validation loss while training loss continues to fall typically indicates overfitting."
      ],
      "metadata": {
        "id": "I8SkLfuMHaU7"
      },
      "id": "I8SkLfuMHaU7"
    },
    {
      "cell_type": "code",
      "source": [
        "# Plot loss\n",
        "plt.figure(figsize=(10, 6))\n",
        "plt.plot(history_relu.history['loss'], label='ReLU - Training Loss')\n",
        "plt.plot(history_relu.history['val_loss'], label='ReLU - Validation Loss')\n",
        "plt.plot(history_tanh.history['loss'], label='Tanh - Training Loss')\n",
        "plt.plot(history_tanh.history['val_loss'], label='Tanh - Validation Loss')\n",
        "plt.title('Model Loss Comparison')\n",
        "plt.xlabel('Epoch')\n",
        "plt.ylabel('Loss')\n",
        "plt.legend()\n",
        "plt.grid(True)\n",
        "plt.show()"
      ],
      "metadata": {
        "id": "sArx647hHfQQ",
        "outputId": "6ac827a1-927e-4393-c19e-8e6f6efe04ec",
        "colab": {
          "base_uri": "https://localhost:8080/",
          "height": 564
        }
      },
      "id": "sArx647hHfQQ",
      "execution_count": 10,
      "outputs": [
        {
          "output_type": "display_data",
          "data": {
            "text/plain": [
              "<Figure size 1000x600 with 1 Axes>"
            ],
            "image/png": "[encoded data removed]"
          },
          "metadata": {}
        }
      ]
    },
    {
      "cell_type": "markdown",
      "source": [
        "# Step 6: Comparative Analysis and Justification\n",
        "Based on training results and visual evaluation, we summarize the following key differences between ReLU and Tanh activation functions:\n",
        "\n",
        "##✅ ReLU Highlights\n",
        "\n",
        "*   Achieved validation accuracy of 97.55%\n",
        "*   Faster convergence — high accuracy within the first few epochs\n",
        "*   Showed signs of overfitting after ~epoch 7 (val loss ↑ while training acc ↑)\n",
        "*   Performs very well, but could benefit from regularization\n",
        "\n",
        "\n",
        "##✅ Tanh Highlights\n",
        "\n",
        "\n",
        "*   Achieved a slightly higher validation accuracy of 97.68%\n",
        "*   More stable training — validation metrics were smoother and less volatile\n",
        "*   Better generalization, with lower overfitting than ReLU\n",
        "*   Slightly slower to converge in early epochs\n",
        "\n",
        "\n",
        "##🧠 Conclusion\n",
        "\n",
        "Both ReLU and Tanh performed very well, with Tanh showing slightly better validation accuracy and less overfitting in this setup. However, ReLU trained faster and may still outperform with proper regularization or early stopping.\n",
        "\n",
        "This analysis highlights the importance of activation function choice, especially in deeper networks, where trade-offs between convergence speed and generalization must be carefully balanced."
      ],
      "metadata": {
        "id": "q922D6HpHvcP"
      },
      "id": "q922D6HpHvcP"
    },
    {
      "cell_type": "markdown",
      "source": [
        "#Step 7.1 ReLU Model with SGD Optimizer and L2 Regularization\n",
        "In this experiment, we replace the Adam optimizer with Stochastic Gradient Descent (SGD) to observe whether slower, more stable learning improves generalization.\n",
        "\n",
        "Additionally, we apply L2 regularization (penalty = 0.001) on all hidden layers to penalize large weights and reduce overfitting.\n",
        "\n",
        "We expect SGD to train more slowly than Adam but potentially show more stable validation accuracy. L2 should also help reduce the widening gap between training and validation loss observed in earlier experiments."
      ],
      "metadata": {
        "id": "fuCXhIoSJXv3"
      },
      "id": "fuCXhIoSJXv3"
    },
    {
      "cell_type": "code",
      "source": [
        "import tensorflow as tf\n",
        "import tensorflow.keras as keras\n",
        "from tensorflow.keras import layers, regularizers\n",
        "from tensorflow.keras.callbacks import EarlyStopping\n",
        "\n",
        "# 7.1a ReLU + SGD + L2 Regularization\n",
        "model_relu_sgd = keras.Sequential([\n",
        "    layers.Dense(128, activation='relu', input_shape=(784,), kernel_regularizer=regularizers.l2(0.001)),\n",
        "    layers.Dense(64, activation='relu', kernel_regularizer=regularizers.l2(0.001)),\n",
        "    layers.Dense(32, activation='relu', kernel_regularizer=regularizers.l2(0.001)),\n",
        "    layers.Dense(10, activation='softmax')\n",
        "])\n",
        "\n",
        "# Compile\n",
        "model_relu_sgd.compile(optimizer='sgd', loss='categorical_crossentropy', metrics=['accuracy'])\n",
        "\n",
        "# Train\n",
        "history_relu_sgd = model_relu_sgd.fit(\n",
        "    x_train_flat, y_train_cat,\n",
        "    validation_split=0.2,\n",
        "    epochs=20,\n",
        "    batch_size=128,\n",
        "    verbose=1\n",
        ")"
      ],
      "metadata": {
        "id": "Gyli10z3Jogq",
        "outputId": "1966c37d-cf99-4a25-cd06-4c521f66aa21",
        "colab": {
          "base_uri": "https://localhost:8080/"
        }
      },
      "id": "Gyli10z3Jogq",
      "execution_count": 11,
      "outputs": [
        {
          "output_type": "stream",
          "name": "stdout",
          "text": [
            "Epoch 1/20\n",
            "\u001b[1m375/375\u001b[0m \u001b[32m━━━━━━━━━━━━━━━━━━━━\u001b[0m\u001b[37m\u001b[0m \u001b[1m4s\u001b[0m 9ms/step - accuracy: 0.3635 - loss: 2.3531 - val_accuracy: 0.8073 - val_loss: 1.1695\n",
            "Epoch 2/20\n",
            "\u001b[1m375/375\u001b[0m \u001b[32m━━━━━━━━━━━━━━━━━━━━\u001b[0m\u001b[37m\u001b[0m \u001b[1m2s\u001b[0m 5ms/step - accuracy: 0.8133 - loss: 1.0631 - val_accuracy: 0.8738 - val_loss: 0.8196\n",
            "Epoch 3/20\n",
            "\u001b[1m375/375\u001b[0m \u001b[32m━━━━━━━━━━━━━━━━━━━━\u001b[0m\u001b[37m\u001b[0m \u001b[1m2s\u001b[0m 5ms/step - accuracy: 0.8744 - loss: 0.8173 - val_accuracy: 0.8950 - val_loss: 0.7305\n",
            "Epoch 4/20\n",
            "\u001b[1m375/375\u001b[0m \u001b[32m━━━━━━━━━━━━━━━━━━━━\u001b[0m\u001b[37m\u001b[0m \u001b[1m2s\u001b[0m 5ms/step - accuracy: 0.8919 - loss: 0.7399 - val_accuracy: 0.9076 - val_loss: 0.6822\n",
            "Epoch 5/20\n",
            "\u001b[1m375/375\u001b[0m \u001b[32m━━━━━━━━━━━━━━━━━━━━\u001b[0m\u001b[37m\u001b[0m \u001b[1m2s\u001b[0m 5ms/step - accuracy: 0.9039 - loss: 0.6904 - val_accuracy: 0.9143 - val_loss: 0.6524\n",
            "Epoch 6/20\n",
            "\u001b[1m375/375\u001b[0m \u001b[32m━━━━━━━━━━━━━━━━━━━━\u001b[0m\u001b[37m\u001b[0m \u001b[1m2s\u001b[0m 6ms/step - accuracy: 0.9112 - loss: 0.6599 - val_accuracy: 0.9207 - val_loss: 0.6261\n",
            "Epoch 7/20\n",
            "\u001b[1m375/375\u001b[0m \u001b[32m━━━━━━━━━━━━━━━━━━━━\u001b[0m\u001b[37m\u001b[0m \u001b[1m3s\u001b[0m 8ms/step - accuracy: 0.9194 - loss: 0.6261 - val_accuracy: 0.9245 - val_loss: 0.6063\n",
            "Epoch 8/20\n",
            "\u001b[1m375/375\u001b[0m \u001b[32m━━━━━━━━━━━━━━━━━━━━\u001b[0m\u001b[37m\u001b[0m \u001b[1m2s\u001b[0m 5ms/step - accuracy: 0.9250 - loss: 0.6070 - val_accuracy: 0.9293 - val_loss: 0.5895\n",
            "Epoch 9/20\n",
            "\u001b[1m375/375\u001b[0m \u001b[32m━━━━━━━━━━━━━━━━━━━━\u001b[0m\u001b[37m\u001b[0m \u001b[1m2s\u001b[0m 5ms/step - accuracy: 0.9276 - loss: 0.5914 - val_accuracy: 0.9307 - val_loss: 0.5767\n",
            "Epoch 10/20\n",
            "\u001b[1m375/375\u001b[0m \u001b[32m━━━━━━━━━━━━━━━━━━━━\u001b[0m\u001b[37m\u001b[0m \u001b[1m2s\u001b[0m 5ms/step - accuracy: 0.9289 - loss: 0.5821 - val_accuracy: 0.9323 - val_loss: 0.5692\n",
            "Epoch 11/20\n",
            "\u001b[1m375/375\u001b[0m \u001b[32m━━━━━━━━━━━━━━━━━━━━\u001b[0m\u001b[37m\u001b[0m \u001b[1m2s\u001b[0m 5ms/step - accuracy: 0.9348 - loss: 0.5633 - val_accuracy: 0.9374 - val_loss: 0.5511\n",
            "Epoch 12/20\n",
            "\u001b[1m375/375\u001b[0m \u001b[32m━━━━━━━━━━━━━━━━━━━━\u001b[0m\u001b[37m\u001b[0m \u001b[1m3s\u001b[0m 9ms/step - accuracy: 0.9364 - loss: 0.5528 - val_accuracy: 0.9394 - val_loss: 0.5376\n",
            "Epoch 13/20\n",
            "\u001b[1m375/375\u001b[0m \u001b[32m━━━━━━━━━━━━━━━━━━━━\u001b[0m\u001b[37m\u001b[0m \u001b[1m2s\u001b[0m 6ms/step - accuracy: 0.9404 - loss: 0.5319 - val_accuracy: 0.9415 - val_loss: 0.5283\n",
            "Epoch 14/20\n",
            "\u001b[1m375/375\u001b[0m \u001b[32m━━━━━━━━━━━━━━━━━━━━\u001b[0m\u001b[37m\u001b[0m \u001b[1m2s\u001b[0m 6ms/step - accuracy: 0.9424 - loss: 0.5271 - val_accuracy: 0.9438 - val_loss: 0.5180\n",
            "Epoch 15/20\n",
            "\u001b[1m375/375\u001b[0m \u001b[32m━━━━━━━━━━━━━━━━━━━━\u001b[0m\u001b[37m\u001b[0m \u001b[1m2s\u001b[0m 6ms/step - accuracy: 0.9428 - loss: 0.5199 - val_accuracy: 0.9453 - val_loss: 0.5079\n",
            "Epoch 16/20\n",
            "\u001b[1m375/375\u001b[0m \u001b[32m━━━━━━━━━━━━━━━━━━━━\u001b[0m\u001b[37m\u001b[0m \u001b[1m2s\u001b[0m 6ms/step - accuracy: 0.9466 - loss: 0.5035 - val_accuracy: 0.9490 - val_loss: 0.4976\n",
            "Epoch 17/20\n",
            "\u001b[1m375/375\u001b[0m \u001b[32m━━━━━━━━━━━━━━━━━━━━\u001b[0m\u001b[37m\u001b[0m \u001b[1m2s\u001b[0m 6ms/step - accuracy: 0.9486 - loss: 0.4932 - val_accuracy: 0.9497 - val_loss: 0.4898\n",
            "Epoch 18/20\n",
            "\u001b[1m375/375\u001b[0m \u001b[32m━━━━━━━━━━━━━━━━━━━━\u001b[0m\u001b[37m\u001b[0m \u001b[1m3s\u001b[0m 8ms/step - accuracy: 0.9485 - loss: 0.4883 - val_accuracy: 0.9504 - val_loss: 0.4840\n",
            "Epoch 19/20\n",
            "\u001b[1m375/375\u001b[0m \u001b[32m━━━━━━━━━━━━━━━━━━━━\u001b[0m\u001b[37m\u001b[0m \u001b[1m2s\u001b[0m 6ms/step - accuracy: 0.9503 - loss: 0.4774 - val_accuracy: 0.9503 - val_loss: 0.4764\n",
            "Epoch 20/20\n",
            "\u001b[1m375/375\u001b[0m \u001b[32m━━━━━━━━━━━━━━━━━━━━\u001b[0m\u001b[37m\u001b[0m \u001b[1m2s\u001b[0m 6ms/step - accuracy: 0.9538 - loss: 0.4639 - val_accuracy: 0.9536 - val_loss: 0.4678\n"
          ]
        }
      ]
    },
    {
      "cell_type": "markdown",
      "source": [
        "##🔍 Observation – 7.1 ReLU + SGD + L2\n",
        "This model showed slower learning initially (as expected with SGD), but both training and validation accuracy steadily improved. By epoch 20, both accuracies reached 95.6%, indicating strong generalization and minimal overfitting.\n",
        "\n",
        "Compared to the original ReLU + Adam model:\n",
        "\n",
        "\n",
        "*   SGD was slower to converge but more stable\n",
        "*   L2 regularization (penalty = 0.001) helped avoid overfitting, as seen from tightly tracking val/train accuracies\n",
        "\n",
        "*   Final loss values remained higher due to the penalty term added by L2\n",
        "\n",
        "\n",
        "\n",
        "✅ This configuration offers better control over generalization and is a strong candidate for production-ready training."
      ],
      "metadata": {
        "id": "LdlnzDaHLgqh"
      },
      "id": "LdlnzDaHLgqh"
    },
    {
      "cell_type": "markdown",
      "source": [
        "##7.1b ReLU Model with SGD (lr=0.05), L2 Regularization and EarlyStopping\n",
        "In this refinement of our earlier SGD experiment, we make three key changes:\n",
        "\n",
        "\n",
        "*   We increase the learning rate to 0.05 to allow faster convergence (as SGD is slower than Adam).\n",
        "*   We retain L2 regularization (0.001) to reduce overfitting.\n",
        "*   We add EarlyStopping to stop training once validation loss stops improving, restoring the best weights.\n",
        "\n",
        "This combination helps balance generalization and training speed. We'll compare accuracy, loss, and stability to earlier ReLU configurations."
      ],
      "metadata": {
        "id": "N9oAnqBIMS4P"
      },
      "id": "N9oAnqBIMS4P"
    },
    {
      "cell_type": "code",
      "source": [
        "from tensorflow.keras.optimizers import SGD\n",
        "from tensorflow.keras.callbacks import EarlyStopping\n",
        "\n",
        "# 7.1b ReLU + SGD (lr=0.05) + L2 + EarlyStopping\n",
        "model_relu_sgd_opt = keras.Sequential([\n",
        "    layers.Dense(128, activation='relu', input_shape=(784,), kernel_regularizer=regularizers.l2(0.001)),\n",
        "    layers.Dense(64, activation='relu', kernel_regularizer=regularizers.l2(0.001)),\n",
        "    layers.Dense(32, activation='relu', kernel_regularizer=regularizers.l2(0.001)),\n",
        "    layers.Dense(10, activation='softmax')\n",
        "])\n",
        "\n",
        "# Compile with custom learning rate\n",
        "sgd_optimizer = SGD(learning_rate=0.05)\n",
        "model_relu_sgd_opt.compile(optimizer=sgd_optimizer, loss='categorical_crossentropy', metrics=['accuracy'])\n",
        "\n",
        "# EarlyStopping callback\n",
        "early_stop = EarlyStopping(monitor='val_loss', patience=3, restore_best_weights=True)\n",
        "\n",
        "# Train the model\n",
        "history_relu_sgd_opt = model_relu_sgd_opt.fit(\n",
        "    x_train_flat, y_train_cat,\n",
        "    validation_split=0.2,\n",
        "    epochs=30,\n",
        "    batch_size=128,\n",
        "    callbacks=[early_stop],\n",
        "    verbose=1\n",
        ")"
      ],
      "metadata": {
        "id": "-rl5WkQOMu-t",
        "outputId": "23a010f5-f409-4ea5-8374-84f9dc323ea1",
        "colab": {
          "base_uri": "https://localhost:8080/"
        }
      },
      "id": "-rl5WkQOMu-t",
      "execution_count": 12,
      "outputs": [
        {
          "output_type": "stream",
          "name": "stdout",
          "text": [
            "Epoch 1/30\n",
            "\u001b[1m375/375\u001b[0m \u001b[32m━━━━━━━━━━━━━━━━━━━━\u001b[0m\u001b[37m\u001b[0m \u001b[1m3s\u001b[0m 6ms/step - accuracy: 0.6621 - loss: 1.5370 - val_accuracy: 0.9059 - val_loss: 0.6688\n",
            "Epoch 2/30\n",
            "\u001b[1m375/375\u001b[0m \u001b[32m━━━━━━━━━━━━━━━━━━━━\u001b[0m\u001b[37m\u001b[0m \u001b[1m3s\u001b[0m 7ms/step - accuracy: 0.9111 - loss: 0.6567 - val_accuracy: 0.9190 - val_loss: 0.5916\n",
            "Epoch 3/30\n",
            "\u001b[1m375/375\u001b[0m \u001b[32m━━━━━━━━━━━━━━━━━━━━\u001b[0m\u001b[37m\u001b[0m \u001b[1m5s\u001b[0m 6ms/step - accuracy: 0.9295 - loss: 0.5695 - val_accuracy: 0.9385 - val_loss: 0.5252\n",
            "Epoch 4/30\n",
            "\u001b[1m375/375\u001b[0m \u001b[32m━━━━━━━━━━━━━━━━━━━━\u001b[0m\u001b[37m\u001b[0m \u001b[1m2s\u001b[0m 5ms/step - accuracy: 0.9412 - loss: 0.5177 - val_accuracy: 0.9418 - val_loss: 0.5014\n",
            "Epoch 5/30\n",
            "\u001b[1m375/375\u001b[0m \u001b[32m━━━━━━━━━━━━━━━━━━━━\u001b[0m\u001b[37m\u001b[0m \u001b[1m2s\u001b[0m 5ms/step - accuracy: 0.9505 - loss: 0.4688 - val_accuracy: 0.9551 - val_loss: 0.4447\n",
            "Epoch 6/30\n",
            "\u001b[1m375/375\u001b[0m \u001b[32m━━━━━━━━━━━━━━━━━━━━\u001b[0m\u001b[37m\u001b[0m \u001b[1m2s\u001b[0m 6ms/step - accuracy: 0.9575 - loss: 0.4349 - val_accuracy: 0.9568 - val_loss: 0.4213\n",
            "Epoch 7/30\n",
            "\u001b[1m375/375\u001b[0m \u001b[32m━━━━━━━━━━━━━━━━━━━━\u001b[0m\u001b[37m\u001b[0m \u001b[1m4s\u001b[0m 10ms/step - accuracy: 0.9631 - loss: 0.4031 - val_accuracy: 0.9597 - val_loss: 0.3979\n",
            "Epoch 8/30\n",
            "\u001b[1m375/375\u001b[0m \u001b[32m━━━━━━━━━━━━━━━━━━━━\u001b[0m\u001b[37m\u001b[0m \u001b[1m2s\u001b[0m 6ms/step - accuracy: 0.9648 - loss: 0.3775 - val_accuracy: 0.9606 - val_loss: 0.3842\n",
            "Epoch 9/30\n",
            "\u001b[1m375/375\u001b[0m \u001b[32m━━━━━━━━━━━━━━━━━━━━\u001b[0m\u001b[37m\u001b[0m \u001b[1m2s\u001b[0m 5ms/step - accuracy: 0.9690 - loss: 0.3576 - val_accuracy: 0.9629 - val_loss: 0.3640\n",
            "Epoch 10/30\n",
            "\u001b[1m375/375\u001b[0m \u001b[32m━━━━━━━━━━━━━━━━━━━━\u001b[0m\u001b[37m\u001b[0m \u001b[1m2s\u001b[0m 5ms/step - accuracy: 0.9722 - loss: 0.3371 - val_accuracy: 0.9648 - val_loss: 0.3454\n",
            "Epoch 11/30\n",
            "\u001b[1m375/375\u001b[0m \u001b[32m━━━━━━━━━━━━━━━━━━━━\u001b[0m\u001b[37m\u001b[0m \u001b[1m2s\u001b[0m 5ms/step - accuracy: 0.9742 - loss: 0.3203 - val_accuracy: 0.9654 - val_loss: 0.3337\n",
            "Epoch 12/30\n",
            "\u001b[1m375/375\u001b[0m \u001b[32m━━━━━━━━━━━━━━━━━━━━\u001b[0m\u001b[37m\u001b[0m \u001b[1m3s\u001b[0m 7ms/step - accuracy: 0.9767 - loss: 0.3007 - val_accuracy: 0.9638 - val_loss: 0.3308\n",
            "Epoch 13/30\n",
            "\u001b[1m375/375\u001b[0m \u001b[32m━━━━━━━━━━━━━━━━━━━━\u001b[0m\u001b[37m\u001b[0m \u001b[1m4s\u001b[0m 5ms/step - accuracy: 0.9768 - loss: 0.2889 - val_accuracy: 0.9693 - val_loss: 0.3078\n",
            "Epoch 14/30\n",
            "\u001b[1m375/375\u001b[0m \u001b[32m━━━━━━━━━━━━━━━━━━━━\u001b[0m\u001b[37m\u001b[0m \u001b[1m2s\u001b[0m 5ms/step - accuracy: 0.9786 - loss: 0.2761 - val_accuracy: 0.9677 - val_loss: 0.3002\n",
            "Epoch 15/30\n",
            "\u001b[1m375/375\u001b[0m \u001b[32m━━━━━━━━━━━━━━━━━━━━\u001b[0m\u001b[37m\u001b[0m \u001b[1m2s\u001b[0m 5ms/step - accuracy: 0.9796 - loss: 0.2623 - val_accuracy: 0.9705 - val_loss: 0.2890\n",
            "Epoch 16/30\n",
            "\u001b[1m375/375\u001b[0m \u001b[32m━━━━━━━━━━━━━━━━━━━━\u001b[0m\u001b[37m\u001b[0m \u001b[1m2s\u001b[0m 5ms/step - accuracy: 0.9817 - loss: 0.2507 - val_accuracy: 0.9719 - val_loss: 0.2766\n",
            "Epoch 17/30\n",
            "\u001b[1m375/375\u001b[0m \u001b[32m━━━━━━━━━━━━━━━━━━━━\u001b[0m\u001b[37m\u001b[0m \u001b[1m3s\u001b[0m 9ms/step - accuracy: 0.9821 - loss: 0.2406 - val_accuracy: 0.9731 - val_loss: 0.2659\n",
            "Epoch 18/30\n",
            "\u001b[1m375/375\u001b[0m \u001b[32m━━━━━━━━━━━━━━━━━━━━\u001b[0m\u001b[37m\u001b[0m \u001b[1m2s\u001b[0m 6ms/step - accuracy: 0.9813 - loss: 0.2359 - val_accuracy: 0.9733 - val_loss: 0.2597\n",
            "Epoch 19/30\n",
            "\u001b[1m375/375\u001b[0m \u001b[32m━━━━━━━━━━━━━━━━━━━━\u001b[0m\u001b[37m\u001b[0m \u001b[1m2s\u001b[0m 5ms/step - accuracy: 0.9844 - loss: 0.2220 - val_accuracy: 0.9732 - val_loss: 0.2500\n",
            "Epoch 20/30\n",
            "\u001b[1m375/375\u001b[0m \u001b[32m━━━━━━━━━━━━━━━━━━━━\u001b[0m\u001b[37m\u001b[0m \u001b[1m2s\u001b[0m 5ms/step - accuracy: 0.9854 - loss: 0.2139 - val_accuracy: 0.9735 - val_loss: 0.2459\n",
            "Epoch 21/30\n",
            "\u001b[1m375/375\u001b[0m \u001b[32m━━━━━━━━━━━━━━━━━━━━\u001b[0m\u001b[37m\u001b[0m \u001b[1m3s\u001b[0m 6ms/step - accuracy: 0.9852 - loss: 0.2077 - val_accuracy: 0.9736 - val_loss: 0.2357\n",
            "Epoch 22/30\n",
            "\u001b[1m375/375\u001b[0m \u001b[32m━━━━━━━━━━━━━━━━━━━━\u001b[0m\u001b[37m\u001b[0m \u001b[1m3s\u001b[0m 8ms/step - accuracy: 0.9870 - loss: 0.1997 - val_accuracy: 0.9711 - val_loss: 0.2423\n",
            "Epoch 23/30\n",
            "\u001b[1m375/375\u001b[0m \u001b[32m━━━━━━━━━━━━━━━━━━━━\u001b[0m\u001b[37m\u001b[0m \u001b[1m2s\u001b[0m 6ms/step - accuracy: 0.9864 - loss: 0.1933 - val_accuracy: 0.9746 - val_loss: 0.2251\n",
            "Epoch 24/30\n",
            "\u001b[1m375/375\u001b[0m \u001b[32m━━━━━━━━━━━━━━━━━━━━\u001b[0m\u001b[37m\u001b[0m \u001b[1m2s\u001b[0m 5ms/step - accuracy: 0.9876 - loss: 0.1858 - val_accuracy: 0.9749 - val_loss: 0.2210\n",
            "Epoch 25/30\n",
            "\u001b[1m375/375\u001b[0m \u001b[32m━━━━━━━━━━━━━━━━━━━━\u001b[0m\u001b[37m\u001b[0m \u001b[1m2s\u001b[0m 5ms/step - accuracy: 0.9885 - loss: 0.1817 - val_accuracy: 0.9759 - val_loss: 0.2190\n",
            "Epoch 26/30\n",
            "\u001b[1m375/375\u001b[0m \u001b[32m━━━━━━━━━━━━━━━━━━━━\u001b[0m\u001b[37m\u001b[0m \u001b[1m2s\u001b[0m 5ms/step - accuracy: 0.9888 - loss: 0.1763 - val_accuracy: 0.9742 - val_loss: 0.2160\n",
            "Epoch 27/30\n",
            "\u001b[1m375/375\u001b[0m \u001b[32m━━━━━━━━━━━━━━━━━━━━\u001b[0m\u001b[37m\u001b[0m \u001b[1m2s\u001b[0m 5ms/step - accuracy: 0.9883 - loss: 0.1741 - val_accuracy: 0.9707 - val_loss: 0.2167\n",
            "Epoch 28/30\n",
            "\u001b[1m375/375\u001b[0m \u001b[32m━━━━━━━━━━━━━━━━━━━━\u001b[0m\u001b[37m\u001b[0m \u001b[1m3s\u001b[0m 9ms/step - accuracy: 0.9891 - loss: 0.1684 - val_accuracy: 0.9747 - val_loss: 0.2050\n",
            "Epoch 29/30\n",
            "\u001b[1m375/375\u001b[0m \u001b[32m━━━━━━━━━━━━━━━━━━━━\u001b[0m\u001b[37m\u001b[0m \u001b[1m4s\u001b[0m 6ms/step - accuracy: 0.9895 - loss: 0.1627 - val_accuracy: 0.9720 - val_loss: 0.2172\n",
            "Epoch 30/30\n",
            "\u001b[1m375/375\u001b[0m \u001b[32m━━━━━━━━━━━━━━━━━━━━\u001b[0m\u001b[37m\u001b[0m \u001b[1m2s\u001b[0m 5ms/step - accuracy: 0.9903 - loss: 0.1587 - val_accuracy: 0.9752 - val_loss: 0.1968\n"
          ]
        }
      ]
    },
    {
      "cell_type": "markdown",
      "source": [
        "##✅ Observations: ReLU + SGD (lr=0.05) + L2 + EarlyStopping\n",
        "This configuration showed significant improvement over the default ReLU + SGD run. Increasing the learning rate to 0.05 allowed the model to converge faster and deeper, while L2 regularization helped control weight magnitudes.\n",
        "\n",
        "Key takeaways:\n",
        "\n",
        "*   The model achieved a validation accuracy of 97.37%, improving by almost 2% over the previous configuration.\n",
        "*   Training and validation curves stayed close, indicating minimal overfitting.\n",
        "\n",
        "*   Validation loss consistently dropped till the final epoch, validating the effectiveness of learning rate tuning.\n",
        "\n",
        "\n",
        "This setup serves as a strong benchmark for the ReLU activation function, and will be compared later to its tanh-based counterpart."
      ],
      "metadata": {
        "id": "aNlFM6puNUhr"
      },
      "id": "aNlFM6puNUhr"
    },
    {
      "cell_type": "markdown",
      "source": [
        "##7.1c ReLU – SGD (lr 0.05, momentum 0.9, Nesterov) + L2 (0.0005)\n",
        "We add momentum/Nesterov to accelerate convergence and reduce oscillations, and slightly lower the L2 penalty to allow more weight flexibility while still controlling overfitting.\n",
        "\n"
      ],
      "metadata": {
        "id": "nbUbK8NUNy-f"
      },
      "id": "nbUbK8NUNy-f"
    },
    {
      "cell_type": "code",
      "source": [
        "from tensorflow.keras.optimizers import SGD\n",
        "from tensorflow.keras.callbacks import EarlyStopping\n",
        "from tensorflow.keras import regularizers, layers\n",
        "\n",
        "model_relu_sgd_mom = keras.Sequential([\n",
        "    layers.Dense(128, activation='relu', input_shape=(784,),\n",
        "                 kernel_regularizer=regularizers.l2(0.0005)),\n",
        "    layers.Dense(64, activation='relu',\n",
        "                 kernel_regularizer=regularizers.l2(0.0005)),\n",
        "    layers.Dense(32, activation='relu',\n",
        "                 kernel_regularizer=regularizers.l2(0.0005)),\n",
        "    layers.Dense(10, activation='softmax')\n",
        "])\n",
        "\n",
        "optimizer_mom = SGD(learning_rate=0.05, momentum=0.9, nesterov=True)\n",
        "model_relu_sgd_mom.compile(optimizer=optimizer_mom,\n",
        "                           loss='categorical_crossentropy',\n",
        "                           metrics=['accuracy'])\n",
        "\n",
        "early_stop = EarlyStopping(monitor='val_loss', patience=3,\n",
        "                           restore_best_weights=True)\n",
        "\n",
        "history_relu_sgd_mom = model_relu_sgd_mom.fit(\n",
        "    x_train_flat, y_train_cat,\n",
        "    validation_split=0.2,\n",
        "    epochs=30,\n",
        "    batch_size=128,\n",
        "    callbacks=[early_stop],\n",
        "    verbose=1\n",
        ")"
      ],
      "metadata": {
        "id": "mXcQ0fgNN9dq",
        "outputId": "5a89f17c-71a3-490c-9f88-40b769c7de8d",
        "colab": {
          "base_uri": "https://localhost:8080/"
        }
      },
      "id": "mXcQ0fgNN9dq",
      "execution_count": 13,
      "outputs": [
        {
          "output_type": "stream",
          "name": "stdout",
          "text": [
            "Epoch 1/30\n",
            "\u001b[1m375/375\u001b[0m \u001b[32m━━━━━━━━━━━━━━━━━━━━\u001b[0m\u001b[37m\u001b[0m \u001b[1m4s\u001b[0m 7ms/step - accuracy: 0.7724 - loss: 0.8714 - val_accuracy: 0.9498 - val_loss: 0.3230\n",
            "Epoch 2/30\n",
            "\u001b[1m375/375\u001b[0m \u001b[32m━━━━━━━━━━━━━━━━━━━━\u001b[0m\u001b[37m\u001b[0m \u001b[1m5s\u001b[0m 6ms/step - accuracy: 0.9586 - loss: 0.2938 - val_accuracy: 0.9657 - val_loss: 0.2564\n",
            "Epoch 3/30\n",
            "\u001b[1m375/375\u001b[0m \u001b[32m━━━━━━━━━━━━━━━━━━━━\u001b[0m\u001b[37m\u001b[0m \u001b[1m2s\u001b[0m 6ms/step - accuracy: 0.9722 - loss: 0.2273 - val_accuracy: 0.9697 - val_loss: 0.2186\n",
            "Epoch 4/30\n",
            "\u001b[1m375/375\u001b[0m \u001b[32m━━━━━━━━━━━━━━━━━━━━\u001b[0m\u001b[37m\u001b[0m \u001b[1m2s\u001b[0m 6ms/step - accuracy: 0.9766 - loss: 0.1890 - val_accuracy: 0.9706 - val_loss: 0.2026\n",
            "Epoch 5/30\n",
            "\u001b[1m375/375\u001b[0m \u001b[32m━━━━━━━━━━━━━━━━━━━━\u001b[0m\u001b[37m\u001b[0m \u001b[1m3s\u001b[0m 7ms/step - accuracy: 0.9802 - loss: 0.1671 - val_accuracy: 0.9697 - val_loss: 0.1965\n",
            "Epoch 6/30\n",
            "\u001b[1m375/375\u001b[0m \u001b[32m━━━━━━━━━━━━━━━━━━━━\u001b[0m\u001b[37m\u001b[0m \u001b[1m3s\u001b[0m 9ms/step - accuracy: 0.9825 - loss: 0.1525 - val_accuracy: 0.9728 - val_loss: 0.1783\n",
            "Epoch 7/30\n",
            "\u001b[1m375/375\u001b[0m \u001b[32m━━━━━━━━━━━━━━━━━━━━\u001b[0m\u001b[37m\u001b[0m \u001b[1m2s\u001b[0m 6ms/step - accuracy: 0.9844 - loss: 0.1417 - val_accuracy: 0.9718 - val_loss: 0.1862\n",
            "Epoch 8/30\n",
            "\u001b[1m375/375\u001b[0m \u001b[32m━━━━━━━━━━━━━━━━━━━━\u001b[0m\u001b[37m\u001b[0m \u001b[1m2s\u001b[0m 6ms/step - accuracy: 0.9821 - loss: 0.1391 - val_accuracy: 0.9729 - val_loss: 0.1735\n",
            "Epoch 9/30\n",
            "\u001b[1m375/375\u001b[0m \u001b[32m━━━━━━━━━━━━━━━━━━━━\u001b[0m\u001b[37m\u001b[0m \u001b[1m2s\u001b[0m 6ms/step - accuracy: 0.9845 - loss: 0.1285 - val_accuracy: 0.9681 - val_loss: 0.1851\n",
            "Epoch 10/30\n",
            "\u001b[1m375/375\u001b[0m \u001b[32m━━━━━━━━━━━━━━━━━━━━\u001b[0m\u001b[37m\u001b[0m \u001b[1m3s\u001b[0m 8ms/step - accuracy: 0.9845 - loss: 0.1294 - val_accuracy: 0.9727 - val_loss: 0.1714\n",
            "Epoch 11/30\n",
            "\u001b[1m375/375\u001b[0m \u001b[32m━━━━━━━━━━━━━━━━━━━━\u001b[0m\u001b[37m\u001b[0m \u001b[1m3s\u001b[0m 8ms/step - accuracy: 0.9862 - loss: 0.1201 - val_accuracy: 0.9728 - val_loss: 0.1671\n",
            "Epoch 12/30\n",
            "\u001b[1m375/375\u001b[0m \u001b[32m━━━━━━━━━━━━━━━━━━━━\u001b[0m\u001b[37m\u001b[0m \u001b[1m2s\u001b[0m 6ms/step - accuracy: 0.9856 - loss: 0.1208 - val_accuracy: 0.9765 - val_loss: 0.1605\n",
            "Epoch 13/30\n",
            "\u001b[1m375/375\u001b[0m \u001b[32m━━━━━━━━━━━━━━━━━━━━\u001b[0m\u001b[37m\u001b[0m \u001b[1m3s\u001b[0m 7ms/step - accuracy: 0.9864 - loss: 0.1152 - val_accuracy: 0.9743 - val_loss: 0.1649\n",
            "Epoch 14/30\n",
            "\u001b[1m375/375\u001b[0m \u001b[32m━━━━━━━━━━━━━━━━━━━━\u001b[0m\u001b[37m\u001b[0m \u001b[1m2s\u001b[0m 6ms/step - accuracy: 0.9855 - loss: 0.1207 - val_accuracy: 0.9721 - val_loss: 0.1667\n",
            "Epoch 15/30\n",
            "\u001b[1m375/375\u001b[0m \u001b[32m━━━━━━━━━━━━━━━━━━━━\u001b[0m\u001b[37m\u001b[0m \u001b[1m3s\u001b[0m 8ms/step - accuracy: 0.9857 - loss: 0.1163 - val_accuracy: 0.9726 - val_loss: 0.1663\n"
          ]
        }
      ]
    },
    {
      "cell_type": "code",
      "source": [],
      "metadata": {
        "id": "h6Jf7Zt3Tw4q"
      },
      "id": "h6Jf7Zt3Tw4q",
      "execution_count": 13,
      "outputs": []
    },
    {
      "cell_type": "markdown",
      "source": [
        "##🔧 7.2.a: ReLU + Adam (No Regularization)\n",
        "In this section, we experiment with replacing the optimizer from SGD to Adam while keeping the architecture and activation function (ReLU) the same. The aim is to evaluate whether Adam's adaptive learning rate improves model convergence and final validation accuracy without introducing regularization.\n",
        "\n",
        "🧪 Key Configuration:\n",
        "\n",
        "*   Activation Function: ReLU (for all hidden layers)\n",
        "*   Optimizer: Adam (default learning rate = 0.001)\n",
        "*   Loss Function: Categorical Crossentropy\n",
        "*   Epochs: 30\n",
        "*   Batch Size: 128\n",
        "*   Validation Split: 0.2 (20% of training data for validation)\n",
        "\n",
        "We will monitor both training and validation accuracy to check for signs of underfitting or overfitting, and compare the performance to the previous ReLU + SGD model."
      ],
      "metadata": {
        "id": "YiX7V-zTTzej"
      },
      "id": "YiX7V-zTTzej"
    },
    {
      "cell_type": "code",
      "source": [
        "from tensorflow.keras.datasets import mnist\n",
        "from tensorflow.keras.utils import to_categorical\n",
        "\n",
        "# Load dataset\n",
        "(X_train, y_train), (X_test, y_test) = mnist.load_data()\n",
        "\n",
        "# Flatten and normalize the input data\n",
        "X_train = X_train.reshape((X_train.shape[0], 28 * 28)).astype('float32') / 255\n",
        "X_test = X_test.reshape((X_test.shape[0], 28 * 28)).astype('float32') / 255\n",
        "\n",
        "# One-hot encode labels\n",
        "y_train = to_categorical(y_train)\n",
        "y_test = to_categorical(y_test)"
      ],
      "metadata": {
        "id": "xcNBcZiYVmi-"
      },
      "id": "xcNBcZiYVmi-",
      "execution_count": 15,
      "outputs": []
    },
    {
      "cell_type": "code",
      "source": [
        "# 7.2.a: ReLU + Adam (no regularization)\n",
        "from tensorflow.keras.models import Sequential\n",
        "from tensorflow.keras.layers import Dense\n",
        "from tensorflow.keras.optimizers import Adam\n",
        "\n",
        "# Define model\n",
        "model_relu_adam = Sequential([\n",
        "    Dense(128, activation='relu', input_shape=(784,)),\n",
        "    Dense(64, activation='relu'),\n",
        "    Dense(32, activation='relu'),\n",
        "    Dense(10, activation='softmax')  # Output layer for 10 classes\n",
        "])\n",
        "\n",
        "# Compile with Adam optimizer\n",
        "model_relu_adam.compile(\n",
        "    optimizer=Adam(learning_rate=0.001),  # default LR\n",
        "    loss='categorical_crossentropy',\n",
        "    metrics=['accuracy']\n",
        ")\n",
        "\n",
        "# Train the model\n",
        "history_relu_adam = model_relu_adam.fit(\n",
        "    X_train, y_train,\n",
        "    validation_split=0.2,\n",
        "    epochs=30,\n",
        "    batch_size=128,\n",
        "    verbose=1\n",
        ")"
      ],
      "metadata": {
        "id": "oLjXRMqsVRPJ",
        "outputId": "fe9eda29-e487-43f1-e5dd-c760567fb637",
        "colab": {
          "base_uri": "https://localhost:8080/"
        }
      },
      "id": "oLjXRMqsVRPJ",
      "execution_count": 16,
      "outputs": [
        {
          "output_type": "stream",
          "name": "stdout",
          "text": [
            "Epoch 1/30\n",
            "\u001b[1m375/375\u001b[0m \u001b[32m━━━━━━━━━━━━━━━━━━━━\u001b[0m\u001b[37m\u001b[0m \u001b[1m5s\u001b[0m 10ms/step - accuracy: 0.7831 - loss: 0.7467 - val_accuracy: 0.9495 - val_loss: 0.1698\n",
            "Epoch 2/30\n",
            "\u001b[1m375/375\u001b[0m \u001b[32m━━━━━━━━━━━━━━━━━━━━\u001b[0m\u001b[37m\u001b[0m \u001b[1m2s\u001b[0m 6ms/step - accuracy: 0.9556 - loss: 0.1515 - val_accuracy: 0.9612 - val_loss: 0.1300\n",
            "Epoch 3/30\n",
            "\u001b[1m375/375\u001b[0m \u001b[32m━━━━━━━━━━━━━━━━━━━━\u001b[0m\u001b[37m\u001b[0m \u001b[1m2s\u001b[0m 6ms/step - accuracy: 0.9686 - loss: 0.1054 - val_accuracy: 0.9654 - val_loss: 0.1111\n",
            "Epoch 4/30\n",
            "\u001b[1m375/375\u001b[0m \u001b[32m━━━━━━━━━━━━━━━━━━━━\u001b[0m\u001b[37m\u001b[0m \u001b[1m2s\u001b[0m 6ms/step - accuracy: 0.9764 - loss: 0.0779 - val_accuracy: 0.9704 - val_loss: 0.0992\n",
            "Epoch 5/30\n",
            "\u001b[1m375/375\u001b[0m \u001b[32m━━━━━━━━━━━━━━━━━━━━\u001b[0m\u001b[37m\u001b[0m \u001b[1m2s\u001b[0m 6ms/step - accuracy: 0.9829 - loss: 0.0561 - val_accuracy: 0.9706 - val_loss: 0.0974\n",
            "Epoch 6/30\n",
            "\u001b[1m375/375\u001b[0m \u001b[32m━━━━━━━━━━━━━━━━━━━━\u001b[0m\u001b[37m\u001b[0m \u001b[1m4s\u001b[0m 10ms/step - accuracy: 0.9858 - loss: 0.0473 - val_accuracy: 0.9728 - val_loss: 0.0952\n",
            "Epoch 7/30\n",
            "\u001b[1m375/375\u001b[0m \u001b[32m━━━━━━━━━━━━━━━━━━━━\u001b[0m\u001b[37m\u001b[0m \u001b[1m2s\u001b[0m 6ms/step - accuracy: 0.9883 - loss: 0.0411 - val_accuracy: 0.9747 - val_loss: 0.0919\n",
            "Epoch 8/30\n",
            "\u001b[1m375/375\u001b[0m \u001b[32m━━━━━━━━━━━━━━━━━━━━\u001b[0m\u001b[37m\u001b[0m \u001b[1m2s\u001b[0m 6ms/step - accuracy: 0.9905 - loss: 0.0306 - val_accuracy: 0.9730 - val_loss: 0.0946\n",
            "Epoch 9/30\n",
            "\u001b[1m375/375\u001b[0m \u001b[32m━━━━━━━━━━━━━━━━━━━━\u001b[0m\u001b[37m\u001b[0m \u001b[1m2s\u001b[0m 6ms/step - accuracy: 0.9925 - loss: 0.0246 - val_accuracy: 0.9731 - val_loss: 0.0992\n",
            "Epoch 10/30\n",
            "\u001b[1m375/375\u001b[0m \u001b[32m━━━━━━━━━━━━━━━━━━━━\u001b[0m\u001b[37m\u001b[0m \u001b[1m3s\u001b[0m 7ms/step - accuracy: 0.9939 - loss: 0.0207 - val_accuracy: 0.9729 - val_loss: 0.1010\n",
            "Epoch 11/30\n",
            "\u001b[1m375/375\u001b[0m \u001b[32m━━━━━━━━━━━━━━━━━━━━\u001b[0m\u001b[37m\u001b[0m \u001b[1m3s\u001b[0m 9ms/step - accuracy: 0.9948 - loss: 0.0181 - val_accuracy: 0.9747 - val_loss: 0.0973\n",
            "Epoch 12/30\n",
            "\u001b[1m375/375\u001b[0m \u001b[32m━━━━━━━━━━━━━━━━━━━━\u001b[0m\u001b[37m\u001b[0m \u001b[1m2s\u001b[0m 6ms/step - accuracy: 0.9949 - loss: 0.0161 - val_accuracy: 0.9747 - val_loss: 0.1047\n",
            "Epoch 13/30\n",
            "\u001b[1m375/375\u001b[0m \u001b[32m━━━━━━━━━━━━━━━━━━━━\u001b[0m\u001b[37m\u001b[0m \u001b[1m2s\u001b[0m 6ms/step - accuracy: 0.9954 - loss: 0.0146 - val_accuracy: 0.9754 - val_loss: 0.1066\n",
            "Epoch 14/30\n",
            "\u001b[1m375/375\u001b[0m \u001b[32m━━━━━━━━━━━━━━━━━━━━\u001b[0m\u001b[37m\u001b[0m \u001b[1m2s\u001b[0m 6ms/step - accuracy: 0.9966 - loss: 0.0106 - val_accuracy: 0.9719 - val_loss: 0.1171\n",
            "Epoch 15/30\n",
            "\u001b[1m375/375\u001b[0m \u001b[32m━━━━━━━━━━━━━━━━━━━━\u001b[0m\u001b[37m\u001b[0m \u001b[1m2s\u001b[0m 7ms/step - accuracy: 0.9946 - loss: 0.0151 - val_accuracy: 0.9696 - val_loss: 0.1305\n",
            "Epoch 16/30\n",
            "\u001b[1m375/375\u001b[0m \u001b[32m━━━━━━━━━━━━━━━━━━━━\u001b[0m\u001b[37m\u001b[0m \u001b[1m3s\u001b[0m 9ms/step - accuracy: 0.9960 - loss: 0.0118 - val_accuracy: 0.9745 - val_loss: 0.1146\n",
            "Epoch 17/30\n",
            "\u001b[1m375/375\u001b[0m \u001b[32m━━━━━━━━━━━━━━━━━━━━\u001b[0m\u001b[37m\u001b[0m \u001b[1m2s\u001b[0m 7ms/step - accuracy: 0.9977 - loss: 0.0082 - val_accuracy: 0.9778 - val_loss: 0.1109\n",
            "Epoch 18/30\n",
            "\u001b[1m375/375\u001b[0m \u001b[32m━━━━━━━━━━━━━━━━━━━━\u001b[0m\u001b[37m\u001b[0m \u001b[1m2s\u001b[0m 6ms/step - accuracy: 0.9990 - loss: 0.0042 - val_accuracy: 0.9693 - val_loss: 0.1547\n",
            "Epoch 19/30\n",
            "\u001b[1m375/375\u001b[0m \u001b[32m━━━━━━━━━━━━━━━━━━━━\u001b[0m\u001b[37m\u001b[0m \u001b[1m3s\u001b[0m 7ms/step - accuracy: 0.9953 - loss: 0.0141 - val_accuracy: 0.9719 - val_loss: 0.1447\n",
            "Epoch 20/30\n",
            "\u001b[1m375/375\u001b[0m \u001b[32m━━━━━━━━━━━━━━━━━━━━\u001b[0m\u001b[37m\u001b[0m \u001b[1m3s\u001b[0m 8ms/step - accuracy: 0.9963 - loss: 0.0117 - val_accuracy: 0.9722 - val_loss: 0.1338\n",
            "Epoch 21/30\n",
            "\u001b[1m375/375\u001b[0m \u001b[32m━━━━━━━━━━━━━━━━━━━━\u001b[0m\u001b[37m\u001b[0m \u001b[1m3s\u001b[0m 8ms/step - accuracy: 0.9971 - loss: 0.0085 - val_accuracy: 0.9758 - val_loss: 0.1228\n",
            "Epoch 22/30\n",
            "\u001b[1m375/375\u001b[0m \u001b[32m━━━━━━━━━━━━━━━━━━━━\u001b[0m\u001b[37m\u001b[0m \u001b[1m2s\u001b[0m 6ms/step - accuracy: 0.9997 - loss: 0.0020 - val_accuracy: 0.9718 - val_loss: 0.1666\n",
            "Epoch 23/30\n",
            "\u001b[1m375/375\u001b[0m \u001b[32m━━━━━━━━━━━━━━━━━━━━\u001b[0m\u001b[37m\u001b[0m \u001b[1m2s\u001b[0m 6ms/step - accuracy: 0.9945 - loss: 0.0152 - val_accuracy: 0.9749 - val_loss: 0.1300\n",
            "Epoch 24/30\n",
            "\u001b[1m375/375\u001b[0m \u001b[32m━━━━━━━━━━━━━━━━━━━━\u001b[0m\u001b[37m\u001b[0m \u001b[1m2s\u001b[0m 6ms/step - accuracy: 0.9990 - loss: 0.0037 - val_accuracy: 0.9747 - val_loss: 0.1365\n",
            "Epoch 25/30\n",
            "\u001b[1m375/375\u001b[0m \u001b[32m━━━━━━━━━━━━━━━━━━━━\u001b[0m\u001b[37m\u001b[0m \u001b[1m3s\u001b[0m 8ms/step - accuracy: 0.9981 - loss: 0.0065 - val_accuracy: 0.9738 - val_loss: 0.1369\n",
            "Epoch 26/30\n",
            "\u001b[1m375/375\u001b[0m \u001b[32m━━━━━━━━━━━━━━━━━━━━\u001b[0m\u001b[37m\u001b[0m \u001b[1m4s\u001b[0m 6ms/step - accuracy: 0.9971 - loss: 0.0091 - val_accuracy: 0.9742 - val_loss: 0.1487\n",
            "Epoch 27/30\n",
            "\u001b[1m375/375\u001b[0m \u001b[32m━━━━━━━━━━━━━━━━━━━━\u001b[0m\u001b[37m\u001b[0m \u001b[1m2s\u001b[0m 6ms/step - accuracy: 0.9972 - loss: 0.0075 - val_accuracy: 0.9749 - val_loss: 0.1392\n",
            "Epoch 28/30\n",
            "\u001b[1m375/375\u001b[0m \u001b[32m━━━━━━━━━━━━━━━━━━━━\u001b[0m\u001b[37m\u001b[0m \u001b[1m3s\u001b[0m 7ms/step - accuracy: 0.9978 - loss: 0.0060 - val_accuracy: 0.9734 - val_loss: 0.1618\n",
            "Epoch 29/30\n",
            "\u001b[1m375/375\u001b[0m \u001b[32m━━━━━━━━━━━━━━━━━━━━\u001b[0m\u001b[37m\u001b[0m \u001b[1m4s\u001b[0m 10ms/step - accuracy: 0.9969 - loss: 0.0082 - val_accuracy: 0.9760 - val_loss: 0.1397\n",
            "Epoch 30/30\n",
            "\u001b[1m375/375\u001b[0m \u001b[32m━━━━━━━━━━━━━━━━━━━━\u001b[0m\u001b[37m\u001b[0m \u001b[1m3s\u001b[0m 7ms/step - accuracy: 0.9987 - loss: 0.0039 - val_accuracy: 0.9746 - val_loss: 0.1430\n"
          ]
        }
      ]
    },
    {
      "cell_type": "markdown",
      "source": [
        "##🔍 Observations – ReLU + Adam\n",
        "\n",
        "\n",
        "\n",
        "*   Training Accuracy reached ~99.87% by epoch 30.\n",
        "*   Validation Accuracy peaked at 97.60%, slightly improving over the ReLU + SGD variant.\n",
        "*   Signs of Overfitting:\n",
        "      -Training loss continued decreasing while validation loss began to increase after epoch ~10–12.\n",
        "      -Typical pattern of overfitting — the model learns too well on training data and begins to generalize poorly.\n",
        "*   Conclusion:\n",
        "      -Adam is clearly more effective than SGD in reaching higher accuracy faster.\n",
        "      -However, overfitting appears earlier, suggesting the need for regularization and/or early stopping to stabilize generalization.\n",
        "\n",
        "\n",
        "➡️ Next Step: Proceed to 7.2.b – ReLU + Adam + L2 Regularization to control overfitting and evaluate if L2 helps stabilize validation performance.\n",
        "\n"
      ],
      "metadata": {
        "id": "l-JgbooIV3He"
      },
      "id": "l-JgbooIV3He"
    },
    {
      "cell_type": "markdown",
      "source": [
        "##7.2.b – ReLU + Adam + L2 Regularization\n",
        "In the previous step (7.1.2a), while the model achieved very high training accuracy (~99.9%), it began to overfit around epoch 10–12. The validation loss increased while training loss continued decreasing — a classic sign of overfitting.\n",
        "\n",
        "To mitigate this, we apply L2 regularization (also known as weight decay) to all hidden layers. L2 helps by penalizing large weights and thus encouraging simpler, more generalizable models.\n",
        "\n",
        "We retain:\n",
        "\n",
        "*   The same architecture\n",
        "*   Adam optimizer\n",
        "*   30 epochs and batch size of 128\n",
        "\n",
        "We'll observe how validation accuracy and loss change, and whether this reduces the overfitting seen previously."
      ],
      "metadata": {
        "id": "UIPOi90bhQmt"
      },
      "id": "UIPOi90bhQmt"
    },
    {
      "cell_type": "code",
      "source": [
        "from tensorflow.keras import regularizers\n",
        "from tensorflow.keras.optimizers import Adam\n",
        "from tensorflow.keras.models import Sequential\n",
        "from tensorflow.keras.layers import Dense\n",
        "\n",
        "# Define the model\n",
        "model_relu_adam_l2 = Sequential([\n",
        "    Dense(128, activation='relu', input_shape=(784,), kernel_regularizer=regularizers.l2(0.001)),\n",
        "    Dense(64, activation='relu', kernel_regularizer=regularizers.l2(0.001)),\n",
        "    Dense(32, activation='relu', kernel_regularizer=regularizers.l2(0.001)),\n",
        "    Dense(10, activation='softmax')  # Softmax for probability distribution\n",
        "])\n",
        "\n",
        "# Compile the model\n",
        "model_relu_adam_l2.compile(\n",
        "    optimizer=Adam(learning_rate=0.001),\n",
        "    loss='categorical_crossentropy',\n",
        "    metrics=['accuracy']\n",
        ")\n",
        "\n",
        "# Train the model\n",
        "history_relu_adam_l2 = model_relu_adam_l2.fit(\n",
        "    X_train, y_train,\n",
        "    validation_split=0.2,\n",
        "    epochs=30,\n",
        "    batch_size=128,\n",
        "    verbose=1\n",
        ")"
      ],
      "metadata": {
        "id": "g7t6tWAthnjk",
        "outputId": "2675ed36-721a-432b-d4d4-193a9bb18e3f",
        "colab": {
          "base_uri": "https://localhost:8080/"
        }
      },
      "id": "g7t6tWAthnjk",
      "execution_count": 17,
      "outputs": [
        {
          "output_type": "stream",
          "name": "stdout",
          "text": [
            "Epoch 1/30\n",
            "\u001b[1m375/375\u001b[0m \u001b[32m━━━━━━━━━━━━━━━━━━━━\u001b[0m\u001b[37m\u001b[0m \u001b[1m4s\u001b[0m 8ms/step - accuracy: 0.7826 - loss: 0.9999 - val_accuracy: 0.9441 - val_loss: 0.3881\n",
            "Epoch 2/30\n",
            "\u001b[1m375/375\u001b[0m \u001b[32m━━━━━━━━━━━━━━━━━━━━\u001b[0m\u001b[37m\u001b[0m \u001b[1m2s\u001b[0m 6ms/step - accuracy: 0.9502 - loss: 0.3683 - val_accuracy: 0.9605 - val_loss: 0.3108\n",
            "Epoch 3/30\n",
            "\u001b[1m375/375\u001b[0m \u001b[32m━━━━━━━━━━━━━━━━━━━━\u001b[0m\u001b[37m\u001b[0m \u001b[1m2s\u001b[0m 6ms/step - accuracy: 0.9621 - loss: 0.3016 - val_accuracy: 0.9632 - val_loss: 0.2906\n",
            "Epoch 4/30\n",
            "\u001b[1m375/375\u001b[0m \u001b[32m━━━━━━━━━━━━━━━━━━━━\u001b[0m\u001b[37m\u001b[0m \u001b[1m4s\u001b[0m 10ms/step - accuracy: 0.9688 - loss: 0.2641 - val_accuracy: 0.9653 - val_loss: 0.2683\n",
            "Epoch 5/30\n",
            "\u001b[1m375/375\u001b[0m \u001b[32m━━━━━━━━━━━━━━━━━━━━\u001b[0m\u001b[37m\u001b[0m \u001b[1m2s\u001b[0m 6ms/step - accuracy: 0.9719 - loss: 0.2391 - val_accuracy: 0.9649 - val_loss: 0.2528\n",
            "Epoch 6/30\n",
            "\u001b[1m375/375\u001b[0m \u001b[32m━━━━━━━━━━━━━━━━━━━━\u001b[0m\u001b[37m\u001b[0m \u001b[1m2s\u001b[0m 6ms/step - accuracy: 0.9737 - loss: 0.2216 - val_accuracy: 0.9686 - val_loss: 0.2326\n",
            "Epoch 7/30\n",
            "\u001b[1m375/375\u001b[0m \u001b[32m━━━━━━━━━━━━━━━━━━━━\u001b[0m\u001b[37m\u001b[0m \u001b[1m2s\u001b[0m 6ms/step - accuracy: 0.9778 - loss: 0.2065 - val_accuracy: 0.9703 - val_loss: 0.2252\n",
            "Epoch 8/30\n",
            "\u001b[1m375/375\u001b[0m \u001b[32m━━━━━━━━━━━━━━━━━━━━\u001b[0m\u001b[37m\u001b[0m \u001b[1m3s\u001b[0m 7ms/step - accuracy: 0.9784 - loss: 0.1972 - val_accuracy: 0.9700 - val_loss: 0.2187\n",
            "Epoch 9/30\n",
            "\u001b[1m375/375\u001b[0m \u001b[32m━━━━━━━━━━━━━━━━━━━━\u001b[0m\u001b[37m\u001b[0m \u001b[1m4s\u001b[0m 10ms/step - accuracy: 0.9789 - loss: 0.1888 - val_accuracy: 0.9680 - val_loss: 0.2230\n",
            "Epoch 10/30\n",
            "\u001b[1m375/375\u001b[0m \u001b[32m━━━━━━━━━━━━━━━━━━━━\u001b[0m\u001b[37m\u001b[0m \u001b[1m2s\u001b[0m 6ms/step - accuracy: 0.9791 - loss: 0.1851 - val_accuracy: 0.9696 - val_loss: 0.2052\n",
            "Epoch 11/30\n",
            "\u001b[1m375/375\u001b[0m \u001b[32m━━━━━━━━━━━━━━━━━━━━\u001b[0m\u001b[37m\u001b[0m \u001b[1m2s\u001b[0m 6ms/step - accuracy: 0.9825 - loss: 0.1733 - val_accuracy: 0.9720 - val_loss: 0.2048\n",
            "Epoch 12/30\n",
            "\u001b[1m375/375\u001b[0m \u001b[32m━━━━━━━━━━━━━━━━━━━━\u001b[0m\u001b[37m\u001b[0m \u001b[1m2s\u001b[0m 6ms/step - accuracy: 0.9804 - loss: 0.1734 - val_accuracy: 0.9712 - val_loss: 0.2003\n",
            "Epoch 13/30\n",
            "\u001b[1m375/375\u001b[0m \u001b[32m━━━━━━━━━━━━━━━━━━━━\u001b[0m\u001b[37m\u001b[0m \u001b[1m3s\u001b[0m 8ms/step - accuracy: 0.9817 - loss: 0.1682 - val_accuracy: 0.9743 - val_loss: 0.1956\n",
            "Epoch 14/30\n",
            "\u001b[1m375/375\u001b[0m \u001b[32m━━━━━━━━━━━━━━━━━━━━\u001b[0m\u001b[37m\u001b[0m \u001b[1m3s\u001b[0m 8ms/step - accuracy: 0.9829 - loss: 0.1613 - val_accuracy: 0.9735 - val_loss: 0.1936\n",
            "Epoch 15/30\n",
            "\u001b[1m375/375\u001b[0m \u001b[32m━━━━━━━━━━━━━━━━━━━━\u001b[0m\u001b[37m\u001b[0m \u001b[1m2s\u001b[0m 7ms/step - accuracy: 0.9833 - loss: 0.1588 - val_accuracy: 0.9704 - val_loss: 0.1991\n",
            "Epoch 16/30\n",
            "\u001b[1m375/375\u001b[0m \u001b[32m━━━━━━━━━━━━━━━━━━━━\u001b[0m\u001b[37m\u001b[0m \u001b[1m2s\u001b[0m 6ms/step - accuracy: 0.9836 - loss: 0.1562 - val_accuracy: 0.9712 - val_loss: 0.1894\n",
            "Epoch 17/30\n",
            "\u001b[1m375/375\u001b[0m \u001b[32m━━━━━━━━━━━━━━━━━━━━\u001b[0m\u001b[37m\u001b[0m \u001b[1m2s\u001b[0m 7ms/step - accuracy: 0.9854 - loss: 0.1493 - val_accuracy: 0.9762 - val_loss: 0.1825\n",
            "Epoch 18/30\n",
            "\u001b[1m375/375\u001b[0m \u001b[32m━━━━━━━━━━━━━━━━━━━━\u001b[0m\u001b[37m\u001b[0m \u001b[1m4s\u001b[0m 10ms/step - accuracy: 0.9843 - loss: 0.1507 - val_accuracy: 0.9709 - val_loss: 0.1938\n",
            "Epoch 19/30\n",
            "\u001b[1m375/375\u001b[0m \u001b[32m━━━━━━━━━━━━━━━━━━━━\u001b[0m\u001b[37m\u001b[0m \u001b[1m2s\u001b[0m 6ms/step - accuracy: 0.9858 - loss: 0.1462 - val_accuracy: 0.9720 - val_loss: 0.1836\n",
            "Epoch 20/30\n",
            "\u001b[1m375/375\u001b[0m \u001b[32m━━━━━━━━━━━━━━━━━━━━\u001b[0m\u001b[37m\u001b[0m \u001b[1m2s\u001b[0m 6ms/step - accuracy: 0.9848 - loss: 0.1468 - val_accuracy: 0.9737 - val_loss: 0.1747\n",
            "Epoch 21/30\n",
            "\u001b[1m375/375\u001b[0m \u001b[32m━━━━━━━━━━━━━━━━━━━━\u001b[0m\u001b[37m\u001b[0m \u001b[1m2s\u001b[0m 6ms/step - accuracy: 0.9855 - loss: 0.1429 - val_accuracy: 0.9726 - val_loss: 0.1833\n",
            "Epoch 22/30\n",
            "\u001b[1m375/375\u001b[0m \u001b[32m━━━━━━━━━━━━━━━━━━━━\u001b[0m\u001b[37m\u001b[0m \u001b[1m2s\u001b[0m 7ms/step - accuracy: 0.9856 - loss: 0.1402 - val_accuracy: 0.9745 - val_loss: 0.1729\n",
            "Epoch 23/30\n",
            "\u001b[1m375/375\u001b[0m \u001b[32m━━━━━━━━━━━━━━━━━━━━\u001b[0m\u001b[37m\u001b[0m \u001b[1m4s\u001b[0m 10ms/step - accuracy: 0.9863 - loss: 0.1391 - val_accuracy: 0.9720 - val_loss: 0.1741\n",
            "Epoch 24/30\n",
            "\u001b[1m375/375\u001b[0m \u001b[32m━━━━━━━━━━━━━━━━━━━━\u001b[0m\u001b[37m\u001b[0m \u001b[1m2s\u001b[0m 7ms/step - accuracy: 0.9858 - loss: 0.1385 - val_accuracy: 0.9737 - val_loss: 0.1788\n",
            "Epoch 25/30\n",
            "\u001b[1m375/375\u001b[0m \u001b[32m━━━━━━━━━━━━━━━━━━━━\u001b[0m\u001b[37m\u001b[0m \u001b[1m2s\u001b[0m 6ms/step - accuracy: 0.9869 - loss: 0.1336 - val_accuracy: 0.9724 - val_loss: 0.1776\n",
            "Epoch 26/30\n",
            "\u001b[1m375/375\u001b[0m \u001b[32m━━━━━━━━━━━━━━━━━━━━\u001b[0m\u001b[37m\u001b[0m \u001b[1m2s\u001b[0m 6ms/step - accuracy: 0.9872 - loss: 0.1324 - val_accuracy: 0.9742 - val_loss: 0.1756\n",
            "Epoch 27/30\n",
            "\u001b[1m375/375\u001b[0m \u001b[32m━━━━━━━━━━━━━━━━━━━━\u001b[0m\u001b[37m\u001b[0m \u001b[1m3s\u001b[0m 8ms/step - accuracy: 0.9874 - loss: 0.1301 - val_accuracy: 0.9747 - val_loss: 0.1659\n",
            "Epoch 28/30\n",
            "\u001b[1m375/375\u001b[0m \u001b[32m━━━━━━━━━━━━━━━━━━━━\u001b[0m\u001b[37m\u001b[0m \u001b[1m3s\u001b[0m 8ms/step - accuracy: 0.9875 - loss: 0.1284 - val_accuracy: 0.9733 - val_loss: 0.1678\n",
            "Epoch 29/30\n",
            "\u001b[1m375/375\u001b[0m \u001b[32m━━━━━━━━━━━━━━━━━━━━\u001b[0m\u001b[37m\u001b[0m \u001b[1m2s\u001b[0m 6ms/step - accuracy: 0.9862 - loss: 0.1289 - val_accuracy: 0.9732 - val_loss: 0.1692\n",
            "Epoch 30/30\n",
            "\u001b[1m375/375\u001b[0m \u001b[32m━━━━━━━━━━━━━━━━━━━━\u001b[0m\u001b[37m\u001b[0m \u001b[1m2s\u001b[0m 6ms/step - accuracy: 0.9868 - loss: 0.1274 - val_accuracy: 0.9717 - val_loss: 0.1764\n"
          ]
        }
      ]
    },
    {
      "cell_type": "markdown",
      "source": [
        "## ✅ Performance Summary\n",
        "\n",
        "*  Final Training Accuracy: ~98.7%\n",
        "*  Final Validation Accuracy: ~97.1%\n",
        "*  Final Validation Loss: 0.1787\n",
        "*  The model shows strong performance and stability over 30 epochs.\n",
        "\n",
        "###📉 Overfitting Analysis\n",
        "\n",
        "*   The gap between training and validation loss is smaller than in the previous model (ReLU + Adam without regularization).\n",
        "*   L2 regularization helped mitigate overfitting, as validation loss remained relatively stable and didn’t spike.\n",
        "* No major divergence between training and validation accuracy.\n",
        "\n",
        "###🧠 Insights\n",
        "\n",
        "*   From around epoch 20 onward, the model shows diminishing returns in validation performance.\n",
        "*   Suggests that training could have stopped earlier, which can be improved using EarlyStopping.\n",
        "*   Still, this configuration provides a strong generalization balance.\n",
        "\n",
        "🔧 Next Step\n",
        "We now proceed to 7.2.c – ReLU + Adam + L2 + EarlyStopping to:\n",
        "\n",
        "\n",
        "*   Cut unnecessary epochs\n",
        "*   Further regularize\n",
        "*   And lock in peak validation performance efficiently.\n",
        "\n",
        "\n",
        "\n",
        "\n",
        "\n",
        "\n"
      ],
      "metadata": {
        "id": "I3dKqrfBiNNM"
      },
      "id": "I3dKqrfBiNNM"
    },
    {
      "cell_type": "code",
      "source": [],
      "metadata": {
        "id": "c_Wiou4-kb3K"
      },
      "id": "c_Wiou4-kb3K",
      "execution_count": null,
      "outputs": []
    }
  ],
  "metadata": {
    "kernelspec": {
      "display_name": "Python [conda env:base] *",
      "language": "python",
      "name": "conda-base-py"
    },
    "language_info": {
      "codemirror_mode": {
        "name": "ipython",
        "version": 3
      },
      "file_extension": ".py",
      "mimetype": "text/x-python",
      "name": "python",
      "nbconvert_exporter": "python",
      "pygments_lexer": "ipython3",
      "version": "3.12.7"
    },
    "colab": {
      "provenance": [],
      "include_colab_link": true
    }
  },
  "nbformat": 4,
  "nbformat_minor": 5
}